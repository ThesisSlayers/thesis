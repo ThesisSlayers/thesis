{
 "cells": [
  {
   "cell_type": "code",
   "execution_count": null,
   "metadata": {},
   "outputs": [],
   "source": [
    "from fastai.vision.all import *"
   ]
  },
  {
   "cell_type": "code",
   "execution_count": null,
   "metadata": {},
   "outputs": [],
   "source": [
    "scheds = combine_scheds([0.1,0.9],[SchedLin(0.0001,0.001), SchedCos(0.001,0.0001)])"
   ]
  },
  {
   "cell_type": "code",
   "execution_count": null,
   "metadata": {},
   "outputs": [],
   "source": []
  },
  {
   "cell_type": "code",
   "execution_count": null,
   "metadata": {},
   "outputs": [
    {
     "data": {
      "text/html": [
       "<h4 id=\"combine_scheds\" class=\"doc_header\"><code>combine_scheds</code><a href=\"https://github.com/fastai/fastai/tree/master/fastai/callback/schedule.py#L60\" class=\"source_link\" style=\"float:right\">[source]</a></h4><blockquote><p><code>combine_scheds</code>(<strong><code>pcts</code></strong>, <strong><code>scheds</code></strong>)</p>\n",
       "</blockquote>\n",
       "<p>Combine <code>scheds</code> according to <code>pcts</code> in one function</p>\n",
       "<p><a href=\"https://docs.fast.ai/callback.schedule#combine_scheds\" target=\"_blank\" rel=\"noreferrer noopener\">Show in docs</a></p>\n"
      ]
     },
     "metadata": {},
     "output_type": "display_data"
    }
   ],
   "source": [
    "doc(combine_scheds)"
   ]
  },
  {
   "cell_type": "code",
   "execution_count": null,
   "metadata": {},
   "outputs": [],
   "source": []
  }
 ],
 "metadata": {
  "kernelspec": {
   "display_name": "Python 3",
   "language": "python",
   "name": "python3"
  }
 },
 "nbformat": 4,
 "nbformat_minor": 4
}
