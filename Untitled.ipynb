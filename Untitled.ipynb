{
 "cells": [
  {
   "cell_type": "code",
   "execution_count": 1,
   "metadata": {},
   "outputs": [
    {
     "name": "stderr",
     "output_type": "stream",
     "text": [
      "/home/adrian/anaconda3/envs/VE/lib/python3.7/site-packages/torch/cuda/__init__.py:52: UserWarning: CUDA initialization: The NVIDIA driver on your system is too old (found version 10020). Please update your GPU driver by downloading and installing a new version from the URL: http://www.nvidia.com/Download/index.aspx Alternatively, go to: https://pytorch.org to install a PyTorch version that has been compiled with your version of the CUDA driver. (Triggered internally at  /opt/conda/conda-bld/pytorch_1603729047590/work/c10/cuda/CUDAFunctions.cpp:100.)\n",
      "  return torch._C._cuda_getDeviceCount() > 0\n"
     ]
    }
   ],
   "source": [
    "from fastai.vision.all import *\n",
    "from pathlib import Path\n",
    "import torch\n",
    "import torch.nn as nn\n",
    "from torchvision.io import read_image\n",
    "import torch.functional as F"
   ]
  },
  {
   "cell_type": "code",
   "execution_count": 2,
   "metadata": {},
   "outputs": [],
   "source": [
    "path_img = Path('/mnt/data/adrianlopez/Imagenette/') \n",
    "path =  untar_data(URLs.IMAGENETTE, dest=path_img)"
   ]
  },
  {
   "cell_type": "code",
   "execution_count": 3,
   "metadata": {},
   "outputs": [],
   "source": [
    "lbl_dict = dict(\n",
    "    n01440764='tench',\n",
    "    n02102040='English springer',\n",
    "    n02979186='cassette player',\n",
    "    n03000684='chain saw',\n",
    "    n03028079='church',\n",
    "    n03394916='French horn',\n",
    "    n03417042='garbage truck',\n",
    "    n03425413='gas pump',\n",
    "    n03445777='golf ball',\n",
    "    n03888257='parachute'\n",
    ")"
   ]
  },
  {
   "cell_type": "code",
   "execution_count": 4,
   "metadata": {},
   "outputs": [],
   "source": [
    "def label_func(fname):\n",
    "    return lbl_dict[parent_label(fname)]"
   ]
  },
  {
   "cell_type": "code",
   "execution_count": 5,
   "metadata": {},
   "outputs": [],
   "source": [
    "imgs = get_image_files(path)\n",
    "img_tfms = [PILImage.create]\n",
    "lbl_tfms = [label_func, Categorize()]\n",
    "\n",
    "splits = GrandparentSplitter(valid_name='val')(imgs)\n",
    "ds = Datasets(imgs, [img_tfms, lbl_tfms], splits=splits)\n",
    "\n",
    "dls = ds.dataloaders(bs=128, \n",
    "                     after_item=[Resize(224), ToTensor()],\n",
    "                     after_batch=[IntToFloatTensor(), Normalize.from_stats(*imagenet_stats)])"
   ]
  },
  {
   "cell_type": "code",
   "execution_count": 32,
   "metadata": {},
   "outputs": [],
   "source": [
    "body = sequential(ResBlock(1, 3, 64, ks=7, stride=3, act_cls=Mish, bias=False),\n",
    "                  ResBlock(1, 64, 128, stride=2, act_cls=Mish),\n",
    "                  ResBlock(1, 128, 256,  stride=2, act_cls=Mish),\n",
    "                  ResBlock(1, 256, 128, stride=2, act_cls=Mish),\n",
    "                  ResBlock(1, 128, 64,  stride=2, act_cls=Mish)\n",
    "                 )\n",
    "\n",
    "head = sequential(AdaptiveConcatPool2d(1),\n",
    "                  Flatten(),\n",
    "                  LinBnDrop(128, 128, lin_first=True),\n",
    "                  mish,\n",
    "                  nn.Linear(128, 10)\n",
    "                 )\n",
    "\n",
    "m = sequential(body,head).eval()"
   ]
  },
  {
   "cell_type": "code",
   "execution_count": 68,
   "metadata": {},
   "outputs": [
    {
     "data": {
      "text/plain": [
       "(torch.Size([128, 64, 5, 5]), torch.Size([128, 10]))"
      ]
     },
     "execution_count": 68,
     "metadata": {},
     "output_type": "execute_result"
    }
   ],
   "source": [
    "b,_ = dls.one_batch()\n",
    "b = b.cpu()\n",
    "n_embs = tensor(body(b).shape)[1:].prod().item()\n",
    "body(b).shape, m(b).shape"
   ]
  },
  {
   "cell_type": "code",
   "execution_count": 9,
   "metadata": {},
   "outputs": [],
   "source": [
    "# dls = DataLoaders(torch.utils.data.DataLoader(ds.train, batch_size=256), torch.utils.data.DataLoader(ds.valid, batch_size=512))\n",
    "learn = Learner(dls, m, metrics=accuracy)"
   ]
  },
  {
   "cell_type": "code",
   "execution_count": 15,
   "metadata": {},
   "outputs": [
    {
     "data": {
      "text/html": [
       "<table border=\"1\" class=\"dataframe\">\n",
       "  <thead>\n",
       "    <tr style=\"text-align: left;\">\n",
       "      <th>epoch</th>\n",
       "      <th>train_loss</th>\n",
       "      <th>valid_loss</th>\n",
       "      <th>accuracy</th>\n",
       "      <th>time</th>\n",
       "    </tr>\n",
       "  </thead>\n",
       "  <tbody>\n",
       "    <tr>\n",
       "      <td>0</td>\n",
       "      <td>0.939604</td>\n",
       "      <td>1.114729</td>\n",
       "      <td>0.649427</td>\n",
       "      <td>00:15</td>\n",
       "    </tr>\n",
       "    <tr>\n",
       "      <td>1</td>\n",
       "      <td>0.914461</td>\n",
       "      <td>1.041761</td>\n",
       "      <td>0.677452</td>\n",
       "      <td>00:21</td>\n",
       "    </tr>\n",
       "    <tr>\n",
       "      <td>2</td>\n",
       "      <td>0.807988</td>\n",
       "      <td>0.889782</td>\n",
       "      <td>0.724841</td>\n",
       "      <td>00:22</td>\n",
       "    </tr>\n",
       "    <tr>\n",
       "      <td>3</td>\n",
       "      <td>0.707722</td>\n",
       "      <td>0.728764</td>\n",
       "      <td>0.787771</td>\n",
       "      <td>00:20</td>\n",
       "    </tr>\n",
       "    <tr>\n",
       "      <td>4</td>\n",
       "      <td>0.621713</td>\n",
       "      <td>0.710635</td>\n",
       "      <td>0.791338</td>\n",
       "      <td>00:15</td>\n",
       "    </tr>\n",
       "  </tbody>\n",
       "</table>"
      ],
      "text/plain": [
       "<IPython.core.display.HTML object>"
      ]
     },
     "metadata": {},
     "output_type": "display_data"
    }
   ],
   "source": [
    "learn.fit_one_cycle(5)"
   ]
  },
  {
   "cell_type": "code",
   "execution_count": 107,
   "metadata": {},
   "outputs": [],
   "source": [
    "head = torch.nn.MultiheadAttention(1024, 8)"
   ]
  },
  {
   "cell_type": "code",
   "execution_count": 101,
   "metadata": {},
   "outputs": [],
   "source": [
    "x = torch.randn(1,128,1024)\n",
    "x, y = head(x,x,x)"
   ]
  },
  {
   "cell_type": "code",
   "execution_count": 104,
   "metadata": {},
   "outputs": [
    {
     "data": {
      "text/plain": [
       "torch.Size([1, 128, 1024])"
      ]
     },
     "execution_count": 104,
     "metadata": {},
     "output_type": "execute_result"
    }
   ],
   "source": [
    "x.shape"
   ]
  },
  {
   "cell_type": "code",
   "execution_count": 17,
   "metadata": {},
   "outputs": [],
   "source": [
    "vds = get_files(Path(r'/mnt/data/eugeniomarinelli/UCF_Crimes/Videos'), extensions='.mp4')"
   ]
  },
  {
   "cell_type": "code",
   "execution_count": 18,
   "metadata": {},
   "outputs": [
    {
     "data": {
      "text/plain": [
       "'Fighting'"
      ]
     },
     "execution_count": 18,
     "metadata": {},
     "output_type": "execute_result"
    }
   ],
   "source": [
    "vid = vds[0]\n",
    "parent_label(vid)"
   ]
  },
  {
   "cell_type": "code",
   "execution_count": null,
   "metadata": {},
   "outputs": [],
   "source": []
  }
 ],
 "metadata": {
  "kernelspec": {
   "display_name": "Python 3",
   "language": "python",
   "name": "python3"
  },
  "language_info": {
   "codemirror_mode": {
    "name": "ipython",
    "version": 3
   },
   "file_extension": ".py",
   "mimetype": "text/x-python",
   "name": "python",
   "nbconvert_exporter": "python",
   "pygments_lexer": "ipython3",
   "version": "3.7.1"
  }
 },
 "nbformat": 4,
 "nbformat_minor": 4
}
