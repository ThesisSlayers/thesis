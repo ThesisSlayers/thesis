{
 "cells": [
  {
   "cell_type": "code",
   "execution_count": 1,
   "metadata": {},
   "outputs": [],
   "source": [
    "import torch\n",
    "import torch.nn as nn\n",
    "from fastai.vision.all import *\n",
    "from fastai.data.all import *\n",
    "from fastai.distributed import *\n",
    "import pandas as pd\n",
    "from pathlib import Path\n",
    "import time\n",
    "from modules_th.video_block import * \n",
    "from modules_th.inflator import *\n",
    "from modules_th.triplet_loss import *"
   ]
  },
  {
   "cell_type": "code",
   "execution_count": 2,
   "metadata": {},
   "outputs": [],
   "source": [
    "class NullModel(Module):\n",
    "    def __init__(self):\n",
    "        pass\n",
    "    def forward(*x):\n",
    "        return x\n",
    "\n",
    "class NullLoss(Module):\n",
    "    def __init__(self):\n",
    "        pass\n",
    "    def forward(*x):\n",
    "        y = tensor(0.)\n",
    "        y.requires_grad = True\n",
    "        return y\n",
    "    \n",
    "def null_splitter(m):\n",
    "    return [[],[]]"
   ]
  },
  {
   "cell_type": "code",
   "execution_count": 3,
   "metadata": {},
   "outputs": [],
   "source": [
    "def read_data(eugenio):\n",
    "    path_data = '/mnt/data/eugeniomarinelli/videodata/df.csv' if eugenio else '/mnt/data/adrianlopez/Videos/Charades/df.csv'\n",
    "    df = pd.read_csv(path_data, index_col=0).dropna()\n",
    "    return df \n",
    "\n",
    "def get_vid_path(df:pd.Series): return df['paths']\n",
    "def get_lbls(df:pd.Series): return df['lbl']\n",
    "\n",
    "path_data = Path('/mnt/data/adrianlopez/Videos/Charades/df.csv')\n",
    "df = read_data(False)"
   ]
  },
  {
   "cell_type": "code",
   "execution_count": 4,
   "metadata": {},
   "outputs": [],
   "source": [
    "tfms = [[get_vid_path, Video.create],\n",
    "        [get_lbls, Categorize()]]\n",
    "splits = RandomSplitter(seed=42)(df)\n",
    "dsets = Datasets(df, tfms, splits=splits)"
   ]
  },
  {
   "cell_type": "code",
   "execution_count": 5,
   "metadata": {},
   "outputs": [
    {
     "data": {
      "text/plain": [
       "(#221) [PILImage mode=RGB size=320x180,PILImage mode=RGB size=320x180,PILImage mode=RGB size=320x180,PILImage mode=RGB size=320x180,PILImage mode=RGB size=320x180,PILImage mode=RGB size=320x180,PILImage mode=RGB size=320x180,PILImage mode=RGB size=320x180,PILImage mode=RGB size=320x180,PILImage mode=RGB size=320x180...]"
      ]
     },
     "execution_count": 5,
     "metadata": {},
     "output_type": "execute_result"
    }
   ],
   "source": [
    "dsets[0][0]"
   ]
  },
  {
   "cell_type": "code",
   "execution_count": 6,
   "metadata": {},
   "outputs": [],
   "source": [
    "dls = dsets.dataloaders(n_lbl=4, n_el=4, \n",
    "                        dl_type=UniformizedDataLoader,\n",
    "                        after_item=[ResizeTime(l=20), Resize(224), ToTensor()],\n",
    "                        after_batch=[IntToFloatTensor(), Normalize.from_stats(*imagenet_stats)])"
   ]
  },
  {
   "cell_type": "code",
   "execution_count": 7,
   "metadata": {},
   "outputs": [
    {
     "name": "stdout",
     "output_type": "stream",
     "text": [
      "torch.Size([16, 3, 20, 224, 224])\n",
      "TensorCategory([ 21,  21,  21,  21, 110, 110, 110, 110,  54,  54,  54,  54,  33,  33,\n",
      "         33,  33], device='cuda:0')\n"
     ]
    }
   ],
   "source": [
    "b = dls.one_batch()\n",
    "print(b[0].shape)\n",
    "print(b[1])"
   ]
  },
  {
   "cell_type": "code",
   "execution_count": 7,
   "metadata": {},
   "outputs": [],
   "source": [
    "head, body = inflate(create_head(1024, len(dls.vocab), lin_ftrs=[256])), inflate(create_body(resnet34, cut=-2)) \n",
    "learn = Learner(dls, \n",
    "#                 NullModel(),\n",
    "                TLModel(body,head),\n",
    "#                 loss_func=NullLoss(),\n",
    "                MixedLoss(alpha=1.0, margin=.2),\n",
    "#                 splitter=null_splitter,\n",
    "                splitter=my_splitter,\n",
    "#                 opt=Optimizer([0], noop),\n",
    "#                 metrics=lambda *x: 0)\n",
    "                metrics=tl_accuracy)"
   ]
  },
  {
   "cell_type": "code",
   "execution_count": null,
   "metadata": {},
   "outputs": [
    {
     "data": {
      "text/html": [
       "\n",
       "    <div>\n",
       "        <style>\n",
       "            /* Turns off some styling */\n",
       "            progress {\n",
       "                /* gets rid of default border in Firefox and Opera. */\n",
       "                border: none;\n",
       "                /* Needs to be in here for Safari polyfill so background images work as expected. */\n",
       "                background-size: auto;\n",
       "            }\n",
       "            .progress-bar-interrupted, .progress-bar-interrupted::-webkit-progress-bar {\n",
       "                background: #F44336;\n",
       "            }\n",
       "        </style>\n",
       "      <progress value='0' class='' max='1' style='width:300px; height:20px; vertical-align: middle;'></progress>\n",
       "      0.00% [0/1 00:00<00:00]\n",
       "    </div>\n",
       "    \n",
       "<table border=\"1\" class=\"dataframe\">\n",
       "  <thead>\n",
       "    <tr style=\"text-align: left;\">\n",
       "      <th>epoch</th>\n",
       "      <th>train_loss</th>\n",
       "      <th>valid_loss</th>\n",
       "      <th>tl_accuracy</th>\n",
       "      <th>time</th>\n",
       "    </tr>\n",
       "  </thead>\n",
       "  <tbody>\n",
       "  </tbody>\n",
       "</table><p>\n",
       "\n",
       "    <div>\n",
       "        <style>\n",
       "            /* Turns off some styling */\n",
       "            progress {\n",
       "                /* gets rid of default border in Firefox and Opera. */\n",
       "                border: none;\n",
       "                /* Needs to be in here for Safari polyfill so background images work as expected. */\n",
       "                background-size: auto;\n",
       "            }\n",
       "            .progress-bar-interrupted, .progress-bar-interrupted::-webkit-progress-bar {\n",
       "                background: #F44336;\n",
       "            }\n",
       "        </style>\n",
       "      <progress value='32' class='' max='3324' style='width:300px; height:20px; vertical-align: middle;'></progress>\n",
       "      0.96% [32/3324 05:11<8:53:37 13.5773]\n",
       "    </div>\n",
       "    "
      ],
      "text/plain": [
       "<IPython.core.display.HTML object>"
      ]
     },
     "metadata": {},
     "output_type": "display_data"
    }
   ],
   "source": [
    "learn.fine_tune(1)"
   ]
  },
  {
   "cell_type": "code",
   "execution_count": 1,
   "metadata": {},
   "outputs": [
    {
     "name": "stdout",
     "output_type": "stream",
     "text": [
      "Converted 00_core.ipynb.\n",
      "Converted 01_triplet_loss.ipynb.\n",
      "Converted 02_inflator.ipynb.\n",
      "Converted 03_video_block.ipynb.\n",
      "Converted 04_datasets.ipynb.\n",
      "Converted 05_first_inflated_NN.ipynb.\n",
      "Converted index.ipynb.\n"
     ]
    }
   ],
   "source": [
    "from nbdev.export import *\n",
    "notebook2script()"
   ]
  },
  {
   "cell_type": "code",
   "execution_count": null,
   "metadata": {},
   "outputs": [],
   "source": [
    "# default_exp first_inflated_NN"
   ]
  },
  {
   "cell_type": "code",
   "execution_count": null,
   "metadata": {},
   "outputs": [],
   "source": []
  }
 ],
 "metadata": {
  "kernelspec": {
   "display_name": "Python 3",
   "language": "python",
   "name": "python3"
  },
  "language_info": {
   "codemirror_mode": {
    "name": "ipython",
    "version": 3
   },
   "file_extension": ".py",
   "mimetype": "text/x-python",
   "name": "python",
   "nbconvert_exporter": "python",
   "pygments_lexer": "ipython3",
   "version": "3.8.3"
  }
 },
 "nbformat": 4,
 "nbformat_minor": 4
}
