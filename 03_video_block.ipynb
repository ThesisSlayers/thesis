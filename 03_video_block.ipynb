{
 "cells": [
  {
   "cell_type": "code",
   "execution_count": 1,
   "metadata": {},
   "outputs": [],
   "source": [
    "#export\n",
    "import torch\n",
    "import torch.nn as nn\n",
    "from fastai.vision.all import *\n",
    "import time\n",
    "from IPython.display import display, clear_output\n",
    "from fastai.data.all import *\n",
    "import pandas as pd\n",
    "from pathlib import Path\n",
    "import regex as re\n",
    "import numpy as np\n",
    "from collections.abc import Sequence\n"
   ]
  },
  {
   "cell_type": "code",
   "execution_count": 2,
   "metadata": {},
   "outputs": [],
   "source": [
    "#export\n",
    "def show_frames(video,start=0, end=5):\n",
    "    '''show frames in a video from start to end'''\n",
    "    for frame in video[start:end]:\n",
    "        clear_output(wait=True)\n",
    "        frame.show()\n",
    "        time.sleep(0.5)\n"
   ]
  },
  {
   "cell_type": "code",
   "execution_count": 32,
   "metadata": {},
   "outputs": [],
   "source": [
    "\n",
    "@patch \n",
    "def insert(l:L, i, o):\n",
    "    l.items.insert(i, o)\n",
    "\n",
    "class Video(L):\n",
    "    ''' the init function takes a list of PILImage s'''  \n",
    "\n",
    "    @classmethod\n",
    "    def create(cls, paths:(L,list,str), sep='\\n'): \n",
    "        '''create images from frames path in a video'''\n",
    "        paths = paths.split(sep) if isinstance(paths, str) else paths\n",
    "        return cls(map(PILImage.create, paths))\n",
    "    \n",
    "    def __mul__(self, n):\n",
    "        neg = n < 0\n",
    "        if n==0 or abs(n) >=1: return self[[(i+neg)//n for i in range(abs(int(n))*len(self))]]\n",
    "        else: return self/(1/n)\n",
    "        \n",
    "    def __truediv__(self, n):\n",
    "        n = int(n)\n",
    "        return self[::n]\n",
    "    \n",
    "    def __rmul__(self, n):\n",
    "        return self*n\n",
    "    \n",
    "    def __getitem__(self, idx): return self._get(idx) if is_indexer(idx) else Video(self._get(idx), use_list=None, ID=self.ID)      \n"
   ]
  },
  {
   "cell_type": "code",
   "execution_count": 31,
   "metadata": {},
   "outputs": [
    {
     "data": {
      "text/plain": [
       "'../videodata/Charades_v1_rgb/NWFOF/NWFOF-000476.jpg'"
      ]
     },
     "execution_count": 31,
     "metadata": {},
     "output_type": "execute_result"
    }
   ],
   "source": [
    "Video.create(['../videodata/Charades_v1_rgb/NWFOF/NWFOF-000476.jpg','../videodata/Charades_v1_rgb/NWFOF/NWFOF-000477.jpg']).ID"
   ]
  },
  {
   "cell_type": "code",
   "execution_count": 33,
   "metadata": {},
   "outputs": [],
   "source": [
    "#export\n",
    "\n",
    "@patch \n",
    "def insert(l:L, i, o):\n",
    "    l.items.insert(i, o)\n",
    "#Video class with ID \n",
    "class Video(L):\n",
    "    ''' the init function takes a list of PILImage s'''  \n",
    "    def __init__(self, items=None, *rest, use_list=False, match=None, ID=None):\n",
    "        self.ID=ID\n",
    "        L.__init__(self, items=items, *rest, use_list=use_list, match=match)\n",
    "    @classmethod\n",
    "    def create(cls, paths:(L,list,str), sep='\\n'): \n",
    "        '''create images from frames path in a video'''\n",
    "        paths = paths.split(sep) if isinstance(paths, str) else paths\n",
    "        return cls(map(PILImage.create, paths),ID=paths[0])\n",
    "    \n",
    "    def __mul__(self, n):\n",
    "        neg = n < 0\n",
    "        if n==0 or abs(n) >=1: return self[[(i+neg)//n for i in range(abs(int(n))*len(self))]]\n",
    "        else: return self/(1/n)\n",
    "        \n",
    "    def __truediv__(self, n):\n",
    "        n = int(n)\n",
    "        return self[::n]\n",
    "    \n",
    "    def __rmul__(self, n):\n",
    "        return self*n\n",
    "    \n",
    "    def __getitem__(self, idx): return self._get(idx) if is_indexer(idx) else Video(self._get(idx), use_list=None, ID=self.ID)      \n"
   ]
  },
  {
   "cell_type": "code",
   "execution_count": 107,
   "metadata": {},
   "outputs": [],
   "source": [
    "#export\n",
    "def snippets_from_video(vid, l=10, s=2):\n",
    "    '''create list of snippet out a video'''\n",
    "    vid=vid[::s] # skip frames\n",
    "    return [Video([vid[i] for i in range(k*l, k*l + l)]) for k in range(0,len(vid)//l)]\n",
    "        \n",
    "def stretch(vid, l):\n",
    "    vid = vid*(l//len(vid))\n",
    "    if len(vid) == l: return vid\n",
    "    lv = len(vid)\n",
    "    n = l - lv                     # Number of frames to be inserted\n",
    "    d = lv//n                      # Number of frames between inserted frames\n",
    "    idxs = L(range(lv))\n",
    "    for i in range(n):\n",
    "        idxs.insert((d+1)*i, d*i)\n",
    "    return vid[idxs]\n",
    "\n",
    "class ResizeTime(Transform):\n",
    "    split_idx = None # 0- train 1- validation \n",
    "    def __init__(self, skip=2, l=50, drop_last=True,**kwargs): \n",
    "        self.skip = skip\n",
    "        self.l = l\n",
    "        self.drop_last = drop_last\n",
    "        super().__init__(**kwargs)\n",
    "        \n",
    "    def encodes(self, vid:Video, split_idx=split_idx):\n",
    "        '''create a list of frame-images (snippet) out a single video path'''\n",
    "        l, skip, l_vid = self.l, self.skip, len(vid)\n",
    "        if l_vid > l*skip:\n",
    "            snippet_list = snippets_from_video(vid,s=skip,l=l)\n",
    "            idx = len(snippet_list)//2 if split_idx else random.randint(0,len(snippet_list)-1) # ** if validation always takes middle snip\n",
    "            return snippet_list[idx]     \n",
    "        else:\n",
    "            vid = vid[::skip]\n",
    "            vid = stretch(vid, l)         \n",
    "        return vid\n",
    " "
   ]
  },
  {
   "cell_type": "code",
   "execution_count": 116,
   "metadata": {},
   "outputs": [],
   "source": [
    "#export\n",
    "@ToTensor\n",
    "def encodes(self, vid:Video):\n",
    "    return vid.stack().float().permute(3,0,1,2)\n"
   ]
  },
  {
   "cell_type": "code",
   "execution_count": 117,
   "metadata": {},
   "outputs": [
    {
     "data": {
      "text/plain": [
       "(#50) [PILImage mode=RGB size=320x180,PILImage mode=RGB size=320x180,PILImage mode=RGB size=320x180,PILImage mode=RGB size=320x180,PILImage mode=RGB size=320x180,PILImage mode=RGB size=320x180,PILImage mode=RGB size=320x180,PILImage mode=RGB size=320x180,PILImage mode=RGB size=320x180,PILImage mode=RGB size=320x180...]"
      ]
     },
     "execution_count": 117,
     "metadata": {},
     "output_type": "execute_result"
    }
   ],
   "source": [
    "path_charades = Path('/mnt/data/adrianlopez/Videos/Charades') \n",
    "vid = pd.read_csv(path_charades/'df0.csv', index_col=0).loc[0]\n",
    "vid = ResizeTime(50)(Video.create(DF2Paths(path_charades)(vid)))\n",
    "vid\n"
   ]
  },
  {
   "cell_type": "code",
   "execution_count": 118,
   "metadata": {},
   "outputs": [
    {
     "data": {
      "text/plain": [
       "torch.Size([3, 50, 180, 320])"
      ]
     },
     "execution_count": 118,
     "metadata": {},
     "output_type": "execute_result"
    }
   ],
   "source": [
    "ToTensor()(vid).shape"
   ]
  },
  {
   "cell_type": "code",
   "execution_count": 87,
   "metadata": {},
   "outputs": [],
   "source": [
    "#export\n",
    "def _get_sz(x):\n",
    "    if isinstance(x, tuple): x = x[0]\n",
    "    if not isinstance(x, Tensor): return fastuple(x.size)\n",
    "    return fastuple(x.get_meta('img_size', x.get_meta('sz', (x.shape[-1], x.shape[-2]))))\n",
    "\n",
    "@Resize\n",
    "def encodes(self, video:Video):\n",
    "        nw_vid=[]\n",
    "        for frame in video:\n",
    "            orig_sz = _get_sz(frame)\n",
    "            w,h = orig_sz\n",
    "            op = (operator.lt,operator.gt)[self.method==ResizeMethod.Pad]\n",
    "            m = w/self.size[0] if op(w/self.size[0],h/self.size[1]) else h/self.size[1]\n",
    "            cp_sz = (int(m*self.size[0]),int(m*self.size[1]))\n",
    "            tl = fastuple(int(self.pcts[0]*(w-cp_sz[0])), int(self.pcts[1]*(h-cp_sz[1])))\n",
    "            fastaiImg = PILImage.create(np.array(frame.crop_pad(cp_sz, tl, orig_sz=orig_sz, pad_mode=self.pad_mode,\n",
    "                       resize_mode=self.mode_mask if isinstance(frame,PILMask) else self.mode, resize_to=self.size)))\n",
    "            nw_vid.append(fastaiImg)\n",
    "        return Video(nw_vid)\n"
   ]
  },
  {
   "cell_type": "code",
   "execution_count": 94,
   "metadata": {},
   "outputs": [
    {
     "data": {
      "image/png": "[encoded data removed]",
      "text/plain": [
       "PILImage mode=RGB size=160x160"
      ]
     },
     "execution_count": 94,
     "metadata": {},
     "output_type": "execute_result"
    }
   ],
   "source": [
    "path_charades = Path('/mnt/data/adrianlopez/Videos/Charades') \n",
    "vid = pd.read_csv(path_charades/'df0.csv', index_col=0).loc[0]\n",
    "vid = Video.create(DF2Paths(path_charades)(vid))\n",
    "Resize(160)(vid)[0]"
   ]
  },
  {
   "cell_type": "code",
   "execution_count": 6,
   "metadata": {},
   "outputs": [],
   "source": [
    "#export\n",
    "def uniformize_dataset(lbls, n_el=3, n_lbl=3, shuffle=True):\n",
    "    vocab = list(set(lbls))\n",
    "    lbl2idxs = {lbl:[] for lbl in vocab}\n",
    "    for i, lbl in enumerate(lbls): lbl2idxs[lbl].append(i)\n",
    "    if shuffle: [random.shuffle(v) for v in lbl2idxs.values()]\n",
    "    idxs = []\n",
    "    while len(vocab) >= n_lbl:\n",
    "        lbl_samples = random.sample(vocab, n_lbl)\n",
    "        for lbl in lbl_samples:\n",
    "            for i in range(n_el):\n",
    "                idx = lbl2idxs[lbl].pop()\n",
    "                idxs.append(idx)\n",
    "            if len(lbl2idxs[lbl]) <= n_el:\n",
    "                vocab.remove(lbl)\n",
    "    return idxs"
   ]
  },
  {
   "cell_type": "code",
   "execution_count": 22,
   "metadata": {},
   "outputs": [
    {
     "data": {
      "text/html": [
       "<div>\n",
       "<style scoped>\n",
       "    .dataframe tbody tr th:only-of-type {\n",
       "        vertical-align: middle;\n",
       "    }\n",
       "\n",
       "    .dataframe tbody tr th {\n",
       "        vertical-align: top;\n",
       "    }\n",
       "\n",
       "    .dataframe thead th {\n",
       "        text-align: right;\n",
       "    }\n",
       "</style>\n",
       "<table border=\"1\" class=\"dataframe\">\n",
       "  <thead>\n",
       "    <tr style=\"text-align: right;\">\n",
       "      <th></th>\n",
       "      <th>id</th>\n",
       "      <th>coded_lbl</th>\n",
       "      <th>lbl</th>\n",
       "      <th>start</th>\n",
       "      <th>end</th>\n",
       "      <th>test</th>\n",
       "    </tr>\n",
       "  </thead>\n",
       "  <tbody>\n",
       "    <tr>\n",
       "      <th>27930</th>\n",
       "      <td>Y5ZU3</td>\n",
       "      <td>c154</td>\n",
       "      <td>Someone is standing up from somewhere</td>\n",
       "      <td>13.3</td>\n",
       "      <td>19.8</td>\n",
       "      <td>False</td>\n",
       "    </tr>\n",
       "    <tr>\n",
       "      <th>66309</th>\n",
       "      <td>W8XQ9</td>\n",
       "      <td>c154</td>\n",
       "      <td>Someone is standing up from somewhere</td>\n",
       "      <td>0.8</td>\n",
       "      <td>28.7</td>\n",
       "      <td>True</td>\n",
       "    </tr>\n",
       "    <tr>\n",
       "      <th>18355</th>\n",
       "      <td>DJ7DG</td>\n",
       "      <td>c154</td>\n",
       "      <td>Someone is standing up from somewhere</td>\n",
       "      <td>11.7</td>\n",
       "      <td>18.0</td>\n",
       "      <td>False</td>\n",
       "    </tr>\n",
       "    <tr>\n",
       "      <th>56432</th>\n",
       "      <td>DPB7X</td>\n",
       "      <td>c059</td>\n",
       "      <td>Sitting in a chair</td>\n",
       "      <td>0.0</td>\n",
       "      <td>10.0</td>\n",
       "      <td>True</td>\n",
       "    </tr>\n",
       "    <tr>\n",
       "      <th>30925</th>\n",
       "      <td>RF00I</td>\n",
       "      <td>c059</td>\n",
       "      <td>Sitting in a chair</td>\n",
       "      <td>16.9</td>\n",
       "      <td>43.3</td>\n",
       "      <td>False</td>\n",
       "    </tr>\n",
       "    <tr>\n",
       "      <th>2003</th>\n",
       "      <td>X42YA</td>\n",
       "      <td>c059</td>\n",
       "      <td>Sitting in a chair</td>\n",
       "      <td>14.3</td>\n",
       "      <td>32.3</td>\n",
       "      <td>False</td>\n",
       "    </tr>\n",
       "  </tbody>\n",
       "</table>\n",
       "</div>"
      ],
      "text/plain": [
       "          id coded_lbl                                    lbl  start   end  \\\n",
       "27930  Y5ZU3      c154  Someone is standing up from somewhere   13.3  19.8   \n",
       "66309  W8XQ9      c154  Someone is standing up from somewhere    0.8  28.7   \n",
       "18355  DJ7DG      c154  Someone is standing up from somewhere   11.7  18.0   \n",
       "56432  DPB7X      c059                     Sitting in a chair    0.0  10.0   \n",
       "30925  RF00I      c059                     Sitting in a chair   16.9  43.3   \n",
       "2003   X42YA      c059                     Sitting in a chair   14.3  32.3   \n",
       "\n",
       "        test  \n",
       "27930  False  \n",
       "66309   True  \n",
       "18355  False  \n",
       "56432   True  \n",
       "30925  False  \n",
       "2003   False  "
      ]
     },
     "execution_count": 22,
     "metadata": {},
     "output_type": "execute_result"
    }
   ],
   "source": [
    "path_charades = Path('/mnt/data/adrianlopez/Videos/Charades') \n",
    "items = pd.read_csv(path_charades/'df0.csv', index_col=0)\n",
    "items = items.iloc[uniformize_dataset(items['lbl'])]\n",
    "items.tail(6)"
   ]
  },
  {
   "cell_type": "code",
   "execution_count": 7,
   "metadata": {},
   "outputs": [],
   "source": [
    "#export\n",
    "class UniformizedShuffle():\n",
    "    def __init__(self, lbls, n_el=3, n_lbl=3):\n",
    "        self.lbls = lbls\n",
    "        self.n_el = n_el\n",
    "        self.n_lbl = n_lbl\n",
    "    def __call__ (self, x=None):\n",
    "        return uniformize_dataset(lbls=self.lbls, n_el=self.n_el, n_lbl=self.n_lbl)\n",
    "   "
   ]
  },
  {
   "cell_type": "code",
   "execution_count": 8,
   "metadata": {},
   "outputs": [
    {
     "data": {
      "text/html": [
       "<div>\n",
       "<style scoped>\n",
       "    .dataframe tbody tr th:only-of-type {\n",
       "        vertical-align: middle;\n",
       "    }\n",
       "\n",
       "    .dataframe tbody tr th {\n",
       "        vertical-align: top;\n",
       "    }\n",
       "\n",
       "    .dataframe thead th {\n",
       "        text-align: right;\n",
       "    }\n",
       "</style>\n",
       "<table border=\"1\" class=\"dataframe\">\n",
       "  <thead>\n",
       "    <tr style=\"text-align: right;\">\n",
       "      <th></th>\n",
       "      <th>id</th>\n",
       "      <th>coded_lbl</th>\n",
       "      <th>lbl</th>\n",
       "      <th>start</th>\n",
       "      <th>end</th>\n",
       "      <th>val</th>\n",
       "      <th>paths</th>\n",
       "    </tr>\n",
       "  </thead>\n",
       "  <tbody>\n",
       "    <tr>\n",
       "      <th>35697</th>\n",
       "      <td>NWFOF</td>\n",
       "      <td>c097</td>\n",
       "      <td>Walking through a doorway</td>\n",
       "      <td>19.8</td>\n",
       "      <td>26.6</td>\n",
       "      <td>False</td>\n",
       "      <td>videodata/Charades_v1_rgb/NWFOF/NWFOF-000476.jpg\\nvideodata/Charades_v1_rgb/NWFOF/NWFOF-000477.jpg\\nvideodata/Charades_v1_rgb/NWFOF/NWFOF-000478.jpg\\nvideodata/Charades_v1_rgb/NWFOF/NWFOF-000479.jpg\\nvideodata/Charades_v1_rgb/NWFOF/NWFOF-000480.jpg\\nvideodata/Charades_v1_rgb/NWFOF/NWFOF-000481.jpg\\nvideodata/Charades_v1_rgb/NWFOF/NWFOF-000482.jpg\\nvideodata/Charades_v1_rgb/NWFOF/NWFOF-000483.jpg\\nvideodata/Charades_v1_rgb/NWFOF/NWFOF-000484.jpg\\nvideodata/Charades_v1_rgb/NWFOF/NWFOF-000485.jpg\\nvideodata/Charades_v1_rgb/NWFOF/NWFOF-000486.jpg\\nvideodata/Charades_v1_rgb/NWFOF/NWFOF-000487.j...</td>\n",
       "    </tr>\n",
       "    <tr>\n",
       "      <th>62371</th>\n",
       "      <td>Q7TXX</td>\n",
       "      <td>c097</td>\n",
       "      <td>Walking through a doorway</td>\n",
       "      <td>0.0</td>\n",
       "      <td>3.4</td>\n",
       "      <td>True</td>\n",
       "      <td>videodata/Charades_v1_rgb/Q7TXX/Q7TXX-000001.jpg\\nvideodata/Charades_v1_rgb/Q7TXX/Q7TXX-000002.jpg\\nvideodata/Charades_v1_rgb/Q7TXX/Q7TXX-000003.jpg\\nvideodata/Charades_v1_rgb/Q7TXX/Q7TXX-000004.jpg\\nvideodata/Charades_v1_rgb/Q7TXX/Q7TXX-000005.jpg\\nvideodata/Charades_v1_rgb/Q7TXX/Q7TXX-000006.jpg\\nvideodata/Charades_v1_rgb/Q7TXX/Q7TXX-000007.jpg\\nvideodata/Charades_v1_rgb/Q7TXX/Q7TXX-000008.jpg\\nvideodata/Charades_v1_rgb/Q7TXX/Q7TXX-000009.jpg\\nvideodata/Charades_v1_rgb/Q7TXX/Q7TXX-000010.jpg\\nvideodata/Charades_v1_rgb/Q7TXX/Q7TXX-000011.jpg\\nvideodata/Charades_v1_rgb/Q7TXX/Q7TXX-000012.j...</td>\n",
       "    </tr>\n",
       "    <tr>\n",
       "      <th>37837</th>\n",
       "      <td>R8OTI</td>\n",
       "      <td>c097</td>\n",
       "      <td>Walking through a doorway</td>\n",
       "      <td>0.0</td>\n",
       "      <td>6.3</td>\n",
       "      <td>False</td>\n",
       "      <td>videodata/Charades_v1_rgb/R8OTI/R8OTI-000001.jpg\\nvideodata/Charades_v1_rgb/R8OTI/R8OTI-000002.jpg\\nvideodata/Charades_v1_rgb/R8OTI/R8OTI-000003.jpg\\nvideodata/Charades_v1_rgb/R8OTI/R8OTI-000004.jpg\\nvideodata/Charades_v1_rgb/R8OTI/R8OTI-000005.jpg\\nvideodata/Charades_v1_rgb/R8OTI/R8OTI-000006.jpg\\nvideodata/Charades_v1_rgb/R8OTI/R8OTI-000007.jpg\\nvideodata/Charades_v1_rgb/R8OTI/R8OTI-000008.jpg\\nvideodata/Charades_v1_rgb/R8OTI/R8OTI-000009.jpg\\nvideodata/Charades_v1_rgb/R8OTI/R8OTI-000010.jpg\\nvideodata/Charades_v1_rgb/R8OTI/R8OTI-000011.jpg\\nvideodata/Charades_v1_rgb/R8OTI/R8OTI-000012.j...</td>\n",
       "    </tr>\n",
       "    <tr>\n",
       "      <th>11887</th>\n",
       "      <td>YV874</td>\n",
       "      <td>c059</td>\n",
       "      <td>Sitting in a chair</td>\n",
       "      <td>14.2</td>\n",
       "      <td>31.0</td>\n",
       "      <td>False</td>\n",
       "      <td>videodata/Charades_v1_rgb/YV874/YV874-000341.jpg\\nvideodata/Charades_v1_rgb/YV874/YV874-000342.jpg\\nvideodata/Charades_v1_rgb/YV874/YV874-000343.jpg\\nvideodata/Charades_v1_rgb/YV874/YV874-000344.jpg\\nvideodata/Charades_v1_rgb/YV874/YV874-000345.jpg\\nvideodata/Charades_v1_rgb/YV874/YV874-000346.jpg\\nvideodata/Charades_v1_rgb/YV874/YV874-000347.jpg\\nvideodata/Charades_v1_rgb/YV874/YV874-000348.jpg\\nvideodata/Charades_v1_rgb/YV874/YV874-000349.jpg\\nvideodata/Charades_v1_rgb/YV874/YV874-000350.jpg\\nvideodata/Charades_v1_rgb/YV874/YV874-000351.jpg\\nvideodata/Charades_v1_rgb/YV874/YV874-000352.j...</td>\n",
       "    </tr>\n",
       "    <tr>\n",
       "      <th>45152</th>\n",
       "      <td>NKTWF</td>\n",
       "      <td>c059</td>\n",
       "      <td>Sitting in a chair</td>\n",
       "      <td>5.7</td>\n",
       "      <td>11.4</td>\n",
       "      <td>False</td>\n",
       "      <td>videodata/Charades_v1_rgb/NKTWF/NKTWF-000137.jpg\\nvideodata/Charades_v1_rgb/NKTWF/NKTWF-000138.jpg\\nvideodata/Charades_v1_rgb/NKTWF/NKTWF-000139.jpg\\nvideodata/Charades_v1_rgb/NKTWF/NKTWF-000140.jpg\\nvideodata/Charades_v1_rgb/NKTWF/NKTWF-000141.jpg\\nvideodata/Charades_v1_rgb/NKTWF/NKTWF-000142.jpg\\nvideodata/Charades_v1_rgb/NKTWF/NKTWF-000143.jpg\\nvideodata/Charades_v1_rgb/NKTWF/NKTWF-000144.jpg\\nvideodata/Charades_v1_rgb/NKTWF/NKTWF-000145.jpg\\nvideodata/Charades_v1_rgb/NKTWF/NKTWF-000146.jpg\\nvideodata/Charades_v1_rgb/NKTWF/NKTWF-000147.jpg\\nvideodata/Charades_v1_rgb/NKTWF/NKTWF-000148.j...</td>\n",
       "    </tr>\n",
       "    <tr>\n",
       "      <th>39845</th>\n",
       "      <td>IYU90</td>\n",
       "      <td>c059</td>\n",
       "      <td>Sitting in a chair</td>\n",
       "      <td>0.0</td>\n",
       "      <td>32.0</td>\n",
       "      <td>False</td>\n",
       "      <td>videodata/Charades_v1_rgb/IYU90/IYU90-000001.jpg\\nvideodata/Charades_v1_rgb/IYU90/IYU90-000002.jpg\\nvideodata/Charades_v1_rgb/IYU90/IYU90-000003.jpg\\nvideodata/Charades_v1_rgb/IYU90/IYU90-000004.jpg\\nvideodata/Charades_v1_rgb/IYU90/IYU90-000005.jpg\\nvideodata/Charades_v1_rgb/IYU90/IYU90-000006.jpg\\nvideodata/Charades_v1_rgb/IYU90/IYU90-000007.jpg\\nvideodata/Charades_v1_rgb/IYU90/IYU90-000008.jpg\\nvideodata/Charades_v1_rgb/IYU90/IYU90-000009.jpg\\nvideodata/Charades_v1_rgb/IYU90/IYU90-000010.jpg\\nvideodata/Charades_v1_rgb/IYU90/IYU90-000011.jpg\\nvideodata/Charades_v1_rgb/IYU90/IYU90-000012.j...</td>\n",
       "    </tr>\n",
       "  </tbody>\n",
       "</table>\n",
       "</div>"
      ],
      "text/plain": [
       "          id coded_lbl                        lbl  start   end    val  \\\n",
       "35697  NWFOF      c097  Walking through a doorway   19.8  26.6  False   \n",
       "62371  Q7TXX      c097  Walking through a doorway    0.0   3.4   True   \n",
       "37837  R8OTI      c097  Walking through a doorway    0.0   6.3  False   \n",
       "11887  YV874      c059         Sitting in a chair   14.2  31.0  False   \n",
       "45152  NKTWF      c059         Sitting in a chair    5.7  11.4  False   \n",
       "39845  IYU90      c059         Sitting in a chair    0.0  32.0  False   \n",
       "\n",
       "                                                                                                                                                                                                                                                                                                                                                                                                                                                                                                                                                                                                                         paths  \n",
       "35697  videodata/Charades_v1_rgb/NWFOF/NWFOF-000476.jpg\\nvideodata/Charades_v1_rgb/NWFOF/NWFOF-000477.jpg\\nvideodata/Charades_v1_rgb/NWFOF/NWFOF-000478.jpg\\nvideodata/Charades_v1_rgb/NWFOF/NWFOF-000479.jpg\\nvideodata/Charades_v1_rgb/NWFOF/NWFOF-000480.jpg\\nvideodata/Charades_v1_rgb/NWFOF/NWFOF-000481.jpg\\nvideodata/Charades_v1_rgb/NWFOF/NWFOF-000482.jpg\\nvideodata/Charades_v1_rgb/NWFOF/NWFOF-000483.jpg\\nvideodata/Charades_v1_rgb/NWFOF/NWFOF-000484.jpg\\nvideodata/Charades_v1_rgb/NWFOF/NWFOF-000485.jpg\\nvideodata/Charades_v1_rgb/NWFOF/NWFOF-000486.jpg\\nvideodata/Charades_v1_rgb/NWFOF/NWFOF-000487.j...  \n",
       "62371  videodata/Charades_v1_rgb/Q7TXX/Q7TXX-000001.jpg\\nvideodata/Charades_v1_rgb/Q7TXX/Q7TXX-000002.jpg\\nvideodata/Charades_v1_rgb/Q7TXX/Q7TXX-000003.jpg\\nvideodata/Charades_v1_rgb/Q7TXX/Q7TXX-000004.jpg\\nvideodata/Charades_v1_rgb/Q7TXX/Q7TXX-000005.jpg\\nvideodata/Charades_v1_rgb/Q7TXX/Q7TXX-000006.jpg\\nvideodata/Charades_v1_rgb/Q7TXX/Q7TXX-000007.jpg\\nvideodata/Charades_v1_rgb/Q7TXX/Q7TXX-000008.jpg\\nvideodata/Charades_v1_rgb/Q7TXX/Q7TXX-000009.jpg\\nvideodata/Charades_v1_rgb/Q7TXX/Q7TXX-000010.jpg\\nvideodata/Charades_v1_rgb/Q7TXX/Q7TXX-000011.jpg\\nvideodata/Charades_v1_rgb/Q7TXX/Q7TXX-000012.j...  \n",
       "37837  videodata/Charades_v1_rgb/R8OTI/R8OTI-000001.jpg\\nvideodata/Charades_v1_rgb/R8OTI/R8OTI-000002.jpg\\nvideodata/Charades_v1_rgb/R8OTI/R8OTI-000003.jpg\\nvideodata/Charades_v1_rgb/R8OTI/R8OTI-000004.jpg\\nvideodata/Charades_v1_rgb/R8OTI/R8OTI-000005.jpg\\nvideodata/Charades_v1_rgb/R8OTI/R8OTI-000006.jpg\\nvideodata/Charades_v1_rgb/R8OTI/R8OTI-000007.jpg\\nvideodata/Charades_v1_rgb/R8OTI/R8OTI-000008.jpg\\nvideodata/Charades_v1_rgb/R8OTI/R8OTI-000009.jpg\\nvideodata/Charades_v1_rgb/R8OTI/R8OTI-000010.jpg\\nvideodata/Charades_v1_rgb/R8OTI/R8OTI-000011.jpg\\nvideodata/Charades_v1_rgb/R8OTI/R8OTI-000012.j...  \n",
       "11887  videodata/Charades_v1_rgb/YV874/YV874-000341.jpg\\nvideodata/Charades_v1_rgb/YV874/YV874-000342.jpg\\nvideodata/Charades_v1_rgb/YV874/YV874-000343.jpg\\nvideodata/Charades_v1_rgb/YV874/YV874-000344.jpg\\nvideodata/Charades_v1_rgb/YV874/YV874-000345.jpg\\nvideodata/Charades_v1_rgb/YV874/YV874-000346.jpg\\nvideodata/Charades_v1_rgb/YV874/YV874-000347.jpg\\nvideodata/Charades_v1_rgb/YV874/YV874-000348.jpg\\nvideodata/Charades_v1_rgb/YV874/YV874-000349.jpg\\nvideodata/Charades_v1_rgb/YV874/YV874-000350.jpg\\nvideodata/Charades_v1_rgb/YV874/YV874-000351.jpg\\nvideodata/Charades_v1_rgb/YV874/YV874-000352.j...  \n",
       "45152  videodata/Charades_v1_rgb/NKTWF/NKTWF-000137.jpg\\nvideodata/Charades_v1_rgb/NKTWF/NKTWF-000138.jpg\\nvideodata/Charades_v1_rgb/NKTWF/NKTWF-000139.jpg\\nvideodata/Charades_v1_rgb/NKTWF/NKTWF-000140.jpg\\nvideodata/Charades_v1_rgb/NKTWF/NKTWF-000141.jpg\\nvideodata/Charades_v1_rgb/NKTWF/NKTWF-000142.jpg\\nvideodata/Charades_v1_rgb/NKTWF/NKTWF-000143.jpg\\nvideodata/Charades_v1_rgb/NKTWF/NKTWF-000144.jpg\\nvideodata/Charades_v1_rgb/NKTWF/NKTWF-000145.jpg\\nvideodata/Charades_v1_rgb/NKTWF/NKTWF-000146.jpg\\nvideodata/Charades_v1_rgb/NKTWF/NKTWF-000147.jpg\\nvideodata/Charades_v1_rgb/NKTWF/NKTWF-000148.j...  \n",
       "39845  videodata/Charades_v1_rgb/IYU90/IYU90-000001.jpg\\nvideodata/Charades_v1_rgb/IYU90/IYU90-000002.jpg\\nvideodata/Charades_v1_rgb/IYU90/IYU90-000003.jpg\\nvideodata/Charades_v1_rgb/IYU90/IYU90-000004.jpg\\nvideodata/Charades_v1_rgb/IYU90/IYU90-000005.jpg\\nvideodata/Charades_v1_rgb/IYU90/IYU90-000006.jpg\\nvideodata/Charades_v1_rgb/IYU90/IYU90-000007.jpg\\nvideodata/Charades_v1_rgb/IYU90/IYU90-000008.jpg\\nvideodata/Charades_v1_rgb/IYU90/IYU90-000009.jpg\\nvideodata/Charades_v1_rgb/IYU90/IYU90-000010.jpg\\nvideodata/Charades_v1_rgb/IYU90/IYU90-000011.jpg\\nvideodata/Charades_v1_rgb/IYU90/IYU90-000012.j...  "
      ]
     },
     "execution_count": 8,
     "metadata": {},
     "output_type": "execute_result"
    }
   ],
   "source": [
    "path_charades = Path('/mnt/data/eugeniomarinelli/videodata') \n",
    "items = pd.read_csv(path_charades/'df.csv', index_col=0)\n",
    "un = UniformizedShuffle(items['lbl'])\n",
    "idxs = un()\n",
    "items.iloc[idxs].tail(6)"
   ]
  },
  {
   "cell_type": "code",
   "execution_count": null,
   "metadata": {},
   "outputs": [],
   "source": []
  },
  {
   "cell_type": "code",
   "execution_count": null,
   "metadata": {},
   "outputs": [],
   "source": []
  },
  {
   "cell_type": "code",
   "execution_count": null,
   "metadata": {},
   "outputs": [],
   "source": []
  },
  {
   "cell_type": "code",
   "execution_count": null,
   "metadata": {},
   "outputs": [],
   "source": [
    "def get_snippets(path_to_csv, col_name='paths', skip=3, l=25, sep='\\n'):\n",
    "        '''create a list of all snippets in path form'''\n",
    "        df=pd.read_csv(path_to_csv)\n",
    "        vds=[v.split(sep) for v in df[col_name]] #  list of frames in a list of all the videos\n",
    "        ll_snip=[snippets_from_video(el,l,skip) for el in vds] # list of videos cont list of snips cont list of frames \n",
    "        return [s for l_snip in ll_snip for s in l_snip] #flatten list"
   ]
  },
  {
   "cell_type": "code",
   "execution_count": 34,
   "metadata": {},
   "outputs": [
    {
     "name": "stdout",
     "output_type": "stream",
     "text": [
      "Converted 00_core.ipynb.\n",
      "Converted 01_triplet_loss.ipynb.\n",
      "Converted 02_inflator.ipynb.\n",
      "Converted 03_video_block.ipynb.\n",
      "Converted 04_datasets.ipynb.\n",
      "Converted TrainigVideoClassifier.ipynb.\n",
      "Converted index.ipynb.\n"
     ]
    }
   ],
   "source": [
    "from nbdev.export import *\n",
    "notebook2script()"
   ]
  },
  {
   "cell_type": "code",
   "execution_count": 5,
   "metadata": {},
   "outputs": [],
   "source": [
    "# default_exp video_block"
   ]
  },
  {
   "cell_type": "code",
   "execution_count": null,
   "metadata": {},
   "outputs": [],
   "source": []
  }
 ],
 "metadata": {
  "kernelspec": {
   "display_name": "Python 3",
   "language": "python",
   "name": "python3"
  },
  "language_info": {
   "codemirror_mode": {
    "name": "ipython",
    "version": 3
   },
   "file_extension": ".py",
   "mimetype": "text/x-python",
   "name": "python",
   "nbconvert_exporter": "python",
   "pygments_lexer": "ipython3",
   "version": "3.8.3"
  }
 },
 "nbformat": 4,
 "nbformat_minor": 4
}
