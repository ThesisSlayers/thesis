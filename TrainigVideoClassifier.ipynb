{
 "cells": [
  {
   "cell_type": "code",
   "execution_count": 1,
   "metadata": {},
   "outputs": [
    {
     "ename": "KeyboardInterrupt",
     "evalue": "",
     "output_type": "error",
     "traceback": [
      "\u001b[0;31m---------------------------------------------------------------------------\u001b[0m",
      "\u001b[0;31mFileNotFoundError\u001b[0m                         Traceback (most recent call last)",
      "\u001b[0;32m~/miniconda/envs/eugyenv/lib/python3.8/importlib/_bootstrap_external.py\u001b[0m in \u001b[0;36m_path_is_mode_type\u001b[0;34m(path, mode)\u001b[0m\n",
      "\u001b[0;32m~/miniconda/envs/eugyenv/lib/python3.8/importlib/_bootstrap_external.py\u001b[0m in \u001b[0;36m_path_stat\u001b[0;34m(path)\u001b[0m\n",
      "\u001b[0;31mFileNotFoundError\u001b[0m: [Errno 2] No such file or directory: '/mnt/data/eugeniomarinelli/thesis/modules_th/__init__.cpython-38-x86_64-linux-gnu.so'",
      "\nDuring handling of the above exception, another exception occurred:\n",
      "\u001b[0;31mKeyboardInterrupt\u001b[0m                         Traceback (most recent call last)",
      "\u001b[0;32m<ipython-input-1-d16ecde22963>\u001b[0m in \u001b[0;36m<module>\u001b[0;34m\u001b[0m\n\u001b[0;32m----> 1\u001b[0;31m \u001b[0;32mfrom\u001b[0m \u001b[0mmodules_th\u001b[0m\u001b[0;34m.\u001b[0m\u001b[0mvideo_block\u001b[0m \u001b[0;32mimport\u001b[0m \u001b[0;34m*\u001b[0m\u001b[0;34m\u001b[0m\u001b[0;34m\u001b[0m\u001b[0m\n\u001b[0m\u001b[1;32m      2\u001b[0m \u001b[0;32mfrom\u001b[0m \u001b[0mmodules_th\u001b[0m\u001b[0;34m.\u001b[0m\u001b[0mtriplet_loss\u001b[0m \u001b[0;32mimport\u001b[0m \u001b[0;34m*\u001b[0m\u001b[0;34m\u001b[0m\u001b[0;34m\u001b[0m\u001b[0m\n\u001b[1;32m      3\u001b[0m \u001b[0;32mfrom\u001b[0m \u001b[0mmodules_th\u001b[0m\u001b[0;34m.\u001b[0m\u001b[0minflator\u001b[0m \u001b[0;32mimport\u001b[0m \u001b[0;34m*\u001b[0m\u001b[0;34m\u001b[0m\u001b[0;34m\u001b[0m\u001b[0m\n\u001b[1;32m      4\u001b[0m \u001b[0;32mfrom\u001b[0m \u001b[0mfastai\u001b[0m\u001b[0;34m.\u001b[0m\u001b[0mvision\u001b[0m\u001b[0;34m.\u001b[0m\u001b[0mall\u001b[0m \u001b[0;32mimport\u001b[0m \u001b[0;34m*\u001b[0m\u001b[0;34m\u001b[0m\u001b[0;34m\u001b[0m\u001b[0m\n\u001b[1;32m      5\u001b[0m \u001b[0;32mfrom\u001b[0m \u001b[0mpathlib\u001b[0m \u001b[0;32mimport\u001b[0m \u001b[0mPath\u001b[0m\u001b[0;34m\u001b[0m\u001b[0;34m\u001b[0m\u001b[0m\n",
      "\u001b[0;32m~/miniconda/envs/eugyenv/lib/python3.8/importlib/_bootstrap.py\u001b[0m in \u001b[0;36m_find_and_load\u001b[0;34m(name, import_)\u001b[0m\n",
      "\u001b[0;32m~/miniconda/envs/eugyenv/lib/python3.8/importlib/_bootstrap.py\u001b[0m in \u001b[0;36m_find_and_load_unlocked\u001b[0;34m(name, import_)\u001b[0m\n",
      "\u001b[0;32m~/miniconda/envs/eugyenv/lib/python3.8/importlib/_bootstrap.py\u001b[0m in \u001b[0;36m_find_spec\u001b[0;34m(name, path, target)\u001b[0m\n",
      "\u001b[0;32m~/miniconda/envs/eugyenv/lib/python3.8/importlib/_bootstrap_external.py\u001b[0m in \u001b[0;36mfind_spec\u001b[0;34m(cls, fullname, path, target)\u001b[0m\n",
      "\u001b[0;32m~/miniconda/envs/eugyenv/lib/python3.8/importlib/_bootstrap_external.py\u001b[0m in \u001b[0;36m_get_spec\u001b[0;34m(cls, fullname, path, target)\u001b[0m\n",
      "\u001b[0;32m~/miniconda/envs/eugyenv/lib/python3.8/importlib/_bootstrap_external.py\u001b[0m in \u001b[0;36mfind_spec\u001b[0;34m(self, fullname, target)\u001b[0m\n",
      "\u001b[0;32m~/miniconda/envs/eugyenv/lib/python3.8/importlib/_bootstrap_external.py\u001b[0m in \u001b[0;36m_path_isfile\u001b[0;34m(path)\u001b[0m\n",
      "\u001b[0;32m~/miniconda/envs/eugyenv/lib/python3.8/importlib/_bootstrap_external.py\u001b[0m in \u001b[0;36m_path_is_mode_type\u001b[0;34m(path, mode)\u001b[0m\n",
      "\u001b[0;31mKeyboardInterrupt\u001b[0m: "
     ]
    }
   ],
   "source": [
    "from modules_th.video_block import *\n",
    "from modules_th.triplet_loss import *\n",
    "from modules_th.inflator import *\n",
    "from fastai.vision.all import *\n",
    "from pathlib import Path\n",
    "import torch.nn as nn\n",
    "import torch\n",
    "import time"
   ]
  },
  {
   "cell_type": "code",
   "execution_count": null,
   "metadata": {},
   "outputs": [],
   "source": [
    "class MyResizeTime(Transform):\n",
    "    split_idx = None # 0- train 1- validation \n",
    "    def __init__(self, skip=2, l=50, drop_last=True,**kwargs): \n",
    "        self.skip = skip\n",
    "        self.l = l\n",
    "        self.drop_last = drop_last\n",
    "        super().__init__(**kwargs)\n",
    "        \n",
    "    def encodes(self, vid:Video, split_idx=split_idx):\n",
    "        '''create a list of frame-images (snippet) out a single video path'''\n",
    "        l, skip, l_vid = self.l, self.skip, len(vid)\n",
    "        if l_vid > l:\n",
    "            idx = (len(vid)-l)//2 if split_idx else random.randint(0,len(vid)-l) # ** if validation always takes middle snip\n",
    "            return vid[idx:idx+l]        \n",
    "        else:\n",
    "            vid = stretch(vid, l)         \n",
    "        return vid\n",
    " "
   ]
  },
  {
   "cell_type": "code",
   "execution_count": null,
   "metadata": {},
   "outputs": [],
   "source": [
    "path_charades = Path('/mnt/data/adrianlopez/Videos/Charades') \n",
    "\n",
    "using_df0 = False\n",
    "\n",
    "n = 0 if using_df0 else ''\n",
    "items = pd.read_csv(path_charades/f'df{n}.csv', index_col=0)"
   ]
  },
  {
   "cell_type": "code",
   "execution_count": null,
   "metadata": {},
   "outputs": [],
   "source": [
    "get_paths = DF2Paths(path_charades, fps=24) if using_df0 else lambda df: df['paths']\n",
    "get_lbls = lambda df: df['lbl']\n",
    "\n",
    "vid_pl = [get_paths, Video.create, MyResizeTime(l=50), Resize(128), ToTensor(), IntToFloatTensor()]\n",
    "lbl_pl = [get_lbls, Categorize()]\n",
    "splits = RandomSplitter(seed=42)(items)\n",
    "\n",
    "ds = Datasets(items, [vid_pl, lbl_pl], splits=splits)"
   ]
  },
  {
   "cell_type": "code",
   "execution_count": null,
   "metadata": {},
   "outputs": [],
   "source": [
    "bs = 12\n",
    "t = time.perf_counter()\n",
    "for i, o in enumerate(ds.train):\n",
    "    if i >= bs: break\n",
    "time.perf_counter() - t"
   ]
  },
  {
   "cell_type": "code",
   "execution_count": null,
   "metadata": {},
   "outputs": [],
   "source": [
    "n_el, n_lbl = 3, 4\n",
    "bs = n_lbl * n_el\n",
    "us = UniformizedShuffle(items['lbl'].iloc[splits[0]], n_el=n_el, n_lbl=n_lbl)\n",
    "\n",
    "dls = ds.dataloaders(bs=bs, shuffle_fn=us, num_workers=6)"
   ]
  },
  {
   "cell_type": "code",
   "execution_count": null,
   "metadata": {},
   "outputs": [],
   "source": [
    "learn = Learner(dls, \n",
    "                create3Dcnn(n_mid=200, n_out=len(dls.vocab)), \n",
    "                loss_func=MixedLoss(norm='euc', alpha=1), \n",
    "                splitter=my_splitter, \n",
    "                metrics=tl_accuracy)"
   ]
  },
  {
   "cell_type": "code",
   "execution_count": null,
   "metadata": {},
   "outputs": [],
   "source": [
    "torch.cuda.empty_cache()\n",
    "\n",
    "learn.fine_tune(8)\n",
    "learn.export(path_charades/'trained_models')"
   ]
  },
  {
   "cell_type": "code",
   "execution_count": null,
   "metadata": {},
   "outputs": [],
   "source": []
  }
 ],
 "metadata": {
  "kernelspec": {
   "display_name": "Python [conda env:eugyenv] *",
   "language": "python",
   "name": "conda-env-eugyenv-py"
  },
  "language_info": {
   "codemirror_mode": {
    "name": "ipython",
    "version": 3
   },
   "file_extension": ".py",
   "mimetype": "text/x-python",
   "name": "python",
   "nbconvert_exporter": "python",
   "pygments_lexer": "ipython3",
   "version": "3.8.3"
  }
 },
 "nbformat": 4,
 "nbformat_minor": 4
}
