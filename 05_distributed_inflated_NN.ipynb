{
 "cells": [
  {
   "cell_type": "code",
   "execution_count": 68,
   "metadata": {},
   "outputs": [],
   "source": [
    "import torch\n",
    "import torch.nn as nn\n",
    "from fastai.vision.all import *\n",
    "from fastai.data.all import *\n",
    "from fastai.distributed import *\n",
    "import pandas as pd\n",
    "from pathlib import Path\n",
    "import time\n",
    "from modules_th.video_block import * \n",
    "from modules_th.inflator import *\n",
    "from modules_th.triplet_loss import *"
   ]
  },
  {
   "cell_type": "code",
   "execution_count": 2,
   "metadata": {
    "collapsed": true
   },
   "outputs": [
    {
     "ename": "ModuleNotFoundError",
     "evalue": "No module named 'video_block'",
     "output_type": "error",
     "traceback": [
      "\u001b[0;31m---------------------------------------------------------------------------\u001b[0m",
      "\u001b[0;31mModuleNotFoundError\u001b[0m                       Traceback (most recent call last)",
      "\u001b[0;32m<ipython-input-2-90229f97d34e>\u001b[0m in \u001b[0;36m<module>\u001b[0;34m\u001b[0m\n\u001b[1;32m     10\u001b[0m \u001b[0;32mfrom\u001b[0m \u001b[0mpathlib\u001b[0m \u001b[0;32mimport\u001b[0m \u001b[0mPath\u001b[0m\u001b[0;34m\u001b[0m\u001b[0;34m\u001b[0m\u001b[0m\n\u001b[1;32m     11\u001b[0m \u001b[0;32mimport\u001b[0m \u001b[0mtime\u001b[0m\u001b[0;34m\u001b[0m\u001b[0;34m\u001b[0m\u001b[0m\n\u001b[0;32m---> 12\u001b[0;31m \u001b[0;32mfrom\u001b[0m \u001b[0mvideo_block\u001b[0m \u001b[0;32mimport\u001b[0m \u001b[0;34m*\u001b[0m\u001b[0;34m\u001b[0m\u001b[0;34m\u001b[0m\u001b[0m\n\u001b[0m\u001b[1;32m     13\u001b[0m \u001b[0;32mfrom\u001b[0m \u001b[0minflator\u001b[0m \u001b[0;32mimport\u001b[0m \u001b[0;34m*\u001b[0m\u001b[0;34m\u001b[0m\u001b[0;34m\u001b[0m\u001b[0m\n\u001b[1;32m     14\u001b[0m \u001b[0;32mfrom\u001b[0m \u001b[0mtriplet_loss\u001b[0m \u001b[0;32mimport\u001b[0m \u001b[0;34m*\u001b[0m\u001b[0;34m\u001b[0m\u001b[0;34m\u001b[0m\u001b[0m\n",
      "\u001b[0;31mModuleNotFoundError\u001b[0m: No module named 'video_block'"
     ]
    }
   ],
   "source": [
    "#export\n",
    "import torch\n",
    "import torch.nn as nn\n",
    "from fastai.vision.all import *\n",
    "from IPython.display import display, clear_output\n",
    "from fastai.data.all import *\n",
    "from fastai.distributed import *\n",
    "from fastscript import *\n",
    "import pandas as pd\n",
    "from pathlib import Path\n",
    "import time\n",
    "from video_block import * \n",
    "from inflator import *\n",
    "from triplet_loss import *"
   ]
  },
  {
   "cell_type": "code",
   "execution_count": 3,
   "metadata": {},
   "outputs": [],
   "source": [
    "#exporti\n",
    "def read_data(eugenio):\n",
    "    path_data = '/mnt/data/eugeniomarinelli/videodata/df.csv' if eugenio else '/mnt/data/adrianlopez/Videos/Charades/df.csv'\n",
    "    df = pd.read_csv(path_data, index_col=0).dropna()\n",
    "    return df \n",
    "\n",
    "def get_vid_path(df:pd.Series): return df['paths']\n",
    "def get_lbls(df:pd.Series): return df['lbl']\n",
    "\n",
    "@call_parse\n",
    "def main(gpu    :Param(\"GPU to run on\", int)=None,\n",
    "         eugenio:Param(\"Variable to control whether is Eugenio or me that's calling the trianing\", bool)=False,\n",
    "         n_lbl  :Param(\"# of different labels per batch\", int)=4,\n",
    "         n_el   :Param(\"# of elements per label\", int)=8,\n",
    "         l      :Param(\"Number of frames to ersize video to\", int)=20\n",
    "        ):\n",
    "    \n",
    "    gpu = setup_distrib(gpu)\n",
    "    \n",
    "    df = rank0_first(lambda: read_data(eugenio))\n",
    "\n",
    "    tfms = [[get_vid_path, Video.create],\n",
    "            [get_lbls, Categorize()]]\n",
    "    splits = RandomSplitter(seed=42)(df)\n",
    "    dsets = Datasets(df, tfms, splits=splits)\n",
    "\n",
    "    dls = dsets.dataloaders(n_lbl=n_lbl, n_el=n_el, \n",
    "                            dl_type=UniformizedDataLoader,\n",
    "                            after_item=[ResizeTime(l=l), Resize(224), ToTensor()],\n",
    "                            after_batch=[IntToFloatTensor(), Normalize.from_stats(*imagenet_stats)])\n",
    "\n",
    "    head, body = inflate(create_head(1024, len(dls.vocab), lin_ftrs=[256])), inflate(create_body(resnet34, cut=-2)) \n",
    "    learn = Learner(dls, \n",
    "                    TLModel(body,head),\n",
    "                    loss_func=MixedLoss(alpha=1.0, margin=.2),\n",
    "                    splitter=my_splitter,\n",
    "                    metrics=tl_accuracy)\n",
    "    \n",
    "    torch.cuda.empty_cache()\n",
    "    with learn.distrib_ctx(gpu):\n",
    "        learn.fine_tune(8)\n",
    "        learn.save('trained_models/Inflated1')"
   ]
  },
  {
   "cell_type": "code",
   "execution_count": 7,
   "metadata": {},
   "outputs": [
    {
     "name": "stdout",
     "output_type": "stream",
     "text": [
      "Converted 00_core.ipynb.\n",
      "Converted 01_triplet_loss.ipynb.\n",
      "Converted 02_inflator.ipynb.\n",
      "Converted 03_video_block.ipynb.\n",
      "Converted 04_datasets.ipynb.\n",
      "Converted 05_distributed_inflated_NN.ipynb.\n",
      "Converted 06_first_inflated_NN.ipynb.\n",
      "Converted index.ipynb.\n"
     ]
    }
   ],
   "source": [
    "from nbdev.export import *\n",
    "notebook2script()"
   ]
  },
  {
   "cell_type": "code",
   "execution_count": 6,
   "metadata": {},
   "outputs": [],
   "source": [
    "# default_exp first_inflated_NN"
   ]
  },
  {
   "cell_type": "code",
   "execution_count": null,
   "metadata": {},
   "outputs": [],
   "source": []
  }
 ],
 "metadata": {
  "kernelspec": {
   "display_name": "Python 3",
   "language": "python",
   "name": "python3"
  },
  "language_info": {
   "codemirror_mode": {
    "name": "ipython",
    "version": 3
   },
   "file_extension": ".py",
   "mimetype": "text/x-python",
   "name": "python",
   "nbconvert_exporter": "python",
   "pygments_lexer": "ipython3",
   "version": "3.8.5"
  }
 },
 "nbformat": 4,
 "nbformat_minor": 4
}
