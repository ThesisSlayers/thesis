{
 "cells": [
  {
   "cell_type": "code",
   "execution_count": 1,
   "metadata": {},
   "outputs": [
    {
     "name": "stderr",
     "output_type": "stream",
     "text": [
      "/home/adrian/anaconda3/envs/VE/lib/python3.7/site-packages/torch/cuda/__init__.py:52: UserWarning: CUDA initialization: The NVIDIA driver on your system is too old (found version 10020). Please update your GPU driver by downloading and installing a new version from the URL: http://www.nvidia.com/Download/index.aspx Alternatively, go to: https://pytorch.org to install a PyTorch version that has been compiled with your version of the CUDA driver. (Triggered internally at  /opt/conda/conda-bld/pytorch_1603729047590/work/c10/cuda/CUDAFunctions.cpp:100.)\n",
      "  return torch._C._cuda_getDeviceCount() > 0\n"
     ]
    }
   ],
   "source": [
    "import torch\n",
    "import torch.nn as nn\n",
    "from fastai.vision.all import *\n",
    "from fastai.data.all import *\n",
    "from fastai.distributed import *\n",
    "import pandas as pd\n",
    "from pathlib import Path\n",
    "import time\n",
    "from modules_th.video_block import * \n",
    "from modules_th.inflator import *\n",
    "from modules_th.triplet_loss import *"
   ]
  },
  {
   "cell_type": "code",
   "execution_count": 2,
   "metadata": {
    "collapsed": true
   },
   "outputs": [
    {
     "ename": "ModuleNotFoundError",
     "evalue": "No module named 'video_block'",
     "output_type": "error",
     "traceback": [
      "\u001b[0;31m---------------------------------------------------------------------------\u001b[0m",
      "\u001b[0;31mModuleNotFoundError\u001b[0m                       Traceback (most recent call last)",
      "\u001b[0;32m<ipython-input-2-90229f97d34e>\u001b[0m in \u001b[0;36m<module>\u001b[0;34m\u001b[0m\n\u001b[1;32m     10\u001b[0m \u001b[0;32mfrom\u001b[0m \u001b[0mpathlib\u001b[0m \u001b[0;32mimport\u001b[0m \u001b[0mPath\u001b[0m\u001b[0;34m\u001b[0m\u001b[0;34m\u001b[0m\u001b[0m\n\u001b[1;32m     11\u001b[0m \u001b[0;32mimport\u001b[0m \u001b[0mtime\u001b[0m\u001b[0;34m\u001b[0m\u001b[0;34m\u001b[0m\u001b[0m\n\u001b[0;32m---> 12\u001b[0;31m \u001b[0;32mfrom\u001b[0m \u001b[0mvideo_block\u001b[0m \u001b[0;32mimport\u001b[0m \u001b[0;34m*\u001b[0m\u001b[0;34m\u001b[0m\u001b[0;34m\u001b[0m\u001b[0m\n\u001b[0m\u001b[1;32m     13\u001b[0m \u001b[0;32mfrom\u001b[0m \u001b[0minflator\u001b[0m \u001b[0;32mimport\u001b[0m \u001b[0;34m*\u001b[0m\u001b[0;34m\u001b[0m\u001b[0;34m\u001b[0m\u001b[0m\n\u001b[1;32m     14\u001b[0m \u001b[0;32mfrom\u001b[0m \u001b[0mtriplet_loss\u001b[0m \u001b[0;32mimport\u001b[0m \u001b[0;34m*\u001b[0m\u001b[0;34m\u001b[0m\u001b[0;34m\u001b[0m\u001b[0m\n",
      "\u001b[0;31mModuleNotFoundError\u001b[0m: No module named 'video_block'"
     ]
    }
   ],
   "source": [
    "#export\n",
    "import torch\n",
    "import torch.nn as nn\n",
    "from fastai.vision.all import *\n",
    "from IPython.display import display, clear_output\n",
    "from fastai.data.all import *\n",
    "from fastai.distributed import *\n",
    "from fastscript import *\n",
    "import pandas as pd\n",
    "from pathlib import Path\n",
    "import time\n",
    "from video_block import * \n",
    "from inflator import *\n",
    "from triplet_loss import *\n",
    "import warnings\n",
    "\n",
    "from charades import *"
   ]
  },
  {
   "cell_type": "code",
   "execution_count": 3,
   "metadata": {},
   "outputs": [],
   "source": [
    "#exporti\n",
    "@call_parse\n",
    "def main(gpu    :Param(\"GPU to run on\", int)=None,\n",
    "         eugenio:Param(\"Variable to control whether is Eugenio or me that's calling the training\", bool)=False,\n",
    "         n_lbl  :Param(\"# of different labels per batch\", int)=8,\n",
    "         n_el   :Param(\"# of elements per label\", int)=4,\n",
    "         l      :Param(\"Target number of frames of the ResizeTime transform\", int)=60,\n",
    "         sz     :Param(\"size for Resize\", int)=224,\n",
    "         n_epoch:Param(\"# of epochs to train\", int)=8,\n",
    "        ):\n",
    "        \n",
    "    if gpu is not None: \n",
    "        gpu = setup_distrib(gpu)    \n",
    "        items = rank0_first(lambda: read_data(eugenio)) \n",
    "    else:\n",
    "        items = read_data(eugenio)\n",
    "\n",
    "    learn = get_learner(items, l, sz, n_lbl, n_el)\n",
    "    \n",
    "    \n",
    "    torch.cuda.empty_cache()\n",
    "    if gpu is not None:\n",
    "        print(\"Distributed Data Parallel training started\")\n",
    "        with learn.distrib_ctx(gpu):\n",
    "            learn.fine_tune(n_epoch)\n",
    "    else:\n",
    "        warnings.filterwarnings(\"ignore\", message='.*nonzero.*', category=UserWarning)\n",
    "        print(\"Data Parallel training started\")\n",
    "        with learn.parallel_ctx(device_ids=[0,1]):\n",
    "            learn.fine_tune(n_epoch)\n",
    "\n",
    "    learn.save('trained_models/Inflated1')"
   ]
  },
  {
   "cell_type": "code",
   "execution_count": 13,
   "metadata": {},
   "outputs": [
    {
     "name": "stdout",
     "output_type": "stream",
     "text": [
      "Converted 00_core.ipynb.\n",
      "Converted 01_triplet_loss.ipynb.\n",
      "Converted 02_inflator.ipynb.\n",
      "Converted 03_video_block.ipynb.\n",
      "Converted 04_charades.ipynb.\n",
      "Converted 05_ufc.ipynb.\n",
      "Converted 06_distributed_inflated_NN.ipynb.\n",
      "Converted Untitled.ipynb.\n",
      "Converted index.ipynb.\n"
     ]
    }
   ],
   "source": [
    "from nbdev.export import *\n",
    "notebook2script()"
   ]
  },
  {
   "cell_type": "code",
   "execution_count": 6,
   "metadata": {},
   "outputs": [],
   "source": [
    "# default_exp first_inflated_NN"
   ]
  }
 ],
 "metadata": {
  "kernelspec": {
   "display_name": "Python 3",
   "language": "python",
   "name": "python3"
  },
  "language_info": {
   "codemirror_mode": {
    "name": "ipython",
    "version": 3
   },
   "file_extension": ".py",
   "mimetype": "text/x-python",
   "name": "python",
   "nbconvert_exporter": "python",
   "pygments_lexer": "ipython3",
   "version": "3.7.1"
  }
 },
 "nbformat": 4,
 "nbformat_minor": 4
}
