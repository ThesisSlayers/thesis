{
 "cells": [
  {
   "cell_type": "code",
   "execution_count": 1,
   "metadata": {},
   "outputs": [],
   "source": [
    "from fastai.vision.all import *\n",
    "from modules_th.video_block import *\n",
    "from pathlib import Path\n",
    "import pandas as pd\n",
    "import os"
   ]
  },
  {
   "cell_type": "code",
   "execution_count": 2,
   "metadata": {},
   "outputs": [],
   "source": [
    "#export\n",
    "class DF2Paths(Transform): \n",
    "    def __init__(self, path, fps=24, *args, **kwargs):\n",
    "        super().__init__(*args, **kwargs)\n",
    "        self.path, self.fps = path, fps\n",
    "        \n",
    "    \n",
    "    def encodes(self, df:pd.Series):\n",
    "        def fr(t): return int(float(t)*self.fps)\n",
    "        Id, start, end = df['id'], fr(df['start']) + 1, fr(df['end'])\n",
    "        step = -1 if start > end else 1                     # If start is greater than end,\n",
    "                                                            # it reverses the order of the for loop\n",
    "                                                            # This because it seems some videos are in reverse\n",
    "                \n",
    "        def fr_path(n:int): return str(self.path/'Charades_v1_rgb'/Id/f'{Id}-{n:0>6d}.jpg')\n",
    "        vid = [fr_path(n) for n in range(start, end, step) if os.path.exists(fr_path(n))]\n",
    "        return vid"
   ]
  },
  {
   "cell_type": "code",
   "execution_count": 3,
   "metadata": {},
   "outputs": [
    {
     "data": {
      "text/html": [
       "<div>\n",
       "<style scoped>\n",
       "    .dataframe tbody tr th:only-of-type {\n",
       "        vertical-align: middle;\n",
       "    }\n",
       "\n",
       "    .dataframe tbody tr th {\n",
       "        vertical-align: top;\n",
       "    }\n",
       "\n",
       "    .dataframe thead th {\n",
       "        text-align: right;\n",
       "    }\n",
       "</style>\n",
       "<table border=\"1\" class=\"dataframe\">\n",
       "  <thead>\n",
       "    <tr style=\"text-align: right;\">\n",
       "      <th></th>\n",
       "      <th>id</th>\n",
       "      <th>coded_lbl</th>\n",
       "      <th>lbl</th>\n",
       "      <th>start</th>\n",
       "      <th>end</th>\n",
       "      <th>test</th>\n",
       "    </tr>\n",
       "  </thead>\n",
       "  <tbody>\n",
       "    <tr>\n",
       "      <th>46344</th>\n",
       "      <td>G70CT</td>\n",
       "      <td>c015</td>\n",
       "      <td>Holding a phone/camera</td>\n",
       "      <td>20.5</td>\n",
       "      <td>32.0</td>\n",
       "      <td>False</td>\n",
       "    </tr>\n",
       "    <tr>\n",
       "      <th>25229</th>\n",
       "      <td>UJXBC</td>\n",
       "      <td>c015</td>\n",
       "      <td>Holding a phone/camera</td>\n",
       "      <td>17.3</td>\n",
       "      <td>27.0</td>\n",
       "      <td>False</td>\n",
       "    </tr>\n",
       "    <tr>\n",
       "      <th>18234</th>\n",
       "      <td>TSQBQ</td>\n",
       "      <td>c015</td>\n",
       "      <td>Holding a phone/camera</td>\n",
       "      <td>0.0</td>\n",
       "      <td>30.0</td>\n",
       "      <td>False</td>\n",
       "    </tr>\n",
       "    <tr>\n",
       "      <th>17416</th>\n",
       "      <td>IZTHW</td>\n",
       "      <td>c018</td>\n",
       "      <td>Taking a phone/camera from somewhere</td>\n",
       "      <td>25.6</td>\n",
       "      <td>34.0</td>\n",
       "      <td>False</td>\n",
       "    </tr>\n",
       "    <tr>\n",
       "      <th>38416</th>\n",
       "      <td>82B2V</td>\n",
       "      <td>c018</td>\n",
       "      <td>Taking a phone/camera from somewhere</td>\n",
       "      <td>9.0</td>\n",
       "      <td>17.0</td>\n",
       "      <td>False</td>\n",
       "    </tr>\n",
       "  </tbody>\n",
       "</table>\n",
       "</div>"
      ],
      "text/plain": [
       "          id coded_lbl                                   lbl  start   end  \\\n",
       "46344  G70CT      c015                Holding a phone/camera   20.5  32.0   \n",
       "25229  UJXBC      c015                Holding a phone/camera   17.3  27.0   \n",
       "18234  TSQBQ      c015                Holding a phone/camera    0.0  30.0   \n",
       "17416  IZTHW      c018  Taking a phone/camera from somewhere   25.6  34.0   \n",
       "38416  82B2V      c018  Taking a phone/camera from somewhere    9.0  17.0   \n",
       "\n",
       "        test  \n",
       "46344  False  \n",
       "25229  False  \n",
       "18234  False  \n",
       "17416  False  \n",
       "38416  False  "
      ]
     },
     "execution_count": 3,
     "metadata": {},
     "output_type": "execute_result"
    }
   ],
   "source": [
    "path_charades = Path('/mnt/data/adrianlopez/Videos/Charades') \n",
    "items = pd.read_csv(path_charades/'df0.csv', index_col=0)\n",
    "items = uniformize_dataset(items.loc[items['test']==False])\n",
    "items.head()"
   ]
  },
  {
   "cell_type": "code",
   "execution_count": 4,
   "metadata": {},
   "outputs": [
    {
     "data": {
      "text/plain": [
       "torch.Size([50, 3, 224, 224])"
      ]
     },
     "execution_count": 4,
     "metadata": {},
     "output_type": "execute_result"
    }
   ],
   "source": [
    "item = items.iloc[43218]\n",
    "pl = Pipeline([DF2Paths(path_charades, fps=24), Video.create, Resize(224), ResizeTime(), ToTensor()])\n",
    "vid = pl(item)\n",
    "vid.shape"
   ]
  },
  {
   "cell_type": "code",
   "execution_count": 5,
   "metadata": {},
   "outputs": [],
   "source": [
    "def get_labels(df): return df['lbl']\n",
    "splits = RandomSplitter(seed=42)(items)\n",
    "ds = Datasets(items, [pl, [get_labels, Categorize()]], splits=splits)"
   ]
  },
  {
   "cell_type": "code",
   "execution_count": 6,
   "metadata": {},
   "outputs": [
    {
     "data": {
      "text/plain": [
       "torch.Size([15, 50, 3, 224, 224])"
      ]
     },
     "execution_count": 6,
     "metadata": {},
     "output_type": "execute_result"
    }
   ],
   "source": [
    "dls = ds.dataloaders(bs=15, shuffle_fn=UniformizedShuffle(items.iloc[splits[0]]))\n",
    "b = dls.one_batch()\n",
    "b[0].shape"
   ]
  },
  {
   "cell_type": "code",
   "execution_count": 7,
   "metadata": {},
   "outputs": [
    {
     "data": {
      "text/plain": [
       "TensorCategory([121, 121, 121,  61,  61,  61,  86,  86,  86,  77,  77,  77,  57,  57,\n",
       "         57], device='cuda:0')"
      ]
     },
     "execution_count": 7,
     "metadata": {},
     "output_type": "execute_result"
    }
   ],
   "source": [
    "b[1]"
   ]
  },
  {
   "cell_type": "code",
   "execution_count": 8,
   "metadata": {},
   "outputs": [
    {
     "name": "stdout",
     "output_type": "stream",
     "text": [
      "Converted 00_core.ipynb.\n",
      "Converted 01_triplet_loss.ipynb.\n",
      "Converted 02_inflator.ipynb.\n",
      "Converted 03_video_block.ipynb.\n",
      "Converted 04_datasets.ipynb.\n",
      "Converted index.ipynb.\n"
     ]
    }
   ],
   "source": [
    "from nbdev.export import *\n",
    "notebook2script()"
   ]
  },
  {
   "cell_type": "code",
   "execution_count": null,
   "metadata": {},
   "outputs": [],
   "source": [
    "# default_exp video_block"
   ]
  }
 ],
 "metadata": {
  "kernelspec": {
   "display_name": "Python [conda env:VE] *",
   "language": "python",
   "name": "conda-env-VE-py"
  },
  "language_info": {
   "codemirror_mode": {
    "name": "ipython",
    "version": 3
   },
   "file_extension": ".py",
   "mimetype": "text/x-python",
   "name": "python",
   "nbconvert_exporter": "python",
   "pygments_lexer": "ipython3",
   "version": "3.8.5"
  }
 },
 "nbformat": 4,
 "nbformat_minor": 4
}
