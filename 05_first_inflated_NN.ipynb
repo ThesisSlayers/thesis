{
 "cells": [
  {
   "cell_type": "code",
   "execution_count": 9,
   "metadata": {},
   "outputs": [],
   "source": [
    "#export\n",
    "import torch\n",
    "import torch.nn as nn\n",
    "from fastai.vision.all import *\n",
    "import time\n",
    "from IPython.display import display, clear_output\n",
    "from fastai.data.all import *\n",
    "from fastai.distributed import *\n",
    "import pandas as pd\n",
    "from pathlib import Path\n",
    "import regex as re\n",
    "import numpy as np\n",
    "from thesis.modules_th.video_block import * \n",
    "from thesis.modules_th.inflator import *\n",
    "from thesis.modules_th.triplet_loss import *"
   ]
  },
  {
   "cell_type": "code",
   "execution_count": null,
   "metadata": {},
   "outputs": [],
   "source": [
    "import torch\n",
    "import torch.nn as nn\n",
    "from fastai.vision.all import *\n",
    "import time\n",
    "from IPython.display import display, clear_output\n",
    "from fastai.data.all import *\n",
    "from fastai.distributed import *\n",
    "import pandas as pd\n",
    "from pathlib import Path\n",
    "import regex as re\n",
    "import numpy as np\n",
    "from video_block import * \n",
    "from inflator import *\n",
    "from triplet_loss import *"
   ]
  },
  {
   "cell_type": "code",
   "execution_count": null,
   "metadata": {},
   "outputs": [],
   "source": [
    "#export\n",
    "eugenio = True\n",
    "path_data = '/mnt/data/eugeniomarinelli/videodata/df.csv'\n",
    "df = pd.read_csv(path_data, index_col=0).dropna()\n",
    "\n",
    "def get_vid_path(df:pd.Series): return df['paths']\n",
    "def get_lbls(df:pd.Series): return df['lbl']"
   ]
  },
  {
   "cell_type": "code",
   "execution_count": null,
   "metadata": {},
   "outputs": [],
   "source": [
    "df.head(1)"
   ]
  },
  {
   "cell_type": "code",
   "execution_count": null,
   "metadata": {},
   "outputs": [],
   "source": [
    "#export\n",
    "# Dataset creation\n",
    "tfms = [[get_vid_path,Video.create,ResizeTime(l=20),Resize(224),ToTensor()],\n",
    "        [get_lbls,Categorize()]]\n",
    "splits = RandomSplitter(seed=42)(df)\n",
    "dsets = Datasets(df, tfms, splits=splits)"
   ]
  },
  {
   "cell_type": "code",
   "execution_count": null,
   "metadata": {},
   "outputs": [],
   "source": [
    "t0 = time.perf_counter()\n",
    "bs = 16\n",
    "for i, item in enumerate(dsets.train):\n",
    "#     print(item)\n",
    "    if i>=bs: break \n",
    "time.perf_counter() - t0\n"
   ]
  },
  {
   "cell_type": "code",
   "execution_count": null,
   "metadata": {},
   "outputs": [],
   "source": [
    "#export\n",
    "# Dataloaders\n",
    "n_lbl, n_el = 4, 8\n",
    "shuffle_fn = UniformizedShuffle(df['lbl'].iloc[splits[0]], n_lbl=n_lbl, n_el=n_el)\n",
    "dls = dsets.dataloaders(bs=n_lbl*n_el, shuffle_fn=shuffle_fn, num_workers=10)"
   ]
  },
  {
   "cell_type": "code",
   "execution_count": null,
   "metadata": {},
   "outputs": [],
   "source": [
    "#export\n",
    "head = inflate(create_head(1024,157,lin_ftrs=[256]))\n",
    "body = inflate(create_body(resnet34, cut=-2))\n",
    "model = TLModel(body,head)\n",
    "learn = Learner(dls, \n",
    "                model,\n",
    "                loss_func=MixedLoss(alpha=1.0, margin=.2),\n",
    "                splitter=my_splitter,\n",
    "                metrics=tl_accuracy\n",
    "               ).to_parallel()"
   ]
  },
  {
   "cell_type": "code",
   "execution_count": null,
   "metadata": {},
   "outputs": [],
   "source": [
    "#export\n",
    "with learn.distrib_ctx(): learn.fine_tune(8)\n",
    "learn.save('trained_models/Inflated1')"
   ]
  },
  {
   "cell_type": "code",
   "execution_count": null,
   "metadata": {},
   "outputs": [],
   "source": [
    "os.environ['WORLD_SIZE'] = '2'\n",
    "os.environ['RANK'] = '0'\n",
    "os.environ['MASTER_ADDR'] = '127.0.0.1'\n",
    "os.environ['MASTER_PORT'] = '29500'"
   ]
  },
  {
   "cell_type": "code",
   "execution_count": null,
   "metadata": {},
   "outputs": [],
   "source": [
    "from nbdev.export import *\n",
    "notebook2script()"
   ]
  },
  {
   "cell_type": "code",
   "execution_count": null,
   "metadata": {},
   "outputs": [],
   "source": [
    "# default_exp first_inflated_NN"
   ]
  },
  {
   "cell_type": "code",
   "execution_count": null,
   "metadata": {},
   "outputs": [],
   "source": []
  }
 ],
 "metadata": {
  "kernelspec": {
   "display_name": "Python 3",
   "language": "python",
   "name": "python3"
  },
  "language_info": {
   "codemirror_mode": {
    "name": "ipython",
    "version": 3
   },
   "file_extension": ".py",
   "mimetype": "text/x-python",
   "name": "python",
   "nbconvert_exporter": "python",
   "pygments_lexer": "ipython3",
   "version": "3.8.3"
  }
 },
 "nbformat": 4,
 "nbformat_minor": 4
}
