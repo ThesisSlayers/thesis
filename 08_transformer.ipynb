{
 "cells": [
  {
   "cell_type": "code",
   "execution_count": null,
   "metadata": {},
   "outputs": [
    {
     "name": "stderr",
     "output_type": "stream",
     "text": [
      "/home/adrian/anaconda3/envs/VE/lib/python3.7/site-packages/torch/cuda/__init__.py:52: UserWarning: CUDA initialization: The NVIDIA driver on your system is too old (found version 10020). Please update your GPU driver by downloading and installing a new version from the URL: http://www.nvidia.com/Download/index.aspx Alternatively, go to: https://pytorch.org to install a PyTorch version that has been compiled with your version of the CUDA driver. (Triggered internally at  /opt/conda/conda-bld/pytorch_1603729047590/work/c10/cuda/CUDAFunctions.cpp:100.)\n",
      "  return torch._C._cuda_getDeviceCount() > 0\n"
     ]
    }
   ],
   "source": [
    "from fastai.vision.all import *\n",
    "\n",
    "from pathlib import Path\n",
    "\n",
    "import torch\n",
    "import torch.nn as nn\n",
    "import torchvision.transforms as T\n",
    "import torch.functional as F\n",
    "\n",
    "from modules_th.video_block import *\n",
    "from modules_th.inflator import *"
   ]
  },
  {
   "cell_type": "code",
   "execution_count": null,
   "metadata": {},
   "outputs": [],
   "source": [
    "path = Path(r'/mnt/data/eugeniomarinelli/UCF_Crimes/Videos')"
   ]
  },
  {
   "cell_type": "code",
   "execution_count": null,
   "metadata": {},
   "outputs": [
    {
     "data": {
      "text/plain": [
       "(3, 30, 240, 320)"
      ]
     },
     "execution_count": null,
     "metadata": {},
     "output_type": "execute_result"
    }
   ],
   "source": [
    "vds = get_files(path, extensions='.mp4')\n",
    "vid_path = vds[0]\n",
    "vid_tens = create_video_tensor(vid_path)\n",
    "vid_tens.shape"
   ]
  },
  {
   "cell_type": "code",
   "execution_count": null,
   "metadata": {},
   "outputs": [],
   "source": [
    "vds = get_files(path, extensions='.mp4')\n",
    "lbls = vds.map(parent_label)\n",
    "vid_tfms = [partial(create_video_tensor, l=30)]\n",
    "lbl_tfms = [parent_label, Categorize()]\n",
    "\n",
    "n_lbl, n_el = 4, 4\n",
    "splits = RandomSplitter(valid_pct=0.2, seed=42)(vds)\n",
    "splits = [uniformize_dataset(idxs, lbls[idxs], n_lbl=n_lbl, n_el=n_el) for idxs in splits]\n",
    "ds = Datasets(vds, [vid_tfms, lbl_tfms], splits=splits)\n",
    "\n",
    "dls = ds.dataloaders(bs=n_lbl*n_el, \n",
    "                     after_item=[Resize(128)],\n",
    "                     after_batch=[IntToFloatTensor(), Normalize.from_stats(*imagenet_stats)])"
   ]
  },
  {
   "cell_type": "code",
   "execution_count": null,
   "metadata": {},
   "outputs": [
    {
     "data": {
      "text/plain": [
       "45.994558528997004"
      ]
     },
     "execution_count": null,
     "metadata": {},
     "output_type": "execute_result"
    }
   ],
   "source": [
    "import time\n",
    "t = time.perf_counter()\n",
    "x, y = dls.one_batch()\n",
    "time.perf_counter() - t"
   ]
  },
  {
   "cell_type": "code",
   "execution_count": null,
   "metadata": {},
   "outputs": [],
   "source": [
    "body = sequential(ResBlock(1, 3, 64, ks=7, stride=3, act_cls=Mish, bias=False),\n",
    "                  ResBlock(1, 64, 128, stride=2, act_cls=Mish),\n",
    "                  ResBlock(1, 128, 256,  stride=2, act_cls=Mish),\n",
    "                  ResBlock(1, 256, 128, stride=2, act_cls=Mish),\n",
    "                  ResBlock(1, 128, 64,  stride=2, act_cls=Mish)\n",
    "                 )\n",
    "\n",
    "head = sequential(AdaptiveConcatPool2d(1),\n",
    "                  Flatten(),\n",
    "                  LinBnDrop(128, 128, lin_first=True),\n",
    "                  mish,\n",
    "                  nn.Linear(128, 10)\n",
    "                 )\n",
    "\n",
    "m = inflate(sequential(body,head)).eval()"
   ]
  },
  {
   "cell_type": "code",
   "execution_count": null,
   "metadata": {},
   "outputs": [
    {
     "data": {
      "text/plain": [
       "(torch.Size([32, 64, 1, 5, 5]), torch.Size([32, 10]))"
      ]
     },
     "execution_count": null,
     "metadata": {},
     "output_type": "execute_result"
    }
   ],
   "source": [
    "x.cpu()\n",
    "n_embs = tensor(body(x).shape)[1:].prod().item()\n",
    "body(x).shape, m(x).shape"
   ]
  },
  {
   "cell_type": "code",
   "execution_count": null,
   "metadata": {},
   "outputs": [],
   "source": []
  },
  {
   "cell_type": "code",
   "execution_count": null,
   "metadata": {},
   "outputs": [],
   "source": [
    "learn = Learner(dls, m, metrics=accuracy)"
   ]
  },
  {
   "cell_type": "code",
   "execution_count": null,
   "metadata": {},
   "outputs": [
    {
     "data": {
      "text/html": [
       "<table border=\"1\" class=\"dataframe\">\n",
       "  <thead>\n",
       "    <tr style=\"text-align: left;\">\n",
       "      <th>epoch</th>\n",
       "      <th>train_loss</th>\n",
       "      <th>valid_loss</th>\n",
       "      <th>accuracy</th>\n",
       "      <th>time</th>\n",
       "    </tr>\n",
       "  </thead>\n",
       "  <tbody>\n",
       "    <tr>\n",
       "      <td>0</td>\n",
       "      <td>0.939604</td>\n",
       "      <td>1.114729</td>\n",
       "      <td>0.649427</td>\n",
       "      <td>00:15</td>\n",
       "    </tr>\n",
       "    <tr>\n",
       "      <td>1</td>\n",
       "      <td>0.914461</td>\n",
       "      <td>1.041761</td>\n",
       "      <td>0.677452</td>\n",
       "      <td>00:21</td>\n",
       "    </tr>\n",
       "    <tr>\n",
       "      <td>2</td>\n",
       "      <td>0.807988</td>\n",
       "      <td>0.889782</td>\n",
       "      <td>0.724841</td>\n",
       "      <td>00:22</td>\n",
       "    </tr>\n",
       "    <tr>\n",
       "      <td>3</td>\n",
       "      <td>0.707722</td>\n",
       "      <td>0.728764</td>\n",
       "      <td>0.787771</td>\n",
       "      <td>00:20</td>\n",
       "    </tr>\n",
       "    <tr>\n",
       "      <td>4</td>\n",
       "      <td>0.621713</td>\n",
       "      <td>0.710635</td>\n",
       "      <td>0.791338</td>\n",
       "      <td>00:15</td>\n",
       "    </tr>\n",
       "  </tbody>\n",
       "</table>"
      ],
      "text/plain": [
       "<IPython.core.display.HTML object>"
      ]
     },
     "metadata": {},
     "output_type": "display_data"
    }
   ],
   "source": [
    "learn.fit_one_cycle(5)"
   ]
  },
  {
   "cell_type": "code",
   "execution_count": null,
   "metadata": {},
   "outputs": [
    {
     "data": {
      "text/plain": [
       "(torch.Size([128, 1, 1024]), torch.Size([1, 128, 128]))"
      ]
     },
     "execution_count": null,
     "metadata": {},
     "output_type": "execute_result"
    }
   ],
   "source": [
    "head = torch.nn.MultiheadAttention(1024, 8)\n",
    "z = torch.randn(128,1,1024)\n",
    "x, y = head(z,z,z)\n",
    "x.shape, y.shape"
   ]
  },
  {
   "cell_type": "code",
   "execution_count": null,
   "metadata": {},
   "outputs": [
    {
     "data": {
      "text/plain": [
       "Path('/mnt/data/eugeniomarinelli/UCF_Crimes/Videos/Fighting/Fighting007_x264.mp4')"
      ]
     },
     "execution_count": null,
     "metadata": {},
     "output_type": "execute_result"
    }
   ],
   "source": [
    "vds = get_files(Path(r'/mnt/data/eugeniomarinelli/UCF_Crimes/Videos'), extensions='.mp4')\n",
    "vds[0]"
   ]
  },
  {
   "cell_type": "code",
   "execution_count": null,
   "metadata": {},
   "outputs": [],
   "source": [
    "vid = vds[0]\n",
    "parent_label(vid)\n",
    "vid_tens = create_video_tensor(vid, l=200)"
   ]
  },
  {
   "cell_type": "code",
   "execution_count": null,
   "metadata": {},
   "outputs": [
    {
     "data": {
      "text/plain": [
       "torch.Size([3, 1264, 240, 320])"
      ]
     },
     "execution_count": null,
     "metadata": {},
     "output_type": "execute_result"
    }
   ],
   "source": [
    "vid_tens.shape"
   ]
  },
  {
   "cell_type": "code",
   "execution_count": null,
   "metadata": {},
   "outputs": [],
   "source": [
    "?? Resize"
   ]
  },
  {
   "cell_type": "code",
   "execution_count": null,
   "metadata": {},
   "outputs": [],
   "source": []
  }
 ],
 "metadata": {
  "kernelspec": {
   "display_name": "Python 3",
   "language": "python",
   "name": "python3"
  }
 },
 "nbformat": 4,
 "nbformat_minor": 4
}
