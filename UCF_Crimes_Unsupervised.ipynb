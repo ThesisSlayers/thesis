{
 "cells": [
  {
   "cell_type": "code",
   "execution_count": 2,
   "metadata": {},
   "outputs": [],
   "source": [
    "#export\n",
    "#import torch\n",
    "import torch.nn as nn\n",
    "from fastai.vision.all import *\n",
    "from fastai.data.all import *\n",
    "from fastai.distributed import *\n",
    "import pandas as pd\n",
    "from pathlib import Path\n",
    "import time\n",
    "from datetime import date\n",
    "from vidaug import augmentors as va\n",
    "\n",
    "import torchvision.transforms as T\n",
    "\n",
    "\n",
    "from modules_th.video_block import * \n",
    "from modules_th.inflator import *\n",
    "from modules_th.triplet_loss import *\n",
    "from modules_th.unsupcon_module import *\n",
    "from modules_th.cus_cbs import *\n",
    "\n",
    "#Pretrained models\n",
    "from modules_th.pretrained_r2p1d50 import *\n",
    "from resnetmodels.mean import get_mean_std"
   ]
  },
  {
   "cell_type": "code",
   "execution_count": 12,
   "metadata": {},
   "outputs": [],
   "source": [
    "#export\n",
    "def read_data():\n",
    "    path = '/mnt/data/eugeniomarinelli/UCF_Crimes/normal_videos.csv'\n",
    "    return pd.read_csv(path, index_col=0)"
   ]
  },
  {
   "cell_type": "code",
   "execution_count": 13,
   "metadata": {},
   "outputs": [],
   "source": [
    "df = read_data()\n",
    "df = df.sample(frac=0.1)\n",
    "# train_idxs,val_idxs = RandomSplitter()(df)\n",
    "# df.val.iloc[train_idxs]= False\n",
    "# df.val.iloc[val_idxs]= True\n",
    "# df.to_csv('/mnt/data/eugeniomarinelli/UCF_Crimes/normal_videos.csv')\n"
   ]
  },
  {
   "cell_type": "code",
   "execution_count": 14,
   "metadata": {},
   "outputs": [
    {
     "data": {
      "text/html": [
       "<div>\n",
       "<style scoped>\n",
       "    .dataframe tbody tr th:only-of-type {\n",
       "        vertical-align: middle;\n",
       "    }\n",
       "\n",
       "    .dataframe tbody tr th {\n",
       "        vertical-align: top;\n",
       "    }\n",
       "\n",
       "    .dataframe thead th {\n",
       "        text-align: right;\n",
       "    }\n",
       "</style>\n",
       "<table border=\"1\" class=\"dataframe\">\n",
       "  <thead>\n",
       "    <tr style=\"text-align: right;\">\n",
       "      <th></th>\n",
       "      <th>vid_files</th>\n",
       "      <th>val</th>\n",
       "      <th>embs_path</th>\n",
       "    </tr>\n",
       "  </thead>\n",
       "  <tbody>\n",
       "    <tr>\n",
       "      <th>1301</th>\n",
       "      <td>/mnt/data/eugeniomarinelli/UCF_Crimes/Videos/Training_Normal_Videos_Anomaly/Normal_Videos132_x264.mp4</td>\n",
       "      <td>False</td>\n",
       "      <td>NaN</td>\n",
       "    </tr>\n",
       "    <tr>\n",
       "      <th>288</th>\n",
       "      <td>/mnt/data/eugeniomarinelli/UCF_Crimes/Videos/Training_Normal_Videos_Anomaly/Normal_Videos862_x264.mp4</td>\n",
       "      <td>False</td>\n",
       "      <td>/mnt/data/eugeniomarinelli/UCF_Crimes/Videos/Training_Normal_Videos_Anomaly/Normal_Videos862_x264</td>\n",
       "    </tr>\n",
       "    <tr>\n",
       "      <th>1664</th>\n",
       "      <td>/mnt/data/eugeniomarinelli/UCF_Crimes/Videos/Training_Normal_Videos_Anomaly/Normal_Videos747_x264.mp4</td>\n",
       "      <td>False</td>\n",
       "      <td>NaN</td>\n",
       "    </tr>\n",
       "    <tr>\n",
       "      <th>1501</th>\n",
       "      <td>/mnt/data/eugeniomarinelli/UCF_Crimes/Videos/Training_Normal_Videos_Anomaly/Normal_Videos695_x264.mp4</td>\n",
       "      <td>False</td>\n",
       "      <td>NaN</td>\n",
       "    </tr>\n",
       "    <tr>\n",
       "      <th>117</th>\n",
       "      <td>/mnt/data/eugeniomarinelli/UCF_Crimes/Videos/Training_Normal_Videos_Anomaly/Normal_Videos638_x264.mp4</td>\n",
       "      <td>False</td>\n",
       "      <td>/mnt/data/eugeniomarinelli/UCF_Crimes/Videos/Training_Normal_Videos_Anomaly/Normal_Videos638_x264</td>\n",
       "    </tr>\n",
       "  </tbody>\n",
       "</table>\n",
       "</div>"
      ],
      "text/plain": [
       "                                                                                                  vid_files  \\\n",
       "1301  /mnt/data/eugeniomarinelli/UCF_Crimes/Videos/Training_Normal_Videos_Anomaly/Normal_Videos132_x264.mp4   \n",
       "288   /mnt/data/eugeniomarinelli/UCF_Crimes/Videos/Training_Normal_Videos_Anomaly/Normal_Videos862_x264.mp4   \n",
       "1664  /mnt/data/eugeniomarinelli/UCF_Crimes/Videos/Training_Normal_Videos_Anomaly/Normal_Videos747_x264.mp4   \n",
       "1501  /mnt/data/eugeniomarinelli/UCF_Crimes/Videos/Training_Normal_Videos_Anomaly/Normal_Videos695_x264.mp4   \n",
       "117   /mnt/data/eugeniomarinelli/UCF_Crimes/Videos/Training_Normal_Videos_Anomaly/Normal_Videos638_x264.mp4   \n",
       "\n",
       "        val  \\\n",
       "1301  False   \n",
       "288   False   \n",
       "1664  False   \n",
       "1501  False   \n",
       "117   False   \n",
       "\n",
       "                                                                                              embs_path  \n",
       "1301                                                                                                NaN  \n",
       "288   /mnt/data/eugeniomarinelli/UCF_Crimes/Videos/Training_Normal_Videos_Anomaly/Normal_Videos862_x264  \n",
       "1664                                                                                                NaN  \n",
       "1501                                                                                                NaN  \n",
       "117   /mnt/data/eugeniomarinelli/UCF_Crimes/Videos/Training_Normal_Videos_Anomaly/Normal_Videos638_x264  "
      ]
     },
     "execution_count": 14,
     "metadata": {},
     "output_type": "execute_result"
    }
   ],
   "source": [
    "df.tail()"
   ]
  },
  {
   "cell_type": "code",
   "execution_count": 23,
   "metadata": {},
   "outputs": [],
   "source": [
    "# export\n",
    "def sometimes(x):\n",
    "    return va.Sometimes(0.5,x)\n",
    "    \n",
    "def wrapVideo(x):\n",
    "    return Video(x)\n",
    "\n",
    "def unsuplabel(x):\n",
    "    return 1"
   ]
  },
  {
   "cell_type": "code",
   "execution_count": 36,
   "metadata": {},
   "outputs": [],
   "source": [
    "#export\n",
    "def get_dsets(df, l=20, size=512,skip=20,n_views=2):\n",
    "    vid_paths = df.vid_files.values\n",
    "    prefix = Path('/mnt/data/eugeniomarinelli/UCF_Crimes/Videos')\n",
    "    vid_paths = [prefix/file for file in vid_paths]\n",
    "    \n",
    "    \n",
    "    vid_pip = [createVideoForm(l=l,skip=skip, form='img'), \n",
    "               Resize(size, method=ResizeMethod.Pad),\n",
    "               sometimes(va.HorizontalFlip()),\n",
    "               va.GaussianBlur(1.),\n",
    "#               sometimes(va.InvertColor()),\n",
    "               va.RandomRotate(10),\n",
    "               wrapVideo]\n",
    "    \n",
    "    pip = [*([vid_pip]*n_views),[unsuplabel, Categorize]]\n",
    "    #splits\n",
    "    splits = ColSplitter('val')(df)\n",
    "\n",
    "    # Datasets and dataloaders\n",
    "    dsets = Datasets(vid_paths, pip, splits=splits)\n",
    "    return dsets, splits"
   ]
  },
  {
   "cell_type": "code",
   "execution_count": 37,
   "metadata": {},
   "outputs": [
    {
     "data": {
      "text/plain": [
       "((#62) [0,1,2,4,5,6,8,9,10,12...], (#10) [3,7,11,19,22,34,52,65,67,71])"
      ]
     },
     "execution_count": 37,
     "metadata": {},
     "output_type": "execute_result"
    }
   ],
   "source": [
    "ColSplitter('val')(df)"
   ]
  },
  {
   "cell_type": "code",
   "execution_count": 38,
   "metadata": {},
   "outputs": [],
   "source": [
    "dsets,splits = get_dsets(df)\n",
    "vid = dsets[0][0]"
   ]
  },
  {
   "cell_type": "code",
   "execution_count": 39,
   "metadata": {},
   "outputs": [
    {
     "data": {
      "text/plain": [
       "3"
      ]
     },
     "execution_count": 39,
     "metadata": {},
     "output_type": "execute_result"
    }
   ],
   "source": [
    "len(dsets[0])"
   ]
  },
  {
   "cell_type": "code",
   "execution_count": 40,
   "metadata": {},
   "outputs": [],
   "source": [
    "# export\n",
    "def get_dls(dsets,splits,df, bs= 4, normalize='kinetics'):\n",
    "        \n",
    "    mean, std = get_mean_std(1,normalize)\n",
    "    dls  = dsets.dataloaders(bs=bs, \n",
    "                             shuffle_train=True,\n",
    "                             after_item=ToTensor(),\n",
    "                             after_batch=[IntToFloatTensor(), Normalize.from_stats(*imagenet_stats)])\n",
    "    \n",
    "    dls.valid.shuffle = True\n",
    "    return dls\n",
    "    "
   ]
  },
  {
   "cell_type": "code",
   "execution_count": 41,
   "metadata": {},
   "outputs": [],
   "source": [
    "dls = get_dls(dsets,splits,df, normalize='kinetics')\n"
   ]
  },
  {
   "cell_type": "code",
   "execution_count": 42,
   "metadata": {},
   "outputs": [],
   "source": [
    "#export\n",
    "def setup_log(learn,name, append=True):\n",
    "     # set up logs file\n",
    "    # now = datetime.now()\n",
    "    # time = now.strftimes(\"%d_%m\")\n",
    "    logs_file = '/mnt/data/eugeniomarinelli/UCF_experiments/training_results/logs_UCF_CRIMES_'+name+'.csv'\n",
    "    Logs_csv =   CSVLogger(fname= logs_file, append=append)    \n",
    "    learn.add_cb(Logs_csv)"
   ]
  },
  {
   "cell_type": "code",
   "execution_count": null,
   "metadata": {},
   "outputs": [],
   "source": []
  },
  {
   "cell_type": "code",
   "execution_count": 43,
   "metadata": {},
   "outputs": [],
   "source": [
    "#export\n",
    "def get_learner(df,\n",
    "                pretrained_model='r2p1d50_K', \n",
    "                l=40, size=224, bs = 4, skip=20, embs_size=256,n_views=2, \n",
    "                normalize = 'kinetics', logs=True):\n",
    "\n",
    "    dsets,splits = get_dsets(df, l, size, skip, n_views)\n",
    "\n",
    "    dls = get_dls(dsets,splits,df, normalize=normalize)\n",
    "    \n",
    "    if pretrained_model in inserted_models:\n",
    "        model = inserted_models[pretrained_model]\n",
    "    else: raise 'model not present in pretrained models'\n",
    "   \n",
    "\n",
    "    body = create_body(model, cut=-2) \n",
    "        \n",
    "\n",
    "    Loss= ContrastiveLoss()\n",
    "    head = inflate(create_head(4096, embs_size, lin_ftrs=[]))\n",
    "    model = nn.Sequential(body,head)\n",
    "\n",
    "    \n",
    "        \n",
    "    learn = Learner(dls, \n",
    "                model,\n",
    "                splitter=splitter ,\n",
    "                loss_func=Loss)\n",
    "\n",
    "    learn.add_cb(ContrastiveCallback(n_views))\n",
    "    \n",
    "    time = date.today().strftime(\"_%d-%m\")\n",
    "    if logs:    \n",
    "        setup_log(learn, str(pretrained_model)+'unsupervised'+'5fr_30unf'+time, append=True)\n",
    "   \n",
    "    return learn\n",
    " "
   ]
  },
  {
   "cell_type": "code",
   "execution_count": 44,
   "metadata": {},
   "outputs": [],
   "source": [
    "class UnsupContrastiveCallback(Callback):\n",
    "    def __init__(self, nviews):\n",
    "        super().__init__()\n",
    "        self.nviews = nviews\n",
    "    def after_pred(self): \n",
    "        stack_views(self)\n",
    "#        self.learn.yb = torch.tensor([None for _ in range(4)])\n",
    "    def before_batch(self): cat_views(self)"
   ]
  },
  {
   "cell_type": "code",
   "execution_count": 45,
   "metadata": {},
   "outputs": [
    {
     "name": "stdout",
     "output_type": "stream",
     "text": [
      "loading pretrained model /mnt/data/eugeniomarinelli/pretrained/r2p1d50_K_200ep.pth\n"
     ]
    }
   ],
   "source": [
    "learn = get_learner(df, 'r2p1d50_K', l=2, size=64, bs= 4, skip=20, embs_size=256, n_views=2, logs=False)\n",
    "#learn.add_cb(CSVLogger(fname='data/eugeniomarinelli/UCF_experiments/trained_models_cnn/learners/LOGGER_PROVA' , append=False)  )"
   ]
  },
  {
   "cell_type": "code",
   "execution_count": 46,
   "metadata": {},
   "outputs": [
    {
     "data": {
      "text/plain": [
       "ContrastiveLoss()"
      ]
     },
     "execution_count": 46,
     "metadata": {},
     "output_type": "execute_result"
    }
   ],
   "source": [
    "##learn.recorder = Recorder(valid_metrics=False)\n",
    "learn.loss_func"
   ]
  },
  {
   "cell_type": "code",
   "execution_count": 47,
   "metadata": {},
   "outputs": [
    {
     "data": {
      "text/html": [
       "<table border=\"1\" class=\"dataframe\">\n",
       "  <thead>\n",
       "    <tr style=\"text-align: left;\">\n",
       "      <th>epoch</th>\n",
       "      <th>train_loss</th>\n",
       "      <th>valid_loss</th>\n",
       "      <th>time</th>\n",
       "    </tr>\n",
       "  </thead>\n",
       "  <tbody>\n",
       "    <tr>\n",
       "      <td>0</td>\n",
       "      <td>2.443388</td>\n",
       "      <td>0.831255</td>\n",
       "      <td>00:07</td>\n",
       "    </tr>\n",
       "  </tbody>\n",
       "</table>"
      ],
      "text/plain": [
       "<IPython.core.display.HTML object>"
      ]
     },
     "metadata": {},
     "output_type": "display_data"
    },
    {
     "name": "stdout",
     "output_type": "stream",
     "text": [
      "enter in loss\n",
      "enter in loss\n",
      "enter in loss\n",
      "enter in loss\n",
      "enter in loss\n",
      "enter in loss\n",
      "enter in loss\n",
      "enter in loss\n",
      "enter in loss\n",
      "enter in loss\n",
      "enter in loss\n",
      "enter in loss\n",
      "enter in loss\n",
      "enter in loss\n",
      "enter in loss\n",
      "enter in loss\n",
      "enter in loss\n",
      "enter in loss\n"
     ]
    }
   ],
   "source": [
    "learn.fit_one_cycle(1)"
   ]
  },
  {
   "cell_type": "code",
   "execution_count": 29,
   "metadata": {},
   "outputs": [],
   "source": [
    "learn.loss"
   ]
  },
  {
   "cell_type": "code",
   "execution_count": null,
   "metadata": {},
   "outputs": [],
   "source": [
    "#export\n",
    "def save_learner(learn, name):\n",
    "    prefix = '/mnt/data/eugeniomarinelli/'\n",
    "    try:\n",
    "        learn.export(prefix+'UCF_experiments/trained_models_cnn/learners/learner_ucf101_'+name)\n",
    "    except: print(\"learner export didn't work\") \n",
    "    try:\n",
    "        torch.save(learn.model,prefix+'UCF_experiments/trained_models_cnn/models/model_ucf101_'+name+'.pth')\n",
    "    except: torch.save(learn.model.state_dict(),prefix+'UCF_experiments/trained_models_cnn/models/state_dict_ucf101_'+name)\n",
    "    \n"
   ]
  },
  {
   "cell_type": "code",
   "execution_count": null,
   "metadata": {},
   "outputs": [],
   "source": [
    "learn.export('/mnt/data/eugeniomarinelli/UCF_experiments/trained_models_cnn/learners/LEARNER_CANCELLARE')\n",
    "torch.save(learn.model, '/mnt/data/eugeniomarinelli/UCF_experiments/trained_models_cnn/models/MODEL_CANCELLARE')"
   ]
  },
  {
   "cell_type": "code",
   "execution_count": null,
   "metadata": {},
   "outputs": [],
   "source": [
    "b = torch.load('/mnt/data/eugeniomarinelli/UCF_experiments/trained_models_cnn/learners/learner_ucf101_XXXXXX.pth')"
   ]
  },
  {
   "cell_type": "code",
   "execution_count": null,
   "metadata": {},
   "outputs": [],
   "source": [
    "saved_model_SCL = torch.load('/mnt/data/eugeniomarinelli/UCF_experiments/trained_models_cnn/models/r2p1d50_ucf101_SCL_tuned_15fr.pth')"
   ]
  },
  {
   "cell_type": "code",
   "execution_count": null,
   "metadata": {},
   "outputs": [],
   "source": [
    "\n",
    "model = nn.Sequential(saved_model_SCL,nn.Sequential(nn.ReLU(inplace=True),LinBnDrop(256, 101, p=0.5)))\n"
   ]
  },
  {
   "cell_type": "code",
   "execution_count": null,
   "metadata": {},
   "outputs": [
    {
     "data": {
      "text/plain": [
       "2"
      ]
     },
     "execution_count": null,
     "metadata": {},
     "output_type": "execute_result"
    }
   ],
   "source": [
    "len(splitter(model))"
   ]
  },
  {
   "cell_type": "code",
   "execution_count": null,
   "metadata": {},
   "outputs": [
    {
     "data": {
      "text/plain": [
       "Sequential(\n",
       "  (0): AdaptiveConcatPool3d(\n",
       "    (ap): AdaptiveAvgPool3d(output_size=1)\n",
       "    (mp): AdaptiveMaxPool3d(output_size=1)\n",
       "  )\n",
       "  (1): Flatten(full=False)\n",
       "  (2): BatchNorm1d(4096, eps=1e-05, momentum=0.1, affine=True, track_running_stats=True)\n",
       "  (3): Dropout(p=0.25, inplace=False)\n",
       "  (4): Linear(in_features=4096, out_features=256, bias=False)\n",
       "  (5): ReLU(inplace=True)\n",
       "  (6): BatchNorm1d(256, eps=1e-05, momentum=0.1, affine=True, track_running_stats=True)\n",
       "  (7): Dropout(p=0.5, inplace=False)\n",
       "  (8): Linear(in_features=256, out_features=101, bias=False)\n",
       ")"
      ]
     },
     "execution_count": null,
     "metadata": {},
     "output_type": "execute_result"
    }
   ],
   "source": [
    "saved_model.head"
   ]
  },
  {
   "cell_type": "code",
   "execution_count": 15,
   "metadata": {},
   "outputs": [
    {
     "name": "stdout",
     "output_type": "stream",
     "text": [
      "Converted 00_core.ipynb.\n",
      "Converted 01_losses_tmp.ipynb.\n",
      "Converted 02_inflator.ipynb.\n",
      "Converted 03_video_block.ipynb.\n",
      "Converted 05_charades.ipynb.\n",
      "Converted 07_read_video_function.ipynb.\n",
      "Converted 08_transformer.ipynb.\n",
      "Converted 09_lr_schedule.ipynb.\n",
      "Converted 10_experiments_on_images.ipynb.\n",
      "Converted 11_create_embeddings.ipynb.\n",
      "Converted 12_load_r2p1d_model.ipynb.\n",
      "Converted CALTECH101_MixedLoss.ipynb.\n",
      "Converted CALTECH101_singleloss.ipynb.\n",
      "Converted Embeddings_CRIMES.ipynb.\n",
      "Converted Embeddings_UCF101.ipynb.\n",
      "Converted UCF101.ipynb.\n",
      "Converted UCF101_unsupervised.ipynb.\n",
      "Converted UCF_Crimes_CEL.ipynb.\n",
      "Converted UCF_Crimes_SupCon.ipynb.\n",
      "Converted index.ipynb.\n"
     ]
    }
   ],
   "source": [
    "from nbdev.export import *\n",
    "notebook2script()"
   ]
  },
  {
   "cell_type": "code",
   "execution_count": null,
   "metadata": {},
   "outputs": [],
   "source": [
    "#default_exp ucfcrimes_unsup"
   ]
  },
  {
   "cell_type": "code",
   "execution_count": null,
   "metadata": {},
   "outputs": [
    {
     "data": {
      "text/plain": [
       "Path('/mnt/data/eugeniomarinelli/videodata/UCF-101')"
      ]
     },
     "execution_count": null,
     "metadata": {},
     "output_type": "execute_result"
    }
   ],
   "source": []
  },
  {
   "cell_type": "code",
   "execution_count": null,
   "metadata": {},
   "outputs": [
    {
     "ename": "RuntimeError",
     "evalue": "[enforce fail at inline_container.cc:222] . file not found: archive/data.pkl",
     "output_type": "error",
     "traceback": [
      "\u001b[0;31m---------------------------------------------------------------------------\u001b[0m",
      "\u001b[0;31mRuntimeError\u001b[0m                              Traceback (most recent call last)",
      "\u001b[0;32m<ipython-input-11-e2b418cf4b8d>\u001b[0m in \u001b[0;36m<module>\u001b[0;34m\u001b[0m\n\u001b[0;32m----> 1\u001b[0;31m \u001b[0ma\u001b[0m \u001b[0;34m=\u001b[0m \u001b[0mload_learner\u001b[0m\u001b[0;34m(\u001b[0m\u001b[0;34m'/mnt/data/eugeniomarinelli/UCF_experiments/trained_models_cnn/learners/learner_ucf101_r2p1d50_K_SCL_finetuned_20_5fr'\u001b[0m\u001b[0;34m)\u001b[0m\u001b[0;34m\u001b[0m\u001b[0;34m\u001b[0m\u001b[0m\n\u001b[0m",
      "\u001b[0;32m~/miniconda/envs/torch17env/lib/python3.8/site-packages/fastai/learner.py\u001b[0m in \u001b[0;36mload_learner\u001b[0;34m(fname, cpu)\u001b[0m\n\u001b[1;32m    551\u001b[0m     \u001b[0;34m\"Load a `Learner` object in `fname`, optionally putting it on the `cpu`\"\u001b[0m\u001b[0;34m\u001b[0m\u001b[0;34m\u001b[0m\u001b[0m\n\u001b[1;32m    552\u001b[0m     \u001b[0mdistrib_barrier\u001b[0m\u001b[0;34m(\u001b[0m\u001b[0;34m)\u001b[0m\u001b[0;34m\u001b[0m\u001b[0;34m\u001b[0m\u001b[0m\n\u001b[0;32m--> 553\u001b[0;31m     \u001b[0mres\u001b[0m \u001b[0;34m=\u001b[0m \u001b[0mtorch\u001b[0m\u001b[0;34m.\u001b[0m\u001b[0mload\u001b[0m\u001b[0;34m(\u001b[0m\u001b[0mfname\u001b[0m\u001b[0;34m,\u001b[0m \u001b[0mmap_location\u001b[0m\u001b[0;34m=\u001b[0m\u001b[0;34m'cpu'\u001b[0m \u001b[0;32mif\u001b[0m \u001b[0mcpu\u001b[0m \u001b[0;32melse\u001b[0m \u001b[0;32mNone\u001b[0m\u001b[0;34m)\u001b[0m\u001b[0;34m\u001b[0m\u001b[0;34m\u001b[0m\u001b[0m\n\u001b[0m\u001b[1;32m    554\u001b[0m     \u001b[0;32mif\u001b[0m \u001b[0mhasattr\u001b[0m\u001b[0;34m(\u001b[0m\u001b[0mres\u001b[0m\u001b[0;34m,\u001b[0m \u001b[0;34m'to_fp32'\u001b[0m\u001b[0;34m)\u001b[0m\u001b[0;34m:\u001b[0m \u001b[0mres\u001b[0m \u001b[0;34m=\u001b[0m \u001b[0mres\u001b[0m\u001b[0;34m.\u001b[0m\u001b[0mto_fp32\u001b[0m\u001b[0;34m(\u001b[0m\u001b[0;34m)\u001b[0m\u001b[0;34m\u001b[0m\u001b[0;34m\u001b[0m\u001b[0m\n\u001b[1;32m    555\u001b[0m     \u001b[0;32mif\u001b[0m \u001b[0mcpu\u001b[0m\u001b[0;34m:\u001b[0m \u001b[0mres\u001b[0m\u001b[0;34m.\u001b[0m\u001b[0mdls\u001b[0m\u001b[0;34m.\u001b[0m\u001b[0mcpu\u001b[0m\u001b[0;34m(\u001b[0m\u001b[0;34m)\u001b[0m\u001b[0;34m\u001b[0m\u001b[0;34m\u001b[0m\u001b[0m\n",
      "\u001b[0;32m~/miniconda/envs/torch17env/lib/python3.8/site-packages/torch/serialization.py\u001b[0m in \u001b[0;36mload\u001b[0;34m(f, map_location, pickle_module, **pickle_load_args)\u001b[0m\n\u001b[1;32m    592\u001b[0m                     \u001b[0mopened_file\u001b[0m\u001b[0;34m.\u001b[0m\u001b[0mseek\u001b[0m\u001b[0;34m(\u001b[0m\u001b[0morig_position\u001b[0m\u001b[0;34m)\u001b[0m\u001b[0;34m\u001b[0m\u001b[0;34m\u001b[0m\u001b[0m\n\u001b[1;32m    593\u001b[0m                     \u001b[0;32mreturn\u001b[0m \u001b[0mtorch\u001b[0m\u001b[0;34m.\u001b[0m\u001b[0mjit\u001b[0m\u001b[0;34m.\u001b[0m\u001b[0mload\u001b[0m\u001b[0;34m(\u001b[0m\u001b[0mopened_file\u001b[0m\u001b[0;34m)\u001b[0m\u001b[0;34m\u001b[0m\u001b[0;34m\u001b[0m\u001b[0m\n\u001b[0;32m--> 594\u001b[0;31m                 \u001b[0;32mreturn\u001b[0m \u001b[0m_load\u001b[0m\u001b[0;34m(\u001b[0m\u001b[0mopened_zipfile\u001b[0m\u001b[0;34m,\u001b[0m \u001b[0mmap_location\u001b[0m\u001b[0;34m,\u001b[0m \u001b[0mpickle_module\u001b[0m\u001b[0;34m,\u001b[0m \u001b[0;34m**\u001b[0m\u001b[0mpickle_load_args\u001b[0m\u001b[0;34m)\u001b[0m\u001b[0;34m\u001b[0m\u001b[0;34m\u001b[0m\u001b[0m\n\u001b[0m\u001b[1;32m    595\u001b[0m         \u001b[0;32mreturn\u001b[0m \u001b[0m_legacy_load\u001b[0m\u001b[0;34m(\u001b[0m\u001b[0mopened_file\u001b[0m\u001b[0;34m,\u001b[0m \u001b[0mmap_location\u001b[0m\u001b[0;34m,\u001b[0m \u001b[0mpickle_module\u001b[0m\u001b[0;34m,\u001b[0m \u001b[0;34m**\u001b[0m\u001b[0mpickle_load_args\u001b[0m\u001b[0;34m)\u001b[0m\u001b[0;34m\u001b[0m\u001b[0;34m\u001b[0m\u001b[0m\n\u001b[1;32m    596\u001b[0m \u001b[0;34m\u001b[0m\u001b[0m\n",
      "\u001b[0;32m~/miniconda/envs/torch17env/lib/python3.8/site-packages/torch/serialization.py\u001b[0m in \u001b[0;36m_load\u001b[0;34m(zip_file, map_location, pickle_module, pickle_file, **pickle_load_args)\u001b[0m\n\u001b[1;32m    848\u001b[0m \u001b[0;34m\u001b[0m\u001b[0m\n\u001b[1;32m    849\u001b[0m     \u001b[0;31m# Load the data (which may in turn use `persistent_load` to load tensors)\u001b[0m\u001b[0;34m\u001b[0m\u001b[0;34m\u001b[0m\u001b[0;34m\u001b[0m\u001b[0m\n\u001b[0;32m--> 850\u001b[0;31m     \u001b[0mdata_file\u001b[0m \u001b[0;34m=\u001b[0m \u001b[0mio\u001b[0m\u001b[0;34m.\u001b[0m\u001b[0mBytesIO\u001b[0m\u001b[0;34m(\u001b[0m\u001b[0mzip_file\u001b[0m\u001b[0;34m.\u001b[0m\u001b[0mget_record\u001b[0m\u001b[0;34m(\u001b[0m\u001b[0mpickle_file\u001b[0m\u001b[0;34m)\u001b[0m\u001b[0;34m)\u001b[0m\u001b[0;34m\u001b[0m\u001b[0;34m\u001b[0m\u001b[0m\n\u001b[0m\u001b[1;32m    851\u001b[0m     \u001b[0munpickler\u001b[0m \u001b[0;34m=\u001b[0m \u001b[0mpickle_module\u001b[0m\u001b[0;34m.\u001b[0m\u001b[0mUnpickler\u001b[0m\u001b[0;34m(\u001b[0m\u001b[0mdata_file\u001b[0m\u001b[0;34m,\u001b[0m \u001b[0;34m**\u001b[0m\u001b[0mpickle_load_args\u001b[0m\u001b[0;34m)\u001b[0m\u001b[0;34m\u001b[0m\u001b[0;34m\u001b[0m\u001b[0m\n\u001b[1;32m    852\u001b[0m     \u001b[0munpickler\u001b[0m\u001b[0;34m.\u001b[0m\u001b[0mpersistent_load\u001b[0m \u001b[0;34m=\u001b[0m \u001b[0mpersistent_load\u001b[0m\u001b[0;34m\u001b[0m\u001b[0;34m\u001b[0m\u001b[0m\n",
      "\u001b[0;31mRuntimeError\u001b[0m: [enforce fail at inline_container.cc:222] . file not found: archive/data.pkl"
     ]
    }
   ],
   "source": []
  },
  {
   "cell_type": "code",
   "execution_count": null,
   "metadata": {},
   "outputs": [],
   "source": []
  }
 ],
 "metadata": {
  "kernelspec": {
   "display_name": "Python 3",
   "language": "python",
   "name": "python3"
  },
  "language_info": {
   "codemirror_mode": {
    "name": "ipython",
    "version": 3
   },
   "file_extension": ".py",
   "mimetype": "text/x-python",
   "name": "python",
   "nbconvert_exporter": "python",
   "pygments_lexer": "ipython3",
   "version": "3.8.3"
  }
 },
 "nbformat": 4,
 "nbformat_minor": 4
}
