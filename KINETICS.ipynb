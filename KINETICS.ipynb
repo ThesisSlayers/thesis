{
 "cells": [
  {
   "cell_type": "markdown",
   "metadata": {},
   "source": [
    "# Libraries"
   ]
  },
  {
   "cell_type": "code",
   "execution_count": 1,
   "metadata": {},
   "outputs": [],
   "source": [
    "#export\n",
    "import torch\n",
    "import torch.nn as nn\n",
    "from fastai.vision.all import *\n",
    "from fastai.data.all import *\n",
    "from fastai.distributed import *\n",
    "import pandas as pd\n",
    "from pathlib import Path\n",
    "import time\n",
    "from datetime import date\n",
    "from vidaug import augmentors as va\n",
    "import cv2\n",
    "\n",
    "import torchvision.transforms as T\n",
    "\n",
    "from modules_th.video_block import * \n",
    "from modules_th.inflator import *\n",
    "from modules_th.triplet_loss import *\n",
    "from modules_th.supcon_module import *\n",
    "from modules_th.cus_cbs import *\n",
    "\n",
    "#Pretrained models\n",
    "from modules_th.pretrained_r2p1d50 import *\n",
    "from resnetmodels.mean import get_mean_std"
   ]
  },
  {
   "cell_type": "code",
   "execution_count": 2,
   "metadata": {},
   "outputs": [],
   "source": [
    "%config Completer.use_jedi = False"
   ]
  },
  {
   "cell_type": "code",
   "execution_count": 3,
   "metadata": {},
   "outputs": [],
   "source": [
    "#export\n",
    "def read_data():\n",
    "    items_path = '/mnt/data/adrianlopez/Datasets/kinetics700/kinetics_train.csv'\n",
    "    return pd.read_csv(items_path, index_col=0)"
   ]
  },
  {
   "cell_type": "code",
   "execution_count": 4,
   "metadata": {},
   "outputs": [
    {
     "data": {
      "text/html": [
       "<div>\n",
       "<style scoped>\n",
       "    .dataframe tbody tr th:only-of-type {\n",
       "        vertical-align: middle;\n",
       "    }\n",
       "\n",
       "    .dataframe tbody tr th {\n",
       "        vertical-align: top;\n",
       "    }\n",
       "\n",
       "    .dataframe thead th {\n",
       "        text-align: right;\n",
       "    }\n",
       "</style>\n",
       "<table border=\"1\" class=\"dataframe\">\n",
       "  <thead>\n",
       "    <tr style=\"text-align: right;\">\n",
       "      <th></th>\n",
       "      <th>vid_files</th>\n",
       "      <th>label</th>\n",
       "      <th>val</th>\n",
       "      <th>start</th>\n",
       "      <th>end</th>\n",
       "    </tr>\n",
       "  </thead>\n",
       "  <tbody>\n",
       "    <tr>\n",
       "      <th>0</th>\n",
       "      <td>/mnt/data/adrianlopez/Datasets/kinetics700/Videos/Byron School of Clay students throwing on the pottery wheel.mp4</td>\n",
       "      <td>clay pottery making</td>\n",
       "      <td>False</td>\n",
       "      <td>7</td>\n",
       "      <td>17</td>\n",
       "    </tr>\n",
       "    <tr>\n",
       "      <th>1</th>\n",
       "      <td>/mnt/data/adrianlopez/Datasets/kinetics700/Videos/Carcoar Pottery turning a mug on a Pottery wheel.mp4</td>\n",
       "      <td>clay pottery making</td>\n",
       "      <td>False</td>\n",
       "      <td>114</td>\n",
       "      <td>124</td>\n",
       "    </tr>\n",
       "    <tr>\n",
       "      <th>2</th>\n",
       "      <td>/mnt/data/adrianlopez/Datasets/kinetics700/Videos/How to make clay pottery for kids - part 2.mp4</td>\n",
       "      <td>clay pottery making</td>\n",
       "      <td>False</td>\n",
       "      <td>35</td>\n",
       "      <td>45</td>\n",
       "    </tr>\n",
       "  </tbody>\n",
       "</table>\n",
       "</div>"
      ],
      "text/plain": [
       "                                                                                                           vid_files  \\\n",
       "0  /mnt/data/adrianlopez/Datasets/kinetics700/Videos/Byron School of Clay students throwing on the pottery wheel.mp4   \n",
       "1             /mnt/data/adrianlopez/Datasets/kinetics700/Videos/Carcoar Pottery turning a mug on a Pottery wheel.mp4   \n",
       "2                   /mnt/data/adrianlopez/Datasets/kinetics700/Videos/How to make clay pottery for kids - part 2.mp4   \n",
       "\n",
       "                 label    val  start  end  \n",
       "0  clay pottery making  False      7   17  \n",
       "1  clay pottery making  False    114  124  \n",
       "2  clay pottery making  False     35   45  "
      ]
     },
     "execution_count": 4,
     "metadata": {},
     "output_type": "execute_result"
    }
   ],
   "source": [
    "df = read_data()\n",
    "df.head(3)"
   ]
  },
  {
   "cell_type": "code",
   "execution_count": 5,
   "metadata": {},
   "outputs": [],
   "source": [
    "# export\n",
    "def sometimes(x):\n",
    "    return va.Sometimes(0.3,x)\n",
    "    \n",
    "def wrapVideo(x):\n",
    "    return Video(x)"
   ]
  },
  {
   "cell_type": "code",
   "execution_count": 6,
   "metadata": {},
   "outputs": [],
   "source": [
    "#export\n",
    "def get_dsets(df, l=4, size=512,skip=2,n_views=1):\n",
    "    \n",
    "    vid_pip = [ColReader('vid_files'),\n",
    "               createVideoForm(l=l,skip=skip, form='img'), \n",
    "               Resize(size, method=ResizeMethod.Pad),\n",
    "#                sometimes(va.HorizontalFlip()),\n",
    "#                va.GaussianBlur(1.),\n",
    "               sometimes(va.InvertColor()),\n",
    "#                va.RandomRotate(10),\n",
    "               wrapVideo]\n",
    "\n",
    "    lbl_pip = [ColReader('label'), Categorize()]           \n",
    "    pip = [*([vid_pip]*n_views), lbl_pip]\n",
    "    # Splits\n",
    "    splits = ColSplitter('val')(df)\n",
    "\n",
    "    # Datasets and dataloaders\n",
    "    dsets = Datasets(df, pip, splits=splits)\n",
    "    return dsets, splits"
   ]
  },
  {
   "cell_type": "code",
   "execution_count": 7,
   "metadata": {},
   "outputs": [
    {
     "data": {
      "text/html": [
       "<div>\n",
       "<style scoped>\n",
       "    .dataframe tbody tr th:only-of-type {\n",
       "        vertical-align: middle;\n",
       "    }\n",
       "\n",
       "    .dataframe tbody tr th {\n",
       "        vertical-align: top;\n",
       "    }\n",
       "\n",
       "    .dataframe thead th {\n",
       "        text-align: right;\n",
       "    }\n",
       "</style>\n",
       "<table border=\"1\" class=\"dataframe\">\n",
       "  <thead>\n",
       "    <tr style=\"text-align: right;\">\n",
       "      <th></th>\n",
       "      <th>vid_files</th>\n",
       "      <th>label</th>\n",
       "      <th>val</th>\n",
       "      <th>start</th>\n",
       "      <th>end</th>\n",
       "    </tr>\n",
       "  </thead>\n",
       "  <tbody>\n",
       "    <tr>\n",
       "      <th>0</th>\n",
       "      <td>/mnt/data/adrianlopez/Datasets/kinetics700/Videos/Byron School of Clay students throwing on the pottery wheel.mp4</td>\n",
       "      <td>clay pottery making</td>\n",
       "      <td>False</td>\n",
       "      <td>7</td>\n",
       "      <td>17</td>\n",
       "    </tr>\n",
       "    <tr>\n",
       "      <th>1</th>\n",
       "      <td>/mnt/data/adrianlopez/Datasets/kinetics700/Videos/Carcoar Pottery turning a mug on a Pottery wheel.mp4</td>\n",
       "      <td>clay pottery making</td>\n",
       "      <td>False</td>\n",
       "      <td>114</td>\n",
       "      <td>124</td>\n",
       "    </tr>\n",
       "    <tr>\n",
       "      <th>2</th>\n",
       "      <td>/mnt/data/adrianlopez/Datasets/kinetics700/Videos/How to make clay pottery for kids - part 2.mp4</td>\n",
       "      <td>clay pottery making</td>\n",
       "      <td>False</td>\n",
       "      <td>35</td>\n",
       "      <td>45</td>\n",
       "    </tr>\n",
       "    <tr>\n",
       "      <th>3</th>\n",
       "      <td>/mnt/data/adrianlopez/Datasets/kinetics700/Videos/How to move just made pottery to a board.mp4</td>\n",
       "      <td>clay pottery making</td>\n",
       "      <td>False</td>\n",
       "      <td>18</td>\n",
       "      <td>28</td>\n",
       "    </tr>\n",
       "    <tr>\n",
       "      <th>4</th>\n",
       "      <td>/mnt/data/adrianlopez/Datasets/kinetics700/Videos/Tiny salt pig making.mp4</td>\n",
       "      <td>clay pottery making</td>\n",
       "      <td>False</td>\n",
       "      <td>219</td>\n",
       "      <td>229</td>\n",
       "    </tr>\n",
       "  </tbody>\n",
       "</table>\n",
       "</div>"
      ],
      "text/plain": [
       "                                                                                                           vid_files  \\\n",
       "0  /mnt/data/adrianlopez/Datasets/kinetics700/Videos/Byron School of Clay students throwing on the pottery wheel.mp4   \n",
       "1             /mnt/data/adrianlopez/Datasets/kinetics700/Videos/Carcoar Pottery turning a mug on a Pottery wheel.mp4   \n",
       "2                   /mnt/data/adrianlopez/Datasets/kinetics700/Videos/How to make clay pottery for kids - part 2.mp4   \n",
       "3                     /mnt/data/adrianlopez/Datasets/kinetics700/Videos/How to move just made pottery to a board.mp4   \n",
       "4                                         /mnt/data/adrianlopez/Datasets/kinetics700/Videos/Tiny salt pig making.mp4   \n",
       "\n",
       "                 label    val  start  end  \n",
       "0  clay pottery making  False      7   17  \n",
       "1  clay pottery making  False    114  124  \n",
       "2  clay pottery making  False     35   45  \n",
       "3  clay pottery making  False     18   28  \n",
       "4  clay pottery making  False    219  229  "
      ]
     },
     "execution_count": 7,
     "metadata": {},
     "output_type": "execute_result"
    }
   ],
   "source": [
    "df.head()"
   ]
  },
  {
   "cell_type": "code",
   "execution_count": 9,
   "metadata": {},
   "outputs": [
    {
     "name": "stdout",
     "output_type": "stream",
     "text": [
      "CPU times: user 2.91 s, sys: 96.1 ms, total: 3.01 s\n",
      "Wall time: 372 ms\n"
     ]
    },
    {
     "data": {
      "text/plain": [
       "(None, 4)"
      ]
     },
     "execution_count": 9,
     "metadata": {},
     "output_type": "execute_result"
    }
   ],
   "source": [
    "dsets,splits = get_dsets(df)\n",
    "%time dsets.train[0][0][1].show(), len(dsets.train[0][0])"
   ]
  },
  {
   "cell_type": "code",
   "execution_count": 15,
   "metadata": {},
   "outputs": [
    {
     "name": "stdout",
     "output_type": "stream",
     "text": [
      "299\r"
     ]
    }
   ],
   "source": [
    "for i, (vid, lbl) in enumerate(dsets.train[1000:1300]): print(i, end='\\r')"
   ]
  },
  {
   "cell_type": "code",
   "execution_count": 26,
   "metadata": {},
   "outputs": [],
   "source": [
    "# export\n",
    "def get_dls(dsets,splits,df, n_el= 2, n_lbl = 2, shuffle_fn=UniformizedShuffle, normalize='kinetics'):\n",
    "        \n",
    "    mean, std = get_mean_std(1,normalize)\n",
    "    dls  = dsets.dataloaders(bs=n_el*n_lbl, \n",
    "                             shuffle_train=True,\n",
    "                             after_item=ToTensor(),\n",
    "                             after_batch=[IntToFloatTensor(), Normalize.from_stats(*imagenet_stats)])\n",
    "    \n",
    "    dls.valid.shuffle = True\n",
    "    if shuffle_fn is not None:\n",
    "        dls.train.shuffle_fn = UniformizedShuffle(df.label.iloc[splits[0]], n_el = n_el, n_lbl= n_lbl)\n",
    "        dls.valid.shuffle_fn = UniformizedShuffle(df.label.iloc[splits[1]], n_el = n_el, n_lbl= n_lbl)\n",
    "    return dls\n",
    "    True\n"
   ]
  },
  {
   "cell_type": "code",
   "execution_count": 27,
   "metadata": {},
   "outputs": [],
   "source": [
    "dls = get_dls(dsets,splits,df, normalize='kinetics')\n"
   ]
  },
  {
   "cell_type": "code",
   "execution_count": 28,
   "metadata": {},
   "outputs": [],
   "source": [
    "#export\n",
    "def setup_log(learn,name, append=True):\n",
    "     # set up logs file\n",
    "    # now = datetime.now()\n",
    "    # time = now.strftimes(\"%d_%m\")\n",
    "    logs_file = '/mnt/data/eugeniomarinelli/UCF_experiments/training_results/logs_kinetics_'+name+'.csv'\n",
    "    Logs_csv =   CSVLogger(fname= logs_file, append=append)    \n",
    "    learn.add_cb(Logs_csv)"
   ]
  },
  {
   "cell_type": "code",
   "execution_count": 30,
   "metadata": {},
   "outputs": [],
   "source": [
    "#export\n",
    "def get_learner(df,\n",
    "                pretrained_model='r2p1d50_K',  \n",
    "                loss_name='CEL', \n",
    "                l=40, size=224, n_lbl =2, n_el=2, skip=20, embs_size=256,n_views=2, \n",
    "                normalize = 'kinetics'):\n",
    "\n",
    "    dsets,splits = get_dsets(df, l, size, skip, n_views)\n",
    "\n",
    "    dls = get_dls(dsets,splits,df, normalize=normalize)\n",
    "    \n",
    "    if pretrained_model in inserted_models:\n",
    "        model = inserted_models[pretrained_model]\n",
    "    else: raise 'model not present in pretrained models'\n",
    "   \n",
    "\n",
    "    body = create_body(model, cut=-2)\n",
    "        \n",
    "\n",
    "\n",
    "    if loss_name == 'SCL+CEL':\n",
    "        Loss = SumLoss(SupConLoss,p='cos', alpha=1, n_views=n_views)\n",
    "        head = inflate(create_head(256, len(dls.vocab), lin_ftrs=[]))\n",
    "        model = MixedLossModel(body,head)\n",
    "        metrics = [supcon_accuracy, silh_score]\n",
    "        \n",
    "        \n",
    "    elif loss_name == 'SCL':\n",
    "        Loss= SupConLoss() \n",
    "        head = inflate(create_head(4096, embs_size, lin_ftrs=[]))\n",
    "        model = nn.Sequential(body,head)\n",
    "        metrics = [silh_score]\n",
    "        \n",
    "        \n",
    "    elif loss_name == 'CEL':\n",
    "        Loss = CEL()\n",
    "        head = inflate(create_head(4096, len(dls.vocab), lin_ftrs=[256]))\n",
    "        model = MixedLossModel(body,head)\n",
    "        metrics = [supcon_accuracy,silh_score]\n",
    "        \n",
    "    elif loss_name == 'CEL_after_SCL':\n",
    "        Loss = CrossEntropyLossFlat()\n",
    "        saved_model = torch.load('/mnt/data/eugeniomarinelli/UCF_experiments/trained_models_cnn/models/r2p1d50_ucf101_SCL_tuned_15fr.pth')\n",
    "        model = nn.Sequential(saved_model,nn.Sequential(nn.ReLU(inplace=True),LinBnDrop(256, 101, p=0.5)))\n",
    "        metrics = [accuracy]\n",
    "    else:\n",
    "        raise 'Loss not implemented'\n",
    "\n",
    "    \n",
    "        \n",
    "    learn = Learner(dls, \n",
    "                model,\n",
    "                splitter=splitter ,\n",
    "                loss_func=Loss,\n",
    "                metrics=metrics)\n",
    "\n",
    "    if loss_name == 'SCL+CEL':\n",
    "        learn.add_cbs([ContrastiveCallback(n_views)])#,LossesRecorderCallback()])\n",
    "    elif loss_name == 'SCL':\n",
    "        learn.add_cb(ContrastiveCallback(n_views))\n",
    "    elif loss_name in ['CEL', 'CEL_after_SC']:\n",
    "        learn.add_cb(MultiViewsCallback(n_views))\n",
    "    time = date.today().strftime(\"_%d-%m\")\n",
    "        \n",
    "    setup_log(learn, str(pretrained_model)+'_'+loss_name+'_tuning_10_'+time, append=True)\n",
    "   \n",
    "    return learn\n",
    " "
   ]
  },
  {
   "cell_type": "code",
   "execution_count": 31,
   "metadata": {},
   "outputs": [
    {
     "name": "stdout",
     "output_type": "stream",
     "text": [
      "loading pretrained model /mnt/data/eugeniomarinelli/pretrained/r2p1d50_K_200ep.pth\n"
     ]
    }
   ],
   "source": [
    "learn = get_learner(df, 'r2p1d50_K', loss_name='CEL_after_SCL', l=2, size=64, n_lbl =2, n_el=2, skip=20, embs_size=256, n_views=2)\n",
    "#learn.add_cb(CSVLogger(fname='data/eugeniomarinelli/UCF_experiments/trained_models_cnn/learners/LOGGER_PROVA' , append=False)  )"
   ]
  },
  {
   "cell_type": "code",
   "execution_count": null,
   "metadata": {},
   "outputs": [
    {
     "data": {
      "text/plain": [
       "'_23-01'"
      ]
     },
     "execution_count": null,
     "metadata": {},
     "output_type": "execute_result"
    }
   ],
   "source": [
    "from datetime import date\n",
    "date.today().strftime(\"_%d-%m\")"
   ]
  },
  {
   "cell_type": "code",
   "execution_count": null,
   "metadata": {},
   "outputs": [],
   "source": [
    "True\n",
    "learn.fit_one_cycle(1)"
   ]
  },
  {
   "cell_type": "code",
   "execution_count": null,
   "metadata": {},
   "outputs": [
    {
     "data": {
      "text/plain": [
       "torch.Size([8, 101])"
      ]
     },
     "execution_count": null,
     "metadata": {},
     "output_type": "execute_result"
    }
   ],
   "source": [
    "inp = torch.randn(8,3,30,100,100).cuda()\n",
    "model = learn.model.cuda()\n",
    "model(inp).shape"
   ]
  },
  {
   "cell_type": "code",
   "execution_count": 29,
   "metadata": {},
   "outputs": [],
   "source": [
    "#export\n",
    "def save_learner(learn, name):\n",
    "    prefix = '/mnt/data/eugeniomarinelli/'\n",
    "    try:\n",
    "        learn.export(prefix+'UCF_experiments/trained_models_cnn/learners/learner_kinetics_'+name)\n",
    "    except: print(\"learner export didn't work\") \n",
    "    try:\n",
    "        torch.save(learn.model,prefix+'UCF_experiments/trained_models_cnn/models/model_kinetics_'+name+'.pth')\n",
    "    except: pass\n",
    "    torch.save(learn.model.state_dict(),prefix+'UCF_experiments/trained_models_cnn/models/state_dict_kinetics_'+name)\n",
    "    \n"
   ]
  },
  {
   "cell_type": "code",
   "execution_count": 32,
   "metadata": {},
   "outputs": [],
   "source": [
    "# learn.export('/mnt/data/eugeniomarinelli/UCF_experiments/trained_models_cnn/learners/LEARNER_CANCELLARE')\n",
    "save_learner(learn, 'CANCELLARE')"
   ]
  },
  {
   "cell_type": "code",
   "execution_count": null,
   "metadata": {},
   "outputs": [],
   "source": [
    "b = torch.load('/mnt/data/eugeniomarinelli/UCF_experiments/trained_models_cnn/learners/learner_ucf101_XXXXXX.pth')"
   ]
  },
  {
   "cell_type": "code",
   "execution_count": null,
   "metadata": {},
   "outputs": [],
   "source": [
    "saved_model_SCL = torch.load('/mnt/data/eugeniomarinelli/UCF_experiments/trained_models_cnn/models/r2p1d50_ucf101_SCL_tuned_15fr.pth')"
   ]
  },
  {
   "cell_type": "code",
   "execution_count": null,
   "metadata": {},
   "outputs": [],
   "source": [
    "\n",
    "model = nn.Sequential(saved_model_SCL,nn.Sequential(nn.ReLU(inplace=True),LinBnDrop(256, 101, p=0.5)))\n"
   ]
  },
  {
   "cell_type": "code",
   "execution_count": 14,
   "metadata": {},
   "outputs": [
    {
     "name": "stdout",
     "output_type": "stream",
     "text": [
      "Converted 00_core.ipynb.\n",
      "Converted 01_losses_tmp.ipynb.\n",
      "Converted 02_inflator.ipynb.\n",
      "Converted 03_video_block.ipynb.\n",
      "Converted 05_charades.ipynb.\n",
      "Converted 07_read_video_function.ipynb.\n",
      "Converted 08_transformer.ipynb.\n",
      "Converted 09_lr_schedule.ipynb.\n",
      "Converted 10_experiments_on_images.ipynb.\n",
      "Converted 11_create_embeddings.ipynb.\n",
      "Converted 12_load_r2p1d_model.ipynb.\n",
      "Converted CALTECH101_MixedLoss.ipynb.\n",
      "Converted CALTECH101_singleloss.ipynb.\n",
      "Converted Embeddings_CRIMES.ipynb.\n",
      "Converted Embeddings_UCF101.ipynb.\n",
      "Converted KINETICS.ipynb.\n",
      "Converted UCF101.ipynb.\n",
      "Converted UCF101_unsupervised.ipynb.\n",
      "Converted UCF_Crimes_CEL.ipynb.\n",
      "Converted UCF_Crimes_SupCon.ipynb.\n",
      "Converted index.ipynb.\n"
     ]
    }
   ],
   "source": [
    "from nbdev.export import *\n",
    "notebook2script()"
   ]
  },
  {
   "cell_type": "code",
   "execution_count": null,
   "metadata": {},
   "outputs": [],
   "source": [
    "#default_exp kinetics"
   ]
  },
  {
   "cell_type": "code",
   "execution_count": 55,
   "metadata": {},
   "outputs": [],
   "source": [
    "import cv2"
   ]
  },
  {
   "cell_type": "code",
   "execution_count": 11,
   "metadata": {},
   "outputs": [],
   "source": [
    "files = df.vid_files\n",
    "corrupted = L()\n",
    "for file in files:\n",
    "    if os.path.exists(file):\n",
    "        stat = os.stat(file)\n",
    "        if stat.st_size < 50000:\n",
    "            corrupted.append(str(file))\n",
    "    else:\n",
    "        print(f\"{file} Not found\")"
   ]
  },
  {
   "cell_type": "code",
   "execution_count": 12,
   "metadata": {},
   "outputs": [
    {
     "data": {
      "text/plain": [
       "(#7) ['/mnt/data/adrianlopez/Datasets/kinetics700/Videos/Fire.mp4','/mnt/data/adrianlopez/Datasets/kinetics700/Videos/Fire.mp4','/mnt/data/adrianlopez/Datasets/kinetics700/Videos/Fire.mp4','/mnt/data/adrianlopez/Datasets/kinetics700/Videos/Fire.mp4','/mnt/data/adrianlopez/Datasets/kinetics700/Videos/My gum.mp4','/mnt/data/adrianlopez/Datasets/kinetics700/Videos/Fire.mp4','/mnt/data/adrianlopez/Datasets/kinetics700/Videos/Sledgehammer exercises.mp4']"
      ]
     },
     "execution_count": 12,
     "metadata": {},
     "output_type": "execute_result"
    }
   ],
   "source": [
    "corrupted"
   ]
  },
  {
   "cell_type": "code",
   "execution_count": 72,
   "metadata": {},
   "outputs": [
    {
     "name": "stdout",
     "output_type": "stream",
     "text": [
      "CPU times: user 19.5 ms, sys: 3.98 ms, total: 23.4 ms\n",
      "Wall time: 21.2 ms\n",
      "CPU times: user 16 µs, sys: 1e+03 ns, total: 17 µs\n",
      "Wall time: 21 µs\n"
     ]
    }
   ],
   "source": [
    "%time cap = cv2.VideoCapture('/mnt/data/adrianlopez/Datasets/kinetics700/Videos/Puppy pushes carts.mp4')\n",
    "%time duration = cap.get(cv2.CAP_PROP_FRAME_COUNT)\n",
    "cap.release()"
   ]
  },
  {
   "cell_type": "code",
   "execution_count": 145,
   "metadata": {},
   "outputs": [
    {
     "name": "stdout",
     "output_type": "stream",
     "text": [
      "1824.0\n"
     ]
    }
   ],
   "source": [
    "cap = cv2.VideoCapture('/mnt/data/adrianlopez/Datasets/kinetics700/Videos/Watering.mp4')\n",
    "cap.set(cv2.CAP_PROP_POS_FRAMES, 0)\n",
    "print(cap.get(cv2.CAP_PROP_FRAME_COUNT))\n",
    "cap.release()"
   ]
  },
  {
   "cell_type": "code",
   "execution_count": 60,
   "metadata": {},
   "outputs": [
    {
     "data": {
      "text/plain": [
       "0.0"
      ]
     },
     "execution_count": 60,
     "metadata": {},
     "output_type": "execute_result"
    }
   ],
   "source": [
    "cap.get(cv2.CAP_PROP_FRAME_COUNT)"
   ]
  },
  {
   "cell_type": "code",
   "execution_count": null,
   "metadata": {},
   "outputs": [],
   "source": []
  }
 ],
 "metadata": {
  "kernelspec": {
   "display_name": "Python 3",
   "language": "python",
   "name": "python3"
  },
  "language_info": {
   "codemirror_mode": {
    "name": "ipython",
    "version": 3
   },
   "file_extension": ".py",
   "mimetype": "text/x-python",
   "name": "python",
   "nbconvert_exporter": "python",
   "pygments_lexer": "ipython3",
   "version": "3.8.3"
  }
 },
 "nbformat": 4,
 "nbformat_minor": 4
}
