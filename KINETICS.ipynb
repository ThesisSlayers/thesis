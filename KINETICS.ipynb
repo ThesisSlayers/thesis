{
 "cells": [
  {
   "cell_type": "markdown",
   "metadata": {},
   "source": [
    "# Libraries"
   ]
  },
  {
   "cell_type": "code",
   "execution_count": 1,
   "metadata": {},
   "outputs": [],
   "source": [
    "#export\n",
    "import torch\n",
    "import torch.nn as nn\n",
    "from fastai.vision.all import *\n",
    "from fastai.data.all import *\n",
    "from fastai.distributed import *\n",
    "import pandas as pd\n",
    "from pathlib import Path\n",
    "import time\n",
    "from datetime import date\n",
    "from vidaug import augmentors as va\n",
    "\n",
    "import torchvision.transforms as T\n",
    "\n",
    "\n",
    "from modules_th.video_block import * \n",
    "from modules_th.inflator import *\n",
    "from modules_th.triplet_loss import *\n",
    "from modules_th.supcon_module import *\n",
    "from modules_th.cus_cbs import *\n",
    "\n",
    "#Pretrained models\n",
    "from modules_th.pretrained_r2p1d50 import *\n",
    "from resnetmodels.mean import get_mean_std"
   ]
  },
  {
   "cell_type": "code",
   "execution_count": 2,
   "metadata": {},
   "outputs": [],
   "source": [
    "#export\n",
    "def read_data():\n",
    "    items_path = '/mnt/data/adrianlopez/Datasets/kinetics700/kinetics_train.csv'\n",
    "    return pd.read_csv(items_path, index_col=0)"
   ]
  },
  {
   "cell_type": "code",
   "execution_count": 3,
   "metadata": {},
   "outputs": [
    {
     "data": {
      "text/html": [
       "<div>\n",
       "<style scoped>\n",
       "    .dataframe tbody tr th:only-of-type {\n",
       "        vertical-align: middle;\n",
       "    }\n",
       "\n",
       "    .dataframe tbody tr th {\n",
       "        vertical-align: top;\n",
       "    }\n",
       "\n",
       "    .dataframe thead th {\n",
       "        text-align: right;\n",
       "    }\n",
       "</style>\n",
       "<table border=\"1\" class=\"dataframe\">\n",
       "  <thead>\n",
       "    <tr style=\"text-align: right;\">\n",
       "      <th></th>\n",
       "      <th>vid_files</th>\n",
       "      <th>label</th>\n",
       "      <th>val</th>\n",
       "    </tr>\n",
       "  </thead>\n",
       "  <tbody>\n",
       "    <tr>\n",
       "      <th>0</th>\n",
       "      <td>/mnt/data/adrianlopez/Datasets/kinetics700/Videos/Byron School of Clay students throwing on the pottery wheel.mp4</td>\n",
       "      <td>clay pottery making</td>\n",
       "      <td>False</td>\n",
       "    </tr>\n",
       "    <tr>\n",
       "      <th>1</th>\n",
       "      <td>/mnt/data/adrianlopez/Datasets/kinetics700/Videos/Carcoar Pottery turning a mug on a Pottery wheel.mp4</td>\n",
       "      <td>clay pottery making</td>\n",
       "      <td>False</td>\n",
       "    </tr>\n",
       "    <tr>\n",
       "      <th>2</th>\n",
       "      <td>/mnt/data/adrianlopez/Datasets/kinetics700/Videos/How to make clay pottery for kids - part 2.mp4</td>\n",
       "      <td>clay pottery making</td>\n",
       "      <td>False</td>\n",
       "    </tr>\n",
       "    <tr>\n",
       "      <th>3</th>\n",
       "      <td>/mnt/data/adrianlopez/Datasets/kinetics700/Videos/How to move just made pottery to a board.mp4</td>\n",
       "      <td>clay pottery making</td>\n",
       "      <td>False</td>\n",
       "    </tr>\n",
       "    <tr>\n",
       "      <th>4</th>\n",
       "      <td>/mnt/data/adrianlopez/Datasets/kinetics700/Videos/Tiny salt pig making.mp4</td>\n",
       "      <td>clay pottery making</td>\n",
       "      <td>False</td>\n",
       "    </tr>\n",
       "    <tr>\n",
       "      <th>5</th>\n",
       "      <td>/mnt/data/adrianlopez/Datasets/kinetics700/Videos/Centering On The Potters Wheel.mp4</td>\n",
       "      <td>clay pottery making</td>\n",
       "      <td>False</td>\n",
       "    </tr>\n",
       "    <tr>\n",
       "      <th>6</th>\n",
       "      <td>/mnt/data/adrianlopez/Datasets/kinetics700/Videos/Wheel throwing 6 kilo Waterfilters in 4 minutes by Bill Powell.mp4</td>\n",
       "      <td>clay pottery making</td>\n",
       "      <td>False</td>\n",
       "    </tr>\n",
       "    <tr>\n",
       "      <th>7</th>\n",
       "      <td>/mnt/data/adrianlopez/Datasets/kinetics700/Videos/Lattice Pottery.mp4</td>\n",
       "      <td>clay pottery making</td>\n",
       "      <td>True</td>\n",
       "    </tr>\n",
       "    <tr>\n",
       "      <th>8</th>\n",
       "      <td>/mnt/data/adrianlopez/Datasets/kinetics700/Videos/Cade Throwing.mp4</td>\n",
       "      <td>clay pottery making</td>\n",
       "      <td>False</td>\n",
       "    </tr>\n",
       "  </tbody>\n",
       "</table>\n",
       "</div>"
      ],
      "text/plain": [
       "                                                                                                              vid_files  \\\n",
       "0     /mnt/data/adrianlopez/Datasets/kinetics700/Videos/Byron School of Clay students throwing on the pottery wheel.mp4   \n",
       "1                /mnt/data/adrianlopez/Datasets/kinetics700/Videos/Carcoar Pottery turning a mug on a Pottery wheel.mp4   \n",
       "2                      /mnt/data/adrianlopez/Datasets/kinetics700/Videos/How to make clay pottery for kids - part 2.mp4   \n",
       "3                        /mnt/data/adrianlopez/Datasets/kinetics700/Videos/How to move just made pottery to a board.mp4   \n",
       "4                                            /mnt/data/adrianlopez/Datasets/kinetics700/Videos/Tiny salt pig making.mp4   \n",
       "5                                  /mnt/data/adrianlopez/Datasets/kinetics700/Videos/Centering On The Potters Wheel.mp4   \n",
       "6  /mnt/data/adrianlopez/Datasets/kinetics700/Videos/Wheel throwing 6 kilo Waterfilters in 4 minutes by Bill Powell.mp4   \n",
       "7                                                 /mnt/data/adrianlopez/Datasets/kinetics700/Videos/Lattice Pottery.mp4   \n",
       "8                                                   /mnt/data/adrianlopez/Datasets/kinetics700/Videos/Cade Throwing.mp4   \n",
       "\n",
       "                 label    val  \n",
       "0  clay pottery making  False  \n",
       "1  clay pottery making  False  \n",
       "2  clay pottery making  False  \n",
       "3  clay pottery making  False  \n",
       "4  clay pottery making  False  \n",
       "5  clay pottery making  False  \n",
       "6  clay pottery making  False  \n",
       "7  clay pottery making   True  \n",
       "8  clay pottery making  False  "
      ]
     },
     "execution_count": 3,
     "metadata": {},
     "output_type": "execute_result"
    }
   ],
   "source": [
    "df = read_data()\n",
    "df.head(9)"
   ]
  },
  {
   "cell_type": "code",
   "execution_count": 30,
   "metadata": {},
   "outputs": [],
   "source": [
    "df = read_data()\n",
    "df = df.sample(frac=0.01)"
   ]
  },
  {
   "cell_type": "code",
   "execution_count": 14,
   "metadata": {},
   "outputs": [],
   "source": [
    "pip= [ColReader('vid_files'),ColReader('label')]\n",
    "dset = Datasets(df, pipTrue\n",
    ")"
   ]
  },
  {
   "cell_type": "code",
   "execution_count": 16,
   "metadata": {},
   "outputs": [
    {
     "data": {
      "text/plain": [
       "('/mnt/data/adrianlopez/Datasets/kinetics700/Videos/Paint spraying.mp4',\n",
       " 'spraying')"
      ]
     },
     "execution_count": 16,
     "metadata": {},
     "output_type": "execute_result"
    }
   ],
   "source": [
    "dset[0]"
   ]
  },
  {
   "cell_type": "code",
   "execution_count": 5,
   "metadata": {},
   "outputs": [],
   "source": [
    "# export\n",
    "def sometimes(x):\n",
    "    return va.Sometimes(0.5,x)\n",
    "    \n",
    "def wrapVideo(x):\n",
    "    return Video(x)"
   ]
  },
  {
   "cell_type": "code",
   "execution_count": 19,
   "metadata": {},
   "outputs": [],
   "source": [
    "#export\n",
    "def get_dsets(df, l=40, size=512,skip=20,n_views=2):\n",
    "    \n",
    "    vid_pip = [ ColReader('vid_files'),\n",
    "                createVideoForm(l=l,skip=skip, form='img'), \n",
    "               Resize(size, method=ResizeMethod.Pad),\n",
    "               sometimes(va.HorizontalFlip()),\n",
    "               va.GaussianBlur(1.),\n",
    "#               sometimes(va.InvertColor()),\n",
    "               va.RandomRotate(10),\n",
    "               wrapVideo]\n",
    "\n",
    "    lbl_pip = [ColReader('label'), Categorize()]           \n",
    "    pip = [*([vid_pip]*n_views), lbl_pip]\n",
    "    #splits\n",
    "    splits = ColSplitter('val')(df)\n",
    "\n",
    "    # Datasets and dataloaders\n",
    "    dsets = Datasets(df, pip, splits=splits)\n",
    "    return dsets, splits"
   ]
  },
  {
   "cell_type": "code",
   "execution_count": null,
   "metadata": {},
   "outputs": [
    {
     "data": {
      "text/plain": [
       "((#90) [0,1,2,3,4,5,6,7,11,12...], (#43) [8,9,10,19,23,26,29,37,41,46...])"
      ]
     },
     "execution_count": null,
     "metadata": {},
     "output_type": "execute_result"
    }
   ],
   "source": [
    "ColSplitter('val')(df)"
   ]
  },
  {
   "cell_type": "code",
   "execution_count": 20,
   "metadata": {},
   "outputs": [],
   "source": [
    "dsets,splits = get_dsets(df)\n",
    "vid = dsets[0][0]"
   ]
  },
  {
   "cell_type": "code",
   "execution_count": 23,
   "metadata": {},
   "outputs": [
    {
     "data": {
      "text/plain": [
       "((#40) [<PIL.Image.Image image mode=RGB size=512x512 at 0x7EFD37E8FAC0>,<PIL.Image.Image image mode=RGB size=512x512 at 0x7EFD37E8FB20>,<PIL.Image.Image image mode=RGB size=512x512 at 0x7EFD37E8F8B0>,<PIL.Image.Image image mode=RGB size=512x512 at 0x7EFD37E8F8E0>,<PIL.Image.Image image mode=RGB size=512x512 at 0x7EFD37E8FA30>,<PIL.Image.Image image mode=RGB size=512x512 at 0x7EFD37E8FB50>,<PIL.Image.Image image mode=RGB size=512x512 at 0x7EFD37E8F7F0>,<PIL.Image.Image image mode=RGB size=512x512 at 0x7EFD37E8F850>,<PIL.Image.Image image mode=RGB size=512x512 at 0x7EFD37E8F940>,<PIL.Image.Image image mode=RGB size=512x512 at 0x7EFD37E8F7C0>...],\n",
       " (#40) [<PIL.Image.Image image mode=RGB size=512x512 at 0x7EFD37801310>,<PIL.Image.Image image mode=RGB size=512x512 at 0x7EFD378013D0>,<PIL.Image.Image image mode=RGB size=512x512 at 0x7EFD37801370>,<PIL.Image.Image image mode=RGB size=512x512 at 0x7EFD37801580>,<PIL.Image.Image image mode=RGB size=512x512 at 0x7EFD378017F0>,<PIL.Image.Image image mode=RGB size=512x512 at 0x7EFD37801460>,<PIL.Image.Image image mode=RGB size=512x512 at 0x7EFD37801430>,<PIL.Image.Image image mode=RGB size=512x512 at 0x7EFD37801760>,<PIL.Image.Image image mode=RGB size=512x512 at 0x7EFD378016D0>,<PIL.Image.Image image mode=RGB size=512x512 at 0x7EFD37801400>...],\n",
       " TensorCategory(119))"
      ]
     },
     "execution_count": 23,
     "metadata": {},
     "output_type": "execute_result"
    }
   ],
   "source": [
    "dsets[0]"
   ]
  },
  {
   "cell_type": "code",
   "execution_count": 21,
   "metadata": {},
   "outputs": [
    {
     "data": {
      "image/png": "[encoded data removed]",
      "text/plain": [
       "<Figure size 360x360 with 1 Axes>"
      ]
     },
     "metadata": {},
     "output_type": "display_data"
    }
   ],
   "source": [
    "vid.show()"
   ]
  },
  {
   "cell_type": "code",
   "execution_count": 26,
   "metadata": {},
   "outputs": [],
   "source": [
    "# export\n",
    "def get_dls(dsets,splits,df, n_el= 2, n_lbl = 2, shuffle_fn= UniformizedShuffle, normalize='kinetics'):\n",
    "        \n",
    "    mean, std = get_mean_std(1,normalize)\n",
    "    dls  = dsets.dataloaders(bs=n_el*n_lbl, \n",
    "                             shuffle_train=True,\n",
    "                             after_item=ToTensor(),\n",
    "                             after_batch=[IntToFloatTensor(), Normalize.from_stats(*imagenet_stats)])\n",
    "    \n",
    "    dls.valid.shuffle = True\n",
    "    if shuffle_fn is not None:\n",
    "        dls.train.shuffle_fn = UniformizedShuffle(df.label.iloc[splits[0]], n_el = n_el, n_lbl= n_lbl)\n",
    "        dls.valid.shuffle_fn = UniformizedShuffle(df.label.iloc[splits[1]], n_el = n_el, n_lbl= n_lbl)\n",
    "    return dls\n",
    "    True\n"
   ]
  },
  {
   "cell_type": "code",
   "execution_count": 27,
   "metadata": {},
   "outputs": [],
   "source": [
    "dls = get_dls(dsets,splits,df, normalize='kinetics')\n"
   ]
  },
  {
   "cell_type": "code",
   "execution_count": 28,
   "metadata": {},
   "outputs": [],
   "source": [
    "#export\n",
    "def setup_log(learn,name, append=True):\n",
    "     # set up logs file\n",
    "    # now = datetime.now()\n",
    "    # time = now.strftimes(\"%d_%m\")\n",
    "    logs_file = '/mnt/data/eugeniomarinelli/UCF_experiments/training_results/logs_kinetics_'+name+'.csv'\n",
    "    Logs_csv =   CSVLogger(fname= logs_file, append=append)    \n",
    "    learn.add_cb(Logs_csv)"
   ]
  },
  {
   "cell_type": "code",
   "execution_count": null,
   "metadata": {},
   "outputs": [],
   "source": [
    "True\n"
   ]
  },
  {
   "cell_type": "code",
   "execution_count": 30,
   "metadata": {},
   "outputs": [],
   "source": [
    "#export\n",
    "def get_learner(df,\n",
    "                pretrained_model='r2p1d50_K',  \n",
    "                loss_name='CEL', \n",
    "                l=40, size=224, n_lbl =2, n_el=2, skip=20, embs_size=256,n_views=2, \n",
    "                normalize = 'kinetics'):\n",
    "\n",
    "    dsets,splits = get_dsets(df, l, size, skip, n_views)\n",
    "\n",
    "    dls = get_dls(dsets,splits,df, normalize=normalize)\n",
    "    \n",
    "    if pretrained_model in inserted_models:\n",
    "        model = inserted_models[pretrained_model]\n",
    "    else: raise 'model not present in pretrained models'\n",
    "   \n",
    "\n",
    "    body = create_body(model, cut=-2)\n",
    "        \n",
    "\n",
    "\n",
    "    if loss_name == 'SCL+CEL':\n",
    "        Loss = SumLoss(SupConLoss,p='cos', alpha=1, n_views=n_views)\n",
    "        head = inflate(create_head(256, len(dls.vocab), lin_ftrs=[]))\n",
    "        model = MixedLossModel(body,head)\n",
    "        metrics = [supcon_accuracy, silh_score]\n",
    "        \n",
    "        \n",
    "    elif loss_name == 'SCL':\n",
    "        Loss= SupConLoss() \n",
    "        head = inflate(create_head(4096, embs_size, lin_ftrs=[]))\n",
    "        model = nn.Sequential(body,head)\n",
    "        metrics = [silh_score]\n",
    "        \n",
    "        \n",
    "    elif loss_name == 'CEL':\n",
    "        Loss = CEL()\n",
    "        head = inflate(create_head(4096, len(dls.vocab), lin_ftrs=[256]))\n",
    "        model = MixedLossModel(body,head)\n",
    "        metrics = [supcon_accuracy,silh_score]\n",
    "        \n",
    "    elif loss_name == 'CEL_after_SCL':\n",
    "        Loss = CrossEntropyLossFlat()\n",
    "        saved_model = torch.load('/mnt/data/eugeniomarinelli/UCF_experiments/trained_models_cnn/models/r2p1d50_ucf101_SCL_tuned_15fr.pth')\n",
    "        model = nn.Sequential(saved_model,nn.Sequential(nn.ReLU(inplace=True),LinBnDrop(256, 101, p=0.5)))\n",
    "        metrics = [accuracy]\n",
    "    else:\n",
    "        raise 'Loss not implemented'\n",
    "\n",
    "    \n",
    "        \n",
    "    learn = Learner(dls, \n",
    "                model,\n",
    "                splitter=splitter ,\n",
    "                loss_func=Loss,\n",
    "                metrics=metrics)\n",
    "\n",
    "    if loss_name == 'SCL+CEL':\n",
    "        learn.add_cbs([ContrastiveCallback(n_views)])#,LossesRecorderCallback()])\n",
    "    elif loss_name == 'SCL':\n",
    "        learn.add_cb(ContrastiveCallback(n_views))\n",
    "    elif loss_name in ['CEL', 'CEL_after_SC']:\n",
    "        learn.add_cb(MultiViewsCallback(n_views))\n",
    "    time = date.today().strftime(\"_%d-%m\")\n",
    "        \n",
    "    setup_log(learn, str(pretrained_model)+'_'+loss_name+'_tuning_10_'+time, append=True)\n",
    "   \n",
    "    return learn\n",
    " "
   ]
  },
  {
   "cell_type": "code",
   "execution_count": 31,
   "metadata": {},
   "outputs": [
    {
     "name": "stdout",
     "output_type": "stream",
     "text": [
      "loading pretrained model /mnt/data/eugeniomarinelli/pretrained/r2p1d50_K_200ep.pth\n"
     ]
    }
   ],
   "source": [
    "learn = get_learner(df, 'r2p1d50_K', loss_name='CEL_after_SCL', l=2, size=64, n_lbl =2, n_el=2, skip=20, embs_size=256, n_views=2)\n",
    "#learn.add_cb(CSVLogger(fname='data/eugeniomarinelli/UCF_experiments/trained_models_cnn/learners/LOGGER_PROVA' , append=False)  )"
   ]
  },
  {
   "cell_type": "code",
   "execution_count": null,
   "metadata": {},
   "outputs": [
    {
     "data": {
      "text/plain": [
       "'_23-01'"
      ]
     },
     "execution_count": null,
     "metadata": {},
     "output_type": "execute_result"
    }
   ],
   "source": [
    "from datetime import date\n",
    "date.today().strftime(\"_%d-%m\")"
   ]
  },
  {
   "cell_type": "code",
   "execution_count": null,
   "metadata": {},
   "outputs": [],
   "source": [
    "True\n",
    "learn.fit_one_cycle(1)"
   ]
  },
  {
   "cell_type": "code",
   "execution_count": null,
   "metadata": {},
   "outputs": [
    {
     "data": {
      "text/plain": [
       "torch.Size([8, 101])"
      ]
     },
     "execution_count": null,
     "metadata": {},
     "output_type": "execute_result"
    }
   ],
   "source": [
    "inp = torch.randn(8,3,30,100,100).cuda()\n",
    "model = learn.model.cuda()\n",
    "model(inp).shape"
   ]
  },
  {
   "cell_type": "code",
   "execution_count": 29,
   "metadata": {},
   "outputs": [],
   "source": [
    "#export\n",
    "def save_learner(learn, name):\n",
    "    prefix = '/mnt/data/eugeniomarinelli/'\n",
    "    try:\n",
    "        learn.export(prefix+'UCF_experiments/trained_models_cnn/learners/learner_kinetics_'+name)\n",
    "    except: print(\"learner export didn't work\") \n",
    "    try:\n",
    "        torch.save(learn.model,prefix+'UCF_experiments/trained_models_cnn/models/model_kinetics_'+name+'.pth')\n",
    "    except: pass\n",
    "    torch.save(learn.model.state_dict(),prefix+'UCF_experiments/trained_models_cnn/models/state_dict_kinetics_'+name)\n",
    "    \n"
   ]
  },
  {
   "cell_type": "code",
   "execution_count": 32,
   "metadata": {},
   "outputs": [],
   "source": [
    "# learn.export('/mnt/data/eugeniomarinelli/UCF_experiments/trained_models_cnn/learners/LEARNER_CANCELLARE')\n",
    "save_learner(learn, 'CANCELLARE')"
   ]
  },
  {
   "cell_type": "code",
   "execution_count": null,
   "metadata": {},
   "outputs": [],
   "source": [
    "b = torch.load('/mnt/data/eugeniomarinelli/UCF_experiments/trained_models_cnn/learners/learner_ucf101_XXXXXX.pth')"
   ]
  },
  {
   "cell_type": "code",
   "execution_count": null,
   "metadata": {},
   "outputs": [],
   "source": [
    "saved_model_SCL = torch.load('/mnt/data/eugeniomarinelli/UCF_experiments/trained_models_cnn/models/r2p1d50_ucf101_SCL_tuned_15fr.pth')"
   ]
  },
  {
   "cell_type": "code",
   "execution_count": null,
   "metadata": {},
   "outputs": [],
   "source": [
    "\n",
    "model = nn.Sequential(saved_model_SCL,nn.Sequential(nn.ReLU(inplace=True),LinBnDrop(256, 101, p=0.5)))\n"
   ]
  },
  {
   "cell_type": "code",
   "execution_count": 14,
   "metadata": {},
   "outputs": [
    {
     "name": "stdout",
     "output_type": "stream",
     "text": [
      "Converted 00_core.ipynb.\n",
      "Converted 01_losses_tmp.ipynb.\n",
      "Converted 02_inflator.ipynb.\n",
      "Converted 03_video_block.ipynb.\n",
      "Converted 05_charades.ipynb.\n",
      "Converted 07_read_video_function.ipynb.\n",
      "Converted 08_transformer.ipynb.\n",
      "Converted 09_lr_schedule.ipynb.\n",
      "Converted 10_experiments_on_images.ipynb.\n",
      "Converted 11_create_embeddings.ipynb.\n",
      "Converted 12_load_r2p1d_model.ipynb.\n",
      "Converted CALTECH101_MixedLoss.ipynb.\n",
      "Converted CALTECH101_singleloss.ipynb.\n",
      "Converted Embeddings_CRIMES.ipynb.\n",
      "Converted Embeddings_UCF101.ipynb.\n",
      "Converted KINETICS.ipynb.\n",
      "Converted UCF101.ipynb.\n",
      "Converted UCF101_unsupervised.ipynb.\n",
      "Converted UCF_Crimes_CEL.ipynb.\n",
      "Converted UCF_Crimes_SupCon.ipynb.\n",
      "Converted index.ipynb.\n"
     ]
    }
   ],
   "source": [
    "from nbdev.export import *\n",
    "notebook2script()"
   ]
  },
  {
   "cell_type": "code",
   "execution_count": null,
   "metadata": {},
   "outputs": [],
   "source": [
    "#default_exp kinetics"
   ]
  },
  {
   "cell_type": "code",
   "execution_count": 7,
   "metadata": {},
   "outputs": [],
   "source": [
    "import cv2"
   ]
  },
  {
   "cell_type": "code",
   "execution_count": 11,
   "metadata": {},
   "outputs": [],
   "source": [
    "files = df.vid_files\n",
    "corrupted = L()\n",
    "for file in files:\n",
    "    if os.path.exists(file):\n",
    "        stat = os.stat(file)\n",
    "        if stat.st_size < 50000:\n",
    "            corrupted.append(str(file))\n",
    "    else:\n",
    "        print(f\"{file} Not found\")"
   ]
  },
  {
   "cell_type": "code",
   "execution_count": 12,
   "metadata": {},
   "outputs": [
    {
     "data": {
      "text/plain": [
       "(#7) ['/mnt/data/adrianlopez/Datasets/kinetics700/Videos/Fire.mp4','/mnt/data/adrianlopez/Datasets/kinetics700/Videos/Fire.mp4','/mnt/data/adrianlopez/Datasets/kinetics700/Videos/Fire.mp4','/mnt/data/adrianlopez/Datasets/kinetics700/Videos/Fire.mp4','/mnt/data/adrianlopez/Datasets/kinetics700/Videos/My gum.mp4','/mnt/data/adrianlopez/Datasets/kinetics700/Videos/Fire.mp4','/mnt/data/adrianlopez/Datasets/kinetics700/Videos/Sledgehammer exercises.mp4']"
      ]
     },
     "execution_count": 12,
     "metadata": {},
     "output_type": "execute_result"
    }
   ],
   "source": [
    "corrupted"
   ]
  },
  {
   "cell_type": "code",
   "execution_count": 16,
   "metadata": {},
   "outputs": [
    {
     "name": "stdout",
     "output_type": "stream",
     "text": [
      "1824.0\n"
     ]
    }
   ],
   "source": [
    "cap = cv2.VideoCapture('/mnt/data/adrianlopez/Datasets/kinetics700/Videos/Watering.mp4')\n",
    "duration = cap.get(cv2.CAP_PROP_FRAME_COUNT)\n",
    "print(duration)\n",
    "cap.release()"
   ]
  },
  {
   "cell_type": "code",
   "execution_count": null,
   "metadata": {},
   "outputs": [],
   "source": []
  }
 ],
 "metadata": {
  "kernelspec": {
   "display_name": "Python 3",
   "language": "python",
   "name": "python3"
  },
  "language_info": {
   "codemirror_mode": {
    "name": "ipython",
    "version": 3
   },
   "file_extension": ".py",
   "mimetype": "text/x-python",
   "name": "python",
   "nbconvert_exporter": "python",
   "pygments_lexer": "ipython3",
   "version": "3.8.3"
  }
 },
 "nbformat": 4,
 "nbformat_minor": 4
}
