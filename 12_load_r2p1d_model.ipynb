{
 "cells": [
  {
   "cell_type": "code",
   "execution_count": null,
   "metadata": {},
   "outputs": [],
   "source": [
    "#export\n",
    "import torch\n",
    "import torch.nn as nn\n",
    "from fastai.vision.all import *\n",
    "\n",
    "from resnetmodels.models.resnet2p1d import generate_model\n",
    "from resnetmodels.model import load_pretrained_model"
   ]
  },
  {
   "cell_type": "code",
   "execution_count": null,
   "metadata": {},
   "outputs": [],
   "source": [
    "#export\n",
    "def r2p1d_model_K(pretrained=False,progress=True):\n",
    "    r2p1d = generate_model(50,n_classes=700)\n",
    "    if pretrained:\n",
    "        return load_pretrained_model(r2p1d, '/mnt/data/eugeniomarinelli/pretrained/r2p1d50_K_200ep.pth','r2p1d50_K_200ep.pth', n_finetune_classes=101 )\n",
    "    return r2p1d"
   ]
  },
  {
   "cell_type": "code",
   "execution_count": null,
   "metadata": {},
   "outputs": [],
   "source": [
    "#export\n",
    "def r2p1d_model_KM(pretrained=False,progress=True):\n",
    "    r2p1d = generate_model(50,n_classes=1039)\n",
    "    if pretrained:\n",
    "        return load_pretrained_model(r2p1d, '/mnt/data/eugeniomarinelli/pretrained/r2p1d50_KM_200ep.pth','r2p1d50_KM_200ep.pth', n_finetune_classes=101 )\n",
    "    return r2p1d"
   ]
  },
  {
   "cell_type": "code",
   "execution_count": null,
   "metadata": {},
   "outputs": [],
   "source": [
    "#export\n",
    "inserted_models = {'r2p1d50_KM': r2p1d_model_KM,\n",
    "                   'r2p1d50_K': r2p1d_model_K,\n",
    "                   'res50_2d': resnet50}"
   ]
  },
  {
   "cell_type": "code",
   "execution_count": 4,
   "metadata": {},
   "outputs": [
    {
     "name": "stdout",
     "output_type": "stream",
     "text": [
      "Converted 00_core.ipynb.\n",
      "Converted 01_losses_tmp.ipynb.\n",
      "Converted 02_inflator.ipynb.\n",
      "Converted 03_video_block.ipynb.\n",
      "Converted 05_charades.ipynb.\n",
      "Converted 07_read_video_function.ipynb.\n",
      "Converted 08_transformer.ipynb.\n",
      "Converted 09_lr_schedule.ipynb.\n",
      "Converted 10_experiments_on_images.ipynb.\n",
      "Converted 11_create_embeddings.ipynb.\n",
      "Converted 12_load_r2p1d_model.ipynb.\n",
      "Converted CALTECH101_MixedLoss.ipynb.\n",
      "Converted CALTECH101_singleloss.ipynb.\n",
      "Converted UCF101.ipynb.\n",
      "Converted UCF_Crimes_CEL.ipynb.\n",
      "Converted UCF_Crimes_SupCon.ipynb.\n",
      "Converted index.ipynb.\n"
     ]
    }
   ],
   "source": [
    "from nbdev.export import *\n",
    "notebook2script()"
   ]
  },
  {
   "cell_type": "code",
   "execution_count": null,
   "metadata": {},
   "outputs": [],
   "source": [
    "#default_exp pretrained_r2p1d50"
   ]
  }
 ],
 "metadata": {
  "kernelspec": {
   "display_name": "Python 3",
   "language": "python",
   "name": "python3"
  },
  "language_info": {
   "codemirror_mode": {
    "name": "ipython",
    "version": 3
   },
   "file_extension": ".py",
   "mimetype": "text/x-python",
   "name": "python",
   "nbconvert_exporter": "python",
   "pygments_lexer": "ipython3",
   "version": "3.8.3"
  }
 },
 "nbformat": 4,
 "nbformat_minor": 4
}
