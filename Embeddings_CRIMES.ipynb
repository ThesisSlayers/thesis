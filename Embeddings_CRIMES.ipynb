{
 "cells": [
  {
   "cell_type": "markdown",
   "metadata": {
    "toc-hr-collapsed": true,
    "toc-nb-collapsed": true
   },
   "source": [
    "# Study of Embeddings"
   ]
  },
  {
   "cell_type": "markdown",
   "metadata": {},
   "source": [
    "# Libraries"
   ]
  },
  {
   "cell_type": "code",
   "execution_count": 1,
   "metadata": {},
   "outputs": [],
   "source": [
    "import torch as th\n",
    "from fastai.vision.all import *\n",
    "import cv2\n",
    "from modules_th.create_embeddings import *\n",
    "import random\n",
    "from math import ceil\n",
    "from sklearn.ensemble import IsolationForest\n",
    "from sklearn.neighbors import LocalOutlierFactor\n",
    "from sklearn.svm import OneClassSVM\n",
    "from sklearn.metrics import roc_curve, roc_auc_score, plot_roc_curve\n",
    "import matplotlib.pyplot as plt"
   ]
  },
  {
   "cell_type": "code",
   "execution_count": 2,
   "metadata": {},
   "outputs": [],
   "source": [
    "%config Completer.use_jedi = False"
   ]
  },
  {
   "cell_type": "code",
   "execution_count": 3,
   "metadata": {},
   "outputs": [],
   "source": [
    "th.cuda.set_device(0)"
   ]
  },
  {
   "cell_type": "code",
   "execution_count": null,
   "metadata": {
    "collapsed": true,
    "jupyter": {
     "outputs_hidden": true
    }
   },
   "outputs": [],
   "source": []
  },
  {
   "cell_type": "markdown",
   "metadata": {},
   "source": [
    "## Utils"
   ]
  },
  {
   "cell_type": "code",
   "execution_count": 4,
   "metadata": {},
   "outputs": [],
   "source": [
    "def get_embs_paths(path, cat_of_edge_cases=None):\n",
    "    if cat_of_edge_cases is None: normal_lbls, anom_lbls = ['0'], ['1'] \n",
    "    elif cat_of_edge_cases == 1: normal_lbls, anom_lbls = ['0'], ['1', '2']\n",
    "    elif cat_of_edge_cases == 0: normal_lbls, anom_lbls = ['0', '2'], ['1']\n",
    "    \n",
    "    embs = get_files(path, extensions='.pth')\n",
    "    normal_embs = embs.filter(lambda x: str(x)[-5]in normal_lbls)\n",
    "    anom_embs = embs.filter(lambda x: str(x)[-5] in anom_lbls)\n",
    "    return normal_embs, anom_embs\n",
    "\n",
    "def sample_norm_embs(normal_embs, p):\n",
    "    assert p < len(normal_embs), f'Not enough normal embs: \\n# of normal embs = {len(normal_embs)} \\n# of desired training embs = {p}'\n",
    "    random.shuffle(normal_embs)\n",
    "    i = ceil(p*len(normal_embs)) if p <= 1 else p\n",
    "    train_embs, test_embs = normal_embs[:i], normal_embs[i:]\n",
    "    return train_embs, test_embs\n",
    "\n",
    "def get_embs(path, cat_of_edge_cases=None):\n",
    "    normal_embs, anom_embs = get_embs_paths(path, cat_of_edge_cases)\n",
    "    return normal_embs.map(th.load).map(to_cpu).stack().numpy(), anom_embs.map(th.load).map(to_cpu).stack().numpy()\n"
   ]
  },
  {
   "cell_type": "markdown",
   "metadata": {},
   "source": [
    "# (2+1)D SCL fine tuning Kinetics pretraining "
   ]
  },
  {
   "cell_type": "markdown",
   "metadata": {},
   "source": [
    "## Isolation Forest "
   ]
  },
  {
   "cell_type": "code",
   "execution_count": null,
   "metadata": {},
   "outputs": [],
   "source": [
    "normal_embs, anom_embs = get_embs(path, 1)\n",
    "train_embs, test_embs = sample_norm_embs(normal_embs, .8) \n",
    "clf = IsolationForest(contamination='auto')\n",
    "clf.fit(train_embs)"
   ]
  },
  {
   "cell_type": "markdown",
   "metadata": {},
   "source": [
    "### ROC curve on all videos"
   ]
  },
  {
   "cell_type": "code",
   "execution_count": 268,
   "metadata": {},
   "outputs": [
    {
     "data": {
      "text/plain": [
       "[<matplotlib.lines.Line2D at 0x7f876a69fd00>]"
      ]
     },
     "execution_count": 268,
     "metadata": {},
     "output_type": "execute_result"
    },
    {
     "data": {
      "image/png": "[encoded data removed]",
      "text/plain": [
       "<Figure size 432x288 with 1 Axes>"
      ]
     },
     "metadata": {
      "needs_background": "light"
     },
     "output_type": "display_data"
    }
   ],
   "source": [
    "y = np.array(L(1 for el in test_embs)+L(-1 for el in anom_embs))\n",
    "fpr, tps, ths = roc_curve(y, clf.decision_function(np.concatenate((test_embs,anom_embs))))\n",
    "plt.plot(fpr, tps)"
   ]
  },
  {
   "cell_type": "code",
   "execution_count": 269,
   "metadata": {},
   "outputs": [
    {
     "data": {
      "text/plain": [
       "0.5168642662718609"
      ]
     },
     "execution_count": 269,
     "metadata": {},
     "output_type": "execute_result"
    }
   ],
   "source": [
    "roc_auc_score(y, clf.decision_function(np.concatenate((test_embs,anom_embs))))"
   ]
  },
  {
   "cell_type": "markdown",
   "metadata": {},
   "source": [
    "### Anomaly Detection Metrics"
   ]
  },
  {
   "cell_type": "markdown",
   "metadata": {},
   "source": [
    "## Local Outlier Factor"
   ]
  },
  {
   "cell_type": "code",
   "execution_count": 12,
   "metadata": {},
   "outputs": [
    {
     "data": {
      "text/plain": [
       "LocalOutlierFactor(metric='cosine', novelty='True')"
      ]
     },
     "execution_count": 12,
     "metadata": {},
     "output_type": "execute_result"
    }
   ],
   "source": [
    "path = '/mnt/data/eugeniomarinelli/UCF_experiments/embeddings/ucf101_r2p1d50_SCL_20_5'\n",
    "normal_embs, anom_embs = get_embs(path, 1)\n",
    "train_embs, test_embs = sample_norm_embs(normal_embs, .8) \n",
    "clf = LocalOutlierFactor(metric='cosine', novelty='True')\n",
    "clf.fit(train_embs)"
   ]
  },
  {
   "cell_type": "markdown",
   "metadata": {},
   "source": [
    "### ROC curve on all videos"
   ]
  },
  {
   "cell_type": "code",
   "execution_count": 13,
   "metadata": {},
   "outputs": [
    {
     "data": {
      "text/plain": [
       "[<matplotlib.lines.Line2D at 0x7fd779dd4af0>]"
      ]
     },
     "execution_count": 13,
     "metadata": {},
     "output_type": "execute_result"
    },
    {
     "data": {
      "image/png": "[encoded data removed]",
      "text/plain": [
       "<Figure size 432x288 with 1 Axes>"
      ]
     },
     "metadata": {
      "needs_background": "light"
     },
     "output_type": "display_data"
    }
   ],
   "source": [
    "y = np.array(L(1 for el in test_embs)+L(-1 for el in anom_embs))\n",
    "fpr, tps, ths = roc_curve(y, clf.decision_function(np.concatenate((test_embs,anom_embs))))\n",
    "plt.plot(fpr, tps)"
   ]
  },
  {
   "cell_type": "code",
   "execution_count": 14,
   "metadata": {},
   "outputs": [
    {
     "data": {
      "text/plain": [
       "0.6406655345327206"
      ]
     },
     "execution_count": 14,
     "metadata": {},
     "output_type": "execute_result"
    }
   ],
   "source": [
    "ect other anomalous events, thereforethey render a limited roc_auc_score(y, clf.decision_function(np.concatenate((test_embs,anom_embs))))"
   ]
  },
  {
   "cell_type": "markdown",
   "metadata": {},
   "source": [
    "## One Class SVM"
   ]
  },
  {
   "cell_type": "code",
   "execution_count": 308,
   "metadata": {},
   "outputs": [
    {
     "data": {
      "text/plain": [
       "13200"
      ]
     },
     "execution_count": 308,
     "metadata": {},
     "output_type": "execute_result"
    }
   ],
   "source": [
    "220*60"
   ]
  },
  {
   "cell_type": "code",
   "execution_count": 304,
   "metadata": {},
   "outputs": [
    {
     "data": {
      "text/plain": [
       "OneClassSVM()"
      ]
     },
     "execution_count": 304,
     "metadata": {},
     "output_type": "execute_result"
    }
   ],
   "source": [
    "path = '/mnt/data/eugeniomarinelli/UCF_experiments/embeddings/ucf101_r2p1d50_SCL_20_5'\n",
    "normal_embs, anom_embs = get_embs(path, 1)\n",
    "train_embs, test_embs = sample_norm_embs(normal_embs, .8) \n",
    "clf = OneClassSVM(kernel='rbf')\n",
    "clf.fit(train_embs)"
   ]
  },
  {
   "cell_type": "markdown",
   "metadata": {},
   "source": [
    "### Roc curve on all video "
   ]
  },
  {
   "cell_type": "code",
   "execution_count": 305,
   "metadata": {},
   "outputs": [
    {
     "data": {
      "text/plain": [
       "[<matplotlib.lines.Line2D at 0x7f876451ad60>]"
      ]
     },
     "execution_count": 305,
     "metadata": {},
     "output_type": "execute_result"
    },
    {
     "data": {
      "image/png": "[encoded data removed]",
      "text/plain": [
       "<Figure size 432x288 with 1 Axes>"
      ]
     },
     "metadata": {
      "needs_background": "light"
     },
     "output_type": "display_data"
    }
   ],
   "source": [
    "y = np.array(L(1 for el in test_embs)+L(-1 for el in anom_embs))\n",
    "fpr, tps, ths = roc_curve(y, clf.decision_function(np.concatenate((test_embs,anom_embs))))\n",
    "plt.plot(fpr, tps)"
   ]
  },
  {
   "cell_type": "code",
   "execution_count": 306,
   "metadata": {},
   "outputs": [
    {
     "data": {
      "text/plain": [
       "0.49413058577868574"
      ]
     },
     "execution_count": 306,
     "metadata": {},
     "output_type": "execute_result"
    }
   ],
   "source": [
    "roc_auc_score(y, clf.decision_function(np.concatenate((test_embs,anom_embs))))"
   ]
  },
  {
   "cell_type": "markdown",
   "metadata": {},
   "source": [
    "# (2+1)D CEL fine tuning Kinetics pretraining "
   ]
  },
  {
   "cell_type": "code",
   "execution_count": 15,
   "metadata": {},
   "outputs": [],
   "source": [
    "path = '/mnt/data/eugeniomarinelli/UCF_experiments/embeddings/ucf101_r2p1d50_CEL_20_5'"
   ]
  },
  {
   "cell_type": "markdown",
   "metadata": {
    "toc-hr-collapsed": true,
    "toc-nb-collapsed": true
   },
   "source": [
    "## Isolation Forest "
   ]
  },
  {
   "cell_type": "code",
   "execution_count": 204,
   "metadata": {},
   "outputs": [
    {
     "data": {
      "text/plain": [
       "IsolationForest()"
      ]
     },
     "execution_count": 204,
     "metadata": {},
     "output_type": "execute_result"
    }
   ],
   "source": [
    "normal_embs, anom_embs = get_embs(path, 1)\n",
    "train_embs, test_embs = sample_norm_embs(normal_embs, .4) \n",
    "clf = IsolationForest(contamination='auto')\n",
    "clf.fit(train_embs)"
   ]
  },
  {
   "cell_type": "markdown",
   "metadata": {},
   "source": [
    "### ROC curve on all videos"
   ]
  },
  {
   "cell_type": "code",
   "execution_count": 205,
   "metadata": {},
   "outputs": [
    {
     "data": {
      "text/plain": [
       "[<matplotlib.lines.Line2D at 0x7f87b7926af0>]"
      ]
     },
     "execution_count": 205,
     "metadata": {},
     "output_type": "execute_result"
    },
    {
     "data": {
      "image/png": "[encoded data removed]",
      "text/plain": [
       "<Figure size 432x288 with 1 Axes>"
      ]
     },
     "metadata": {
      "needs_background": "light"
     },
     "output_type": "display_data"
    }
   ],
   "source": [
    "y = np.array(L(1 for el in test_embs)+L(-1 for el in anom_embs))\n",
    "fpr, tps, ths = roc_curve(y, clf.decision_function(np.concatenate((test_embs,anom_embs))))\n",
    "plt.plot(fpr, tps)"
   ]
  },
  {
   "cell_type": "code",
   "execution_count": 206,
   "metadata": {},
   "outputs": [
    {
     "data": {
      "text/plain": [
       "0.5629236345583537"
      ]
     },
     "execution_count": 206,
     "metadata": {},
     "output_type": "execute_result"
    }
   ],
   "source": [
    "roc_auc_score(y, clf.decision_function(np.concatenate((test_embs,anom_embs))))"
   ]
  },
  {
   "cell_type": "markdown",
   "metadata": {},
   "source": [
    "### Anomaly Detection Metrics"
   ]
  },
  {
   "cell_type": "markdown",
   "metadata": {},
   "source": [
    "## Local Outlier Factor"
   ]
  },
  {
   "cell_type": "code",
   "execution_count": 17,
   "metadata": {},
   "outputs": [
    {
     "data": {
      "text/plain": [
       "LocalOutlierFactor(metric='cosine', novelty='True')"
      ]
     },
     "execution_count": 17,
     "metadata": {},
     "output_type": "execute_result"
    }
   ],
   "source": [
    "path = '/mnt/data/eugeniomarinelli/UCF_experiments/embeddings/ucf101_r2p1d50_CEL_20_5'\n",
    "normal_embs, anom_embs = get_embs(path, 1)\n",
    "train_embs, test_embs = sample_norm_embs(normal_embs, .8) \n",
    "clf = LocalOutlierFactor(metric='cosine', novelty='True')\n",
    "clf.fit(train_embs)"
   ]
  },
  {
   "cell_type": "markdown",
   "metadata": {},
   "source": [
    "### Roc curve on all video "
   ]
  },
  {
   "cell_type": "code",
   "execution_count": 18,
   "metadata": {},
   "outputs": [
    {
     "data": {
      "text/plain": [
       "[<matplotlib.lines.Line2D at 0x7fe4bbafb880>]"
      ]
     },
     "execution_count": 18,
     "metadata": {},
     "output_type": "execute_result"
    },
    {
     "data": {
      "image/png": "[encoded data removed]",
      "text/plain": [
       "<Figure size 432x288 with 1 Axes>"
      ]
     },
     "metadata": {
      "needs_background": "light"
     },
     "output_type": "display_data"
    }
   ],
   "source": [
    "y = np.array(L(1 for el in test_embs)+L(-1 for el in anom_embs))\n",
    "fpr, tps, ths = roc_curve(y, clf.decision_function(np.concatenate((test_embs,anom_embs))))\n",
    "plt.plot(fpr, tps)"
   ]
  },
  {
   "cell_type": "code",
   "execution_count": 19,
   "metadata": {},
   "outputs": [
    {
     "data": {
      "text/plain": [
       "0.6735332593335167"
      ]
     },
     "execution_count": 19,
     "metadata": {},
     "output_type": "execute_result"
    }
   ],
   "source": [
    "roc_auc_score(y, clf.decision_function(np.concatenate((test_embs,anom_embs))))"
   ]
  },
  {
   "cell_type": "markdown",
   "metadata": {},
   "source": [
    "## One Class SVM"
   ]
  },
  {
   "cell_type": "code",
   "execution_count": 289,
   "metadata": {},
   "outputs": [
    {
     "data": {
      "text/plain": [
       "OneClassSVM()"
      ]
     },
     "execution_count": 289,
     "metadata": {},
     "output_type": "execute_result"
    }
   ],
   "source": [
    "path = '/mnt/data/eugeniomarinelli/UCF_experiments/embeddings/ucf101_r2p1d50_CEL_20_5'\n",
    "normal_embs, anom_embs = get_embs(path, 1)\n",
    "train_embs, test_embs = sample_norm_embs(normal_embs, .8) \n",
    "clf = OneClassSVM(kernel='rbf')\n",
    "clf.fit(train_embs)"
   ]
  },
  {
   "cell_type": "markdown",
   "metadata": {},
   "source": [
    "### Roc curve on all video "
   ]
  },
  {
   "cell_type": "code",
   "execution_count": 290,
   "metadata": {},
   "outputs": [
    {
     "data": {
      "text/plain": [
       "[<matplotlib.lines.Line2D at 0x7f8764c69bb0>]"
      ]
     },
     "execution_count": 290,
     "metadata": {},
     "output_type": "execute_result"
    },
    {
     "data": {
      "image/png": "[encoded data removed]",
      "text/plain": [
       "<Figure size 432x288 with 1 Axes>"
      ]
     },
     "metadata": {
      "needs_background": "light"
     },
     "output_type": "display_data"
    }
   ],
   "source": [
    "y = np.array(L(1 for el in test_embs)+L(-1 for el in anom_embs))\n",
    "fpr, tps, ths = roc_curve(y, clf.decision_function(np.concatenate((test_embs,anom_embs))))\n",
    "plt.plot(fpr, tps)"
   ]
  },
  {
   "cell_type": "code",
   "execution_count": 291,
   "metadata": {},
   "outputs": [
    {
     "data": {
      "text/plain": [
       "0.4198435376558275"
      ]
     },
     "execution_count": 291,
     "metadata": {},
     "output_type": "execute_result"
    }
   ],
   "source": [
    "roc_auc_score(y, clf.decision_function(np.concatenate((test_embs,anom_embs))))"
   ]
  },
  {
   "cell_type": "code",
   "execution_count": null,
   "metadata": {},
   "outputs": [],
   "source": []
  },
  {
   "cell_type": "markdown",
   "metadata": {},
   "source": [
    "# (2+1)D SimCLR unsupervised fine tuning Kinetics pretraining "
   ]
  },
  {
   "cell_type": "markdown",
   "metadata": {},
   "source": [
    "## Isolation Forest "
   ]
  },
  {
   "cell_type": "code",
   "execution_count": 17,
   "metadata": {},
   "outputs": [
    {
     "data": {
      "text/plain": [
       "IsolationForest()"
      ]
     },
     "execution_count": 17,
     "metadata": {},
     "output_type": "execute_result"
    }
   ],
   "source": [
    "path = '/mnt/data/eugeniomarinelli/UCF_experiments/embeddings/crimes_r2p1d50_unsup_40_5'\n",
    "normal_embs, anom_embs = get_embs(path, 1)\n",
    "train_embs, test_embs = sample_norm_embs(normal_embs, .8) \n",
    "clf = IsolationForest(contamination='auto')\n",
    "clf.fit(train_embs)"
   ]
  },
  {
   "cell_type": "markdown",
   "metadata": {},
   "source": [
    "### ROC curve on all videos"
   ]
  },
  {
   "cell_type": "code",
   "execution_count": 6,
   "metadata": {},
   "outputs": [
    {
     "data": {
      "text/plain": [
       "[<matplotlib.lines.Line2D at 0x7f450c521dc0>]"
      ]
     },
     "execution_count": 6,
     "metadata": {},
     "output_type": "execute_result"
    },
    {
     "data": {
      "image/png": "[encoded data removed]",
      "text/plain": [
       "<Figure size 432x288 with 1 Axes>"
      ]
     },
     "metadata": {
      "needs_background": "light"
     },
     "output_type": "display_data"
    }
   ],
   "source": [
    "y = np.array(L(1 for el in test_embs)+L(-1 for el in anom_embs))\n",
    "fpr, tps, ths = roc_curve(y, clf.decision_function(np.concatenate((test_embs,anom_embs))))\n",
    "plt.plot(fpr, tps)"
   ]
  },
  {
   "cell_type": "code",
   "execution_count": 7,
   "metadata": {},
   "outputs": [
    {
     "data": {
      "text/plain": [
       "0.5224642255892256"
      ]
     },
     "execution_count": 7,
     "metadata": {},
     "output_type": "execute_result"
    }
   ],
   "source": [
    "roc_auc_score(y, clf.decision_function(np.concatenate((test_embs,anom_embs))))"
   ]
  },
  {
   "cell_type": "markdown",
   "metadata": {},
   "source": [
    "### Anomaly Detection Metrics"
   ]
  },
  {
   "cell_type": "markdown",
   "metadata": {},
   "source": [
    "## Local Outlier Factor"
   ]
  },
  {
   "cell_type": "code",
   "execution_count": 18,
   "metadata": {},
   "outputs": [
    {
     "data": {
      "text/plain": [
       "LocalOutlierFactor(metric='cosine', novelty='True')"
      ]
     },
     "execution_count": 18,
     "metadata": {},
     "output_type": "execute_result"
    }
   ],
   "source": [
    "path = '/mnt/data/eugeniomarinelli/UCF_experiments/embeddings/crimes_r2p1d50_unsup_90_10_embs128'\n",
    "normal_embs, anom_embs = get_embs(path, 1)\n",
    "train_embs, test_embs = sample_norm_embs(normal_embs, .8) \n",
    "clf = LocalOutlierFactor(metric='cosine', novelty='True')\n",
    "clf.fit(train_embs)"
   ]
  },
  {
   "cell_type": "markdown",
   "metadata": {},
   "source": [
    "### ROC curve on all videos"
   ]
  },
  {
   "cell_type": "code",
   "execution_count": 19,
   "metadata": {},
   "outputs": [
    {
     "data": {
      "text/plain": [
       "[<matplotlib.lines.Line2D at 0x7f450c17aaf0>]"
      ]
     },
     "execution_count": 19,
     "metadata": {},
     "output_type": "execute_result"
    },
    {
     "data": {
      "image/png": "[encoded data removed]",
      "text/plain": [
       "<Figure size 432x288 with 1 Axes>"
      ]
     },
     "metadata": {
      "needs_background": "light"
     },
     "output_type": "display_data"
    }
   ],
   "source": [
    "y = np.array(L(1 for el in test_embs)+L(-1 for el in anom_embs))\n",
    "fpr, tps, ths = roc_curve(y, clf.decision_function(np.concatenate((test_embs,anom_embs))))\n",
    "plt.plot(fpr, tps)"
   ]
  },
  {
   "cell_type": "code",
   "execution_count": 20,
   "metadata": {},
   "outputs": [
    {
     "data": {
      "text/plain": [
       "0.6771115865444569"
      ]
     },
     "execution_count": 20,
     "metadata": {},
     "output_type": "execute_result"
    }
   ],
   "source": [
    "roc_auc_score(y, clf.decision_function(np.concatenate((test_embs,anom_embs))))"
   ]
  },
  {
   "cell_type": "markdown",
   "metadata": {},
   "source": [
    "## One Class SVM"
   ]
  },
  {
   "cell_type": "code",
   "execution_count": 21,
   "metadata": {},
   "outputs": [
    {
     "data": {
      "text/plain": [
       "OneClassSVM()"
      ]
     },
     "execution_count": 21,
     "metadata": {},
     "output_type": "execute_result"
    }
   ],
   "source": [
    "path = '/mnt/data/eugeniomarinelli/UCF_experiments/embeddings/crimes_r2p1d50_unsup_90_10_embs128'\n",
    "normal_embs, anom_embs = get_embs(path, 1)\n",
    "train_embs, test_embs = sample_norm_embs(normal_embs, .8) \n",
    "clf = OneClassSVM(kernel='rbf')\n",
    "clf.fit(train_embs)"
   ]
  },
  {
   "cell_type": "markdown",
   "metadata": {},
   "source": [
    "### Roc curve on all video "
   ]
  },
  {
   "cell_type": "code",
   "execution_count": 22,
   "metadata": {},
   "outputs": [
    {
     "data": {
      "text/plain": [
       "[<matplotlib.lines.Line2D at 0x7f450d5c5ac0>]"
      ]
     },
     "execution_count": 22,
     "metadata": {},
     "output_type": "execute_result"
    },
    {
     "data": {
      "image/png": "[encoded data removed]",
      "text/plain": [
       "<Figure size 432x288 with 1 Axes>"
      ]
     },
     "metadata": {
      "needs_background": "light"
     },
     "output_type": "display_data"
    }
   ],
   "source": [
    "y = np.array(L(1 for el in test_embs)+L(-1 for el in anom_embs))\n",
    "fpr, tps, ths = roc_curve(y, clf.decision_function(np.concatenate((test_embs,anom_embs))))\n",
    "plt.plot(fpr, tps)"
   ]
  },
  {
   "cell_type": "code",
   "execution_count": 23,
   "metadata": {},
   "outputs": [
    {
     "data": {
      "text/plain": [
       "0.5473918389138297"
      ]
     },
     "execution_count": 23,
     "metadata": {},
     "output_type": "execute_result"
    }
   ],
   "source": [
    "roc_auc_score(y, clf.decision_function(np.concatenate((test_embs,anom_embs))))"
   ]
  },
  {
   "cell_type": "markdown",
   "metadata": {},
   "source": [
    "## Create embeddings\n"
   ]
  },
  {
   "cell_type": "code",
   "execution_count": 2,
   "metadata": {},
   "outputs": [],
   "source": [
    "import torch"
   ]
  },
  {
   "cell_type": "code",
   "execution_count": 7,
   "metadata": {},
   "outputs": [],
   "source": [
    "model = torch.load('/mnt/data/eugeniomarinelli/UCF_experiments/trained_models_cnn/models/model_ucfCrimes_r2p1d50_K_unsup_100ep.pth')\n",
    "model = model.eval().cuda()\n",
    "save_path = Path('/mnt/data/eugeniomarinelli/UCF_experiments/embeddings/crimes_r2p1d50_unsup_90_10')"
   ]
  },
  {
   "cell_type": "code",
   "execution_count": 16,
   "metadata": {},
   "outputs": [],
   "source": [
    "#df = pd.read_csv('/mnt/data/eugeniomarinelli/UCF_Crimes/Temporal_Anomaly_Annotation.csv', index_col=0)\n",
    "#df = df[df.anomaly!='Normal']\n",
    "# df = df[2:3]\n",
    "\n",
    "\n",
    "mean = [0.4345, 0.4051, 0.3775]\n",
    "std = [0.2768, 0.2713, 0.2737]\n",
    "\n",
    "bs, size, l, skip = 32, 224, 16, 2\n",
    "pl = Pipeline([PILImage.create,\n",
    "               Resize(size, method=ResizeMethod.Pad), \n",
    "               ToTensor(), \n",
    "               IntToFloatTensor(), \n",
    "               Normalize.from_stats(mean,std, cuda=False)])\n",
    "\n",
    "try: \n",
    "    with torch.no_grad():\n",
    "        create_embeddings(df, model, pl, bs, size, l, skip, save_path)\n",
    "except: vidcap.release(); raise Exception()"
   ]
  },
  {
   "cell_type": "code",
   "execution_count": 15,
   "metadata": {},
   "outputs": [],
   "source": [
    "#df=df.loc[(df.anomaly== \"Shooting\")|(df.anomaly== \"Shoplifting\")|(df.anomaly== \"Stealing\")|(df.anomaly== \"Stealing\")]"
   ]
  },
  {
   "cell_type": "code",
   "execution_count": null,
   "metadata": {},
   "outputs": [],
   "source": []
  }
 ],
 "metadata": {
  "kernelspec": {
   "display_name": "Python 3",
   "language": "python",
   "name": "python3"
  },
  "language_info": {
   "codemirror_mode": {
    "name": "ipython",
    "version": 3
   },
   "file_extension": ".py",
   "mimetype": "text/x-python",
   "name": "python",
   "nbconvert_exporter": "python",
   "pygments_lexer": "ipython3",
   "version": "3.8.3"
  }
 },
 "nbformat": 4,
 "nbformat_minor": 4
}
